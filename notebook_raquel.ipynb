{
 "cells": [
  {
   "cell_type": "markdown",
   "id": "0114ba09-ee94-47db-9218-1a6cd3cf3969",
   "metadata": {},
   "source": [
    "# Setup"
   ]
  },
  {
   "cell_type": "code",
   "execution_count": null,
   "id": "8d257959-7dc4-4138-9780-c6e0291568fa",
   "metadata": {},
   "outputs": [],
   "source": [
    "import pandas as pd"
   ]
  },
  {
   "cell_type": "code",
   "execution_count": null,
   "id": "848fa7f0-fd0e-47d6-b2cf-b594a2be4ca7",
   "metadata": {},
   "outputs": [],
   "source": [
    "# The following two lines are only necessary to run once.\n",
    "# Comment out otherwise for speed-up.\n",
    "from google.cloud.bigquery import Client, QueryJobConfig\n",
    "client = Client()\n",
    "\n",
    "query = \"\"\"SELECT * FROM `hacka-dados.hacka_dados.tabela_dados_hacka`\"\"\"\n",
    "job = client.query(query)\n",
    "df = job.to_dataframe()"
   ]
  },
  {
   "cell_type": "markdown",
   "id": "5ff81534-8898-4716-8eab-8b2cfe639abb",
   "metadata": {},
   "source": [
    "# Carregar dataframe"
   ]
  },
  {
   "cell_type": "code",
   "execution_count": null,
   "id": "ce7f3683-8d92-4e1e-92ae-1bcaf20cad64",
   "metadata": {},
   "outputs": [
    {
     "data": {
      "text/html": [
       "<div>\n",
       "<style scoped>\n",
       "    .dataframe tbody tr th:only-of-type {\n",
       "        vertical-align: middle;\n",
       "    }\n",
       "\n",
       "    .dataframe tbody tr th {\n",
       "        vertical-align: top;\n",
       "    }\n",
       "\n",
       "    .dataframe thead th {\n",
       "        text-align: right;\n",
       "    }\n",
       "</style>\n",
       "<table border=\"1\" class=\"dataframe\">\n",
       "  <thead>\n",
       "    <tr style=\"text-align: right;\">\n",
       "      <th></th>\n",
       "      <th>ID</th>\n",
       "      <th>Capacidade_de_Pagamento_7</th>\n",
       "      <th>tempo_desde_primeiro_contrato</th>\n",
       "      <th>tempo_desde_ultimo_contrato</th>\n",
       "      <th>QTD_SEGURO</th>\n",
       "      <th>QTD_OUTROS</th>\n",
       "      <th>QTD_CP_CONSIGNADO</th>\n",
       "      <th>QTD_CDCCG</th>\n",
       "      <th>QTD_CONTA_DIGITAL</th>\n",
       "      <th>QTD_CARTAO</th>\n",
       "      <th>...</th>\n",
       "      <th>GC_OfertaNegociacao_3m</th>\n",
       "      <th>CD_Boleto_3m</th>\n",
       "      <th>CX_Cliente_NaoCompreende_3m</th>\n",
       "      <th>PL_Sem_Condicoes_3m</th>\n",
       "      <th>NV_DC10_Cliente_alega_pagamento_3m</th>\n",
       "      <th>NV_FC_NEGOCIACAO_COM_SUCESSO_3m</th>\n",
       "      <th>NV_BP4_Informa_o_desconto_3m</th>\n",
       "      <th>Duracao_segundos</th>\n",
       "      <th>fl_renovou</th>\n",
       "      <th>VrFinanciamento</th>\n",
       "    </tr>\n",
       "  </thead>\n",
       "  <tbody>\n",
       "    <tr>\n",
       "      <th>0</th>\n",
       "      <td>0</td>\n",
       "      <td>4</td>\n",
       "      <td>1267.0</td>\n",
       "      <td>251.0</td>\n",
       "      <td>5</td>\n",
       "      <td>0</td>\n",
       "      <td>0</td>\n",
       "      <td>1</td>\n",
       "      <td>0</td>\n",
       "      <td>1</td>\n",
       "      <td>...</td>\n",
       "      <td>NaN</td>\n",
       "      <td>NaN</td>\n",
       "      <td>NaN</td>\n",
       "      <td>NaN</td>\n",
       "      <td>NaN</td>\n",
       "      <td>NaN</td>\n",
       "      <td>NaN</td>\n",
       "      <td>NaN</td>\n",
       "      <td>0</td>\n",
       "      <td>-0.323663</td>\n",
       "    </tr>\n",
       "    <tr>\n",
       "      <th>1</th>\n",
       "      <td>1</td>\n",
       "      <td>4</td>\n",
       "      <td>1797.0</td>\n",
       "      <td>236.0</td>\n",
       "      <td>4</td>\n",
       "      <td>0</td>\n",
       "      <td>0</td>\n",
       "      <td>1</td>\n",
       "      <td>0</td>\n",
       "      <td>0</td>\n",
       "      <td>...</td>\n",
       "      <td>NaN</td>\n",
       "      <td>NaN</td>\n",
       "      <td>NaN</td>\n",
       "      <td>NaN</td>\n",
       "      <td>NaN</td>\n",
       "      <td>NaN</td>\n",
       "      <td>NaN</td>\n",
       "      <td>52.0</td>\n",
       "      <td>0</td>\n",
       "      <td>0.882514</td>\n",
       "    </tr>\n",
       "    <tr>\n",
       "      <th>2</th>\n",
       "      <td>2</td>\n",
       "      <td>4</td>\n",
       "      <td>268.0</td>\n",
       "      <td>18.0</td>\n",
       "      <td>3</td>\n",
       "      <td>0</td>\n",
       "      <td>0</td>\n",
       "      <td>0</td>\n",
       "      <td>0</td>\n",
       "      <td>1</td>\n",
       "      <td>...</td>\n",
       "      <td>NaN</td>\n",
       "      <td>NaN</td>\n",
       "      <td>NaN</td>\n",
       "      <td>NaN</td>\n",
       "      <td>NaN</td>\n",
       "      <td>NaN</td>\n",
       "      <td>NaN</td>\n",
       "      <td>81.0</td>\n",
       "      <td>0</td>\n",
       "      <td>-0.385405</td>\n",
       "    </tr>\n",
       "    <tr>\n",
       "      <th>3</th>\n",
       "      <td>3</td>\n",
       "      <td>8</td>\n",
       "      <td>422.0</td>\n",
       "      <td>323.0</td>\n",
       "      <td>3</td>\n",
       "      <td>0</td>\n",
       "      <td>0</td>\n",
       "      <td>0</td>\n",
       "      <td>0</td>\n",
       "      <td>0</td>\n",
       "      <td>...</td>\n",
       "      <td>NaN</td>\n",
       "      <td>NaN</td>\n",
       "      <td>NaN</td>\n",
       "      <td>NaN</td>\n",
       "      <td>NaN</td>\n",
       "      <td>NaN</td>\n",
       "      <td>NaN</td>\n",
       "      <td>97.0</td>\n",
       "      <td>0</td>\n",
       "      <td>-0.707045</td>\n",
       "    </tr>\n",
       "    <tr>\n",
       "      <th>4</th>\n",
       "      <td>4</td>\n",
       "      <td>8</td>\n",
       "      <td>5073.0</td>\n",
       "      <td>252.0</td>\n",
       "      <td>3</td>\n",
       "      <td>0</td>\n",
       "      <td>0</td>\n",
       "      <td>0</td>\n",
       "      <td>0</td>\n",
       "      <td>0</td>\n",
       "      <td>...</td>\n",
       "      <td>NaN</td>\n",
       "      <td>NaN</td>\n",
       "      <td>NaN</td>\n",
       "      <td>NaN</td>\n",
       "      <td>NaN</td>\n",
       "      <td>NaN</td>\n",
       "      <td>NaN</td>\n",
       "      <td>276.0</td>\n",
       "      <td>0</td>\n",
       "      <td>1.035186</td>\n",
       "    </tr>\n",
       "  </tbody>\n",
       "</table>\n",
       "<p>5 rows × 306 columns</p>\n",
       "</div>"
      ],
      "text/plain": [
       "   ID  Capacidade_de_Pagamento_7  tempo_desde_primeiro_contrato  \\\n",
       "0   0                          4                         1267.0   \n",
       "1   1                          4                         1797.0   \n",
       "2   2                          4                          268.0   \n",
       "3   3                          8                          422.0   \n",
       "4   4                          8                         5073.0   \n",
       "\n",
       "   tempo_desde_ultimo_contrato QTD_SEGURO  QTD_OUTROS  QTD_CP_CONSIGNADO  \\\n",
       "0                        251.0          5           0                  0   \n",
       "1                        236.0          4           0                  0   \n",
       "2                         18.0          3           0                  0   \n",
       "3                        323.0          3           0                  0   \n",
       "4                        252.0          3           0                  0   \n",
       "\n",
       "   QTD_CDCCG  QTD_CONTA_DIGITAL  QTD_CARTAO  ...  GC_OfertaNegociacao_3m  \\\n",
       "0          1                  0           1  ...                     NaN   \n",
       "1          1                  0           0  ...                     NaN   \n",
       "2          0                  0           1  ...                     NaN   \n",
       "3          0                  0           0  ...                     NaN   \n",
       "4          0                  0           0  ...                     NaN   \n",
       "\n",
       "   CD_Boleto_3m  CX_Cliente_NaoCompreende_3m  PL_Sem_Condicoes_3m  \\\n",
       "0           NaN                          NaN                  NaN   \n",
       "1           NaN                          NaN                  NaN   \n",
       "2           NaN                          NaN                  NaN   \n",
       "3           NaN                          NaN                  NaN   \n",
       "4           NaN                          NaN                  NaN   \n",
       "\n",
       "   NV_DC10_Cliente_alega_pagamento_3m  NV_FC_NEGOCIACAO_COM_SUCESSO_3m  \\\n",
       "0                                 NaN                              NaN   \n",
       "1                                 NaN                              NaN   \n",
       "2                                 NaN                              NaN   \n",
       "3                                 NaN                              NaN   \n",
       "4                                 NaN                              NaN   \n",
       "\n",
       "   NV_BP4_Informa_o_desconto_3m  Duracao_segundos  fl_renovou  VrFinanciamento  \n",
       "0                           NaN               NaN           0        -0.323663  \n",
       "1                           NaN              52.0           0         0.882514  \n",
       "2                           NaN              81.0           0        -0.385405  \n",
       "3                           NaN              97.0           0        -0.707045  \n",
       "4                           NaN             276.0           0         1.035186  \n",
       "\n",
       "[5 rows x 306 columns]"
      ]
     },
     "execution_count": 273,
     "metadata": {},
     "output_type": "execute_result"
    }
   ],
   "source": [
    "df.head()"
   ]
  },
  {
   "cell_type": "code",
   "execution_count": null,
   "id": "d6812fe6-78e4-41c1-a049-f7cf0853d182",
   "metadata": {},
   "outputs": [
    {
     "data": {
      "text/plain": [
       "Index(['ID', 'Capacidade_de_Pagamento_7', 'tempo_desde_primeiro_contrato',\n",
       "       'tempo_desde_ultimo_contrato', 'QTD_SEGURO', 'QTD_OUTROS',\n",
       "       'QTD_CP_CONSIGNADO', 'QTD_CDCCG', 'QTD_CONTA_DIGITAL', 'QTD_CARTAO',\n",
       "       ...\n",
       "       'GC_OfertaNegociacao_3m', 'CD_Boleto_3m', 'CX_Cliente_NaoCompreende_3m',\n",
       "       'PL_Sem_Condicoes_3m', 'NV_DC10_Cliente_alega_pagamento_3m',\n",
       "       'NV_FC_NEGOCIACAO_COM_SUCESSO_3m', 'NV_BP4_Informa_o_desconto_3m',\n",
       "       'Duracao_segundos', 'fl_renovou', 'VrFinanciamento'],\n",
       "      dtype='object', length=306)"
      ]
     },
     "execution_count": 274,
     "metadata": {},
     "output_type": "execute_result"
    }
   ],
   "source": [
    "df.columns"
   ]
  },
  {
   "cell_type": "code",
   "execution_count": null,
   "id": "61bde935-1084-4ec2-89ca-a8dd20d47548",
   "metadata": {},
   "outputs": [
    {
     "name": "stdout",
     "output_type": "stream",
     "text": [
      "<class 'pandas.core.frame.DataFrame'>\n",
      "RangeIndex: 50000 entries, 0 to 49999\n",
      "Columns: 306 entries, ID to VrFinanciamento\n",
      "dtypes: float64(286), int64(13), object(7)\n",
      "memory usage: 116.7+ MB\n"
     ]
    }
   ],
   "source": [
    "df.info()"
   ]
  },
  {
   "cell_type": "markdown",
   "id": "3a37cd68-5ed3-442f-92f6-b809e3344fca",
   "metadata": {},
   "source": [
    "# Variavéis Categóricas"
   ]
  },
  {
   "cell_type": "code",
   "execution_count": null,
   "id": "53246b31-1979-4fe9-9f73-23ad1417071d",
   "metadata": {},
   "outputs": [
    {
     "data": {
      "text/plain": [
       "['QTD_SEGURO',\n",
       " 'NmMotivoContratoFinanceiro',\n",
       " 'Sub_Produto',\n",
       " 'CdMarca',\n",
       " 'FlZeroKm',\n",
       " 'CdUfNaturalidade',\n",
       " 'CdOcupacaoCBO']"
      ]
     },
     "execution_count": 276,
     "metadata": {},
     "output_type": "execute_result"
    }
   ],
   "source": [
    "list(df.select_dtypes(['object']).columns)"
   ]
  },
  {
   "cell_type": "code",
   "execution_count": null,
   "id": "c5d0ae7e-eda7-4fcf-87ab-0c3d623c2aeb",
   "metadata": {},
   "outputs": [
    {
     "data": {
      "text/plain": [
       "array(['Centro-oeste', 'Sudeste', 'Sul', 'Norte', 'Nordeste', 'nan'],\n",
       "      dtype=object)"
      ]
     },
     "execution_count": 277,
     "metadata": {},
     "output_type": "execute_result"
    }
   ],
   "source": [
    "df.CdUfNaturalidade.unique()"
   ]
  },
  {
   "cell_type": "code",
   "execution_count": null,
   "id": "ff50dea7-04a9-4f25-8b35-d25b296001f6",
   "metadata": {},
   "outputs": [
    {
     "data": {
      "text/plain": [
       "Sudeste         23228\n",
       "Sul             10456\n",
       "Nordeste         6831\n",
       "Centro-oeste     3976\n",
       "Norte            3046\n",
       "nan              2463\n",
       "Name: CdUfNaturalidade, dtype: int64"
      ]
     },
     "execution_count": 278,
     "metadata": {},
     "output_type": "execute_result"
    }
   ],
   "source": [
    "df.CdUfNaturalidade.value_counts()"
   ]
  },
  {
   "cell_type": "code",
   "execution_count": null,
   "id": "af787022-16cb-4b36-8d9c-66017f11864c",
   "metadata": {},
   "outputs": [
    {
     "data": {
      "text/plain": [
       "13"
      ]
     },
     "execution_count": 279,
     "metadata": {},
     "output_type": "execute_result"
    }
   ],
   "source": [
    "df.QTD_SEGURO.nunique()"
   ]
  },
  {
   "cell_type": "code",
   "execution_count": null,
   "id": "ab5951dd-67d6-4ea4-abe0-641088f50e66",
   "metadata": {},
   "outputs": [
    {
     "data": {
      "text/plain": [
       "array(['5', '4', '3', '2', '1', '9', '6', '7', '12', '11', '12 ou +',\n",
       "       '10', '8'], dtype=object)"
      ]
     },
     "execution_count": 280,
     "metadata": {},
     "output_type": "execute_result"
    }
   ],
   "source": [
    "df.QTD_SEGURO.unique()"
   ]
  },
  {
   "cell_type": "code",
   "execution_count": null,
   "id": "e38ad68e-f236-492e-bf3d-59b7f8e46308",
   "metadata": {},
   "outputs": [
    {
     "data": {
      "text/plain": [
       "array(['N', 'S', ''], dtype=object)"
      ]
     },
     "execution_count": 281,
     "metadata": {},
     "output_type": "execute_result"
    }
   ],
   "source": [
    "df.FlZeroKm.unique()"
   ]
  },
  {
   "cell_type": "code",
   "execution_count": null,
   "id": "208258cc-013e-48f4-bd96-2c050c3a9a9f",
   "metadata": {},
   "outputs": [
    {
     "data": {
      "text/plain": [
       "N    49274\n",
       "S      665\n",
       "        61\n",
       "Name: FlZeroKm, dtype: int64"
      ]
     },
     "execution_count": 282,
     "metadata": {},
     "output_type": "execute_result"
    }
   ],
   "source": [
    "df.FlZeroKm.value_counts()"
   ]
  },
  {
   "cell_type": "code",
   "execution_count": null,
   "id": "672cfdf9-145e-4605-b961-4d2935ff4a7a",
   "metadata": {},
   "outputs": [
    {
     "data": {
      "text/plain": [
       "array(['FIAT', 'VOLKSWAGEN', 'NISSAN', 'Outros', 'RENAULT', 'FORD',\n",
       "       'CHEVROLET', 'PEUGEOT', 'HONDA', 'TOYOTA', 'HYUNDAI', 'KIA',\n",
       "       'MITSUBISHI', 'CITROEN', '', 'MERCEDES-BENZ', 'JEEP'], dtype=object)"
      ]
     },
     "execution_count": 283,
     "metadata": {},
     "output_type": "execute_result"
    }
   ],
   "source": [
    "df.CdMarca.unique()"
   ]
  },
  {
   "cell_type": "code",
   "execution_count": null,
   "id": "33e6b7d5-e7b0-4ab5-85ec-e498a51b900f",
   "metadata": {},
   "outputs": [
    {
     "data": {
      "text/plain": [
       "VOLKSWAGEN       10441\n",
       "FIAT              9801\n",
       "CHEVROLET         8623\n",
       "FORD              4541\n",
       "RENAULT           3380\n",
       "HYUNDAI           3175\n",
       "TOYOTA            2139\n",
       "HONDA             2076\n",
       "CITROEN           1309\n",
       "PEUGEOT           1040\n",
       "Outros             824\n",
       "NISSAN             781\n",
       "MITSUBISHI         648\n",
       "KIA                635\n",
       "JEEP               242\n",
       "MERCEDES-BENZ      226\n",
       "                   119\n",
       "Name: CdMarca, dtype: int64"
      ]
     },
     "execution_count": 284,
     "metadata": {},
     "output_type": "execute_result"
    }
   ],
   "source": [
    "df.CdMarca.value_counts()"
   ]
  },
  {
   "cell_type": "code",
   "execution_count": null,
   "id": "3aba6f22-118b-4587-b991-98451f9a38de",
   "metadata": {},
   "outputs": [
    {
     "data": {
      "text/plain": [
       "array(['FLUXO FINANCEIRO INICIAL', 'CONTRATO CEDIDO (FIDC)',\n",
       "       'RENEGOCIAÇAO', 'SALDO REMANESCENTE',\n",
       "       'CORREÇAO DE FLUXO FINANCEIRO / REIMPLANTE'], dtype=object)"
      ]
     },
     "execution_count": 285,
     "metadata": {},
     "output_type": "execute_result"
    }
   ],
   "source": [
    "df.NmMotivoContratoFinanceiro.unique()"
   ]
  },
  {
   "cell_type": "code",
   "execution_count": null,
   "id": "2079a39b-db37-45fc-82ec-e4d2e2a85435",
   "metadata": {},
   "outputs": [
    {
     "data": {
      "text/plain": [
       "FLUXO FINANCEIRO INICIAL                     1190\n",
       "CONTRATO CEDIDO (FIDC)                        279\n",
       "RENEGOCIAÇAO                                  106\n",
       "SALDO REMANESCENTE                             11\n",
       "CORREÇAO DE FLUXO FINANCEIRO / REIMPLANTE       4\n",
       "Name: NmMotivoContratoFinanceiro, dtype: int64"
      ]
     },
     "execution_count": 268,
     "metadata": {},
     "output_type": "execute_result"
    }
   ],
   "source": [
    "df.NmMotivoContratoFinanceiro[df.fl_renovou == 1].value_counts()"
   ]
  },
  {
   "cell_type": "code",
   "execution_count": null,
   "id": "983707d6-688f-4b8c-af89-c4ba4a0b6865",
   "metadata": {},
   "outputs": [
    {
     "data": {
      "text/plain": [
       "FLUXO FINANCEIRO INICIAL                     36390\n",
       "CONTRATO CEDIDO (FIDC)                        9084\n",
       "RENEGOCIAÇAO                                  4027\n",
       "SALDO REMANESCENTE                             420\n",
       "CORREÇAO DE FLUXO FINANCEIRO / REIMPLANTE       79\n",
       "Name: NmMotivoContratoFinanceiro, dtype: int64"
      ]
     },
     "execution_count": 286,
     "metadata": {},
     "output_type": "execute_result"
    }
   ],
   "source": [
    "df.NmMotivoContratoFinanceiro.value_counts()"
   ]
  },
  {
   "cell_type": "code",
   "execution_count": null,
   "id": "64a50396-a62a-4d34-bc49-1c523cb87908",
   "metadata": {},
   "outputs": [
    {
     "data": {
      "text/plain": [
       "array(['CDC VEICULOS DE PASSEIO', 'REFINANCIAMENTO VEICULOS DE PASSEIO',\n",
       "       'Outros', 'CDC CAMINHOES', 'PRE APROVADO CDC VEICULOS DE PASSEIO',\n",
       "       'CDC VANS e MICRO-ONIBUS', 'MOTO', 'CP COM GARANTIA'], dtype=object)"
      ]
     },
     "execution_count": 287,
     "metadata": {},
     "output_type": "execute_result"
    }
   ],
   "source": [
    "df.Sub_Produto.unique()"
   ]
  },
  {
   "cell_type": "code",
   "execution_count": null,
   "id": "9ed999d5-5232-432d-9243-754e139d1bc2",
   "metadata": {},
   "outputs": [
    {
     "data": {
      "text/plain": [
       "CDC VEICULOS DE PASSEIO                 1533\n",
       "REFINANCIAMENTO VEICULOS DE PASSEIO       27\n",
       "CDC VANS e MICRO-ONIBUS                   12\n",
       "MOTO                                       9\n",
       "CDC CAMINHOES                              4\n",
       "PRE APROVADO CDC VEICULOS DE PASSEIO       3\n",
       "CP COM GARANTIA                            2\n",
       "Name: Sub_Produto, dtype: int64"
      ]
     },
     "execution_count": 288,
     "metadata": {},
     "output_type": "execute_result"
    }
   ],
   "source": [
    "df.Sub_Produto[df.fl_renovou == 1].value_counts()"
   ]
  },
  {
   "cell_type": "code",
   "execution_count": null,
   "id": "4f65147a-3057-49a3-bb35-5264dda670d9",
   "metadata": {},
   "outputs": [
    {
     "data": {
      "text/plain": [
       "CDC VEICULOS DE PASSEIO                 47004\n",
       "REFINANCIAMENTO VEICULOS DE PASSEIO      1560\n",
       "MOTO                                      540\n",
       "CDC VANS e MICRO-ONIBUS                   336\n",
       "PRE APROVADO CDC VEICULOS DE PASSEIO      333\n",
       "CP COM GARANTIA                           113\n",
       "CDC CAMINHOES                              83\n",
       "Outros                                     31\n",
       "Name: Sub_Produto, dtype: int64"
      ]
     },
     "execution_count": 289,
     "metadata": {},
     "output_type": "execute_result"
    }
   ],
   "source": [
    "df.Sub_Produto.value_counts()"
   ]
  },
  {
   "cell_type": "markdown",
   "id": "f3f6c3fb-047c-4522-9c89-918556a6441d",
   "metadata": {},
   "source": [
    "# Taxa de renovação"
   ]
  },
  {
   "cell_type": "markdown",
   "id": "9a690fd4-781d-48a0-8b76-ef34b0cc9c7e",
   "metadata": {},
   "source": [
    "Objetivo: Dobrar taxa de renovação"
   ]
  },
  {
   "cell_type": "code",
   "execution_count": null,
   "id": "4cd567b1-01aa-4d61-8407-4798a5b0aed0",
   "metadata": {},
   "outputs": [
    {
     "name": "stdout",
     "output_type": "stream",
     "text": [
      "TAXA DE RENOVAÇÃO 3.18\n"
     ]
    }
   ],
   "source": [
    "print(\"TAXA DE RENOVAÇÃO\",(df['fl_renovou'].sum()/len(df))*100)"
   ]
  },
  {
   "cell_type": "markdown",
   "id": "c666d529-e5c2-42ad-bcba-546492984938",
   "metadata": {},
   "source": [
    "# Colunas com muitos valores ausentes"
   ]
  },
  {
   "cell_type": "code",
   "execution_count": null,
   "id": "05c764de-b14d-49e8-adfd-0b45e1b7d850",
   "metadata": {},
   "outputs": [
    {
     "data": {
      "text/plain": [
       "CD_Quitacao_6m                                    49151\n",
       "NV_CX_Direcionamento_Outro_Canal_3m               49111\n",
       "CD_Boleto_3m                                      48992\n",
       "CD_Cartao_3m                                      48977\n",
       "NV_FC_NEGOCIACAO_COM_SUCESSO_3m                   48935\n",
       "CX_Oferta_6m                                      48886\n",
       "NV_P3_Quitacao_6m                                 48867\n",
       "CX_Busca_Informacoes_6m                           48841\n",
       "CX_Cliente_NaoCompreende_3m                       48773\n",
       "NV_CX_Ligar_de_Volta_3m                           48735\n",
       "NV_CX_Atendimento_Diferenciado_6m                 48686\n",
       "CD_Seguro_6m                                      48646\n",
       "NV_P9_Pagamento_parcial__flexibilidade__6m        48646\n",
       "NV_DC1_Cliente_nao_esta_com_o_valor_em_maos_6m    48550\n",
       "NV_BP4_Informa_o_desconto_3m                      48509\n",
       "CX_Cancelamento_6m                                48504\n",
       "MOT_Informacao_3m                                 48502\n",
       "CX_Pesquisa_Satisfacao_3m                         48414\n",
       "NV_CX_Titular_3m                                  48398\n",
       "CD_Boleto_6m                                      48394\n",
       "PL_Sem_Condicoes_3m                               48308\n",
       "NV_DC10_Cliente_alega_pagamento_3m                48290\n",
       "CX_Usabilidade_6m                                 48162\n",
       "NV_DC3_Nao_e_o_responsavel_do_financiamento_3m    48064\n",
       "NV_CX_Transferencia_6m                            48062\n",
       "MOT_Servicos_3m                                   48045\n",
       "NV_DC10_Cliente_alega_pagamento_6m                48012\n",
       "NV_CX_Ligar_de_Volta_6m                           47962\n",
       "NV_CD_Boleto_2da_via_6m                           47885\n",
       "GC_OfertaNegociacao_3m                            47806\n",
       "CX_Cortesia_3m                                    47791\n",
       "NV_FC_NEGOCIACAO_COM_SUCESSO_6m                   47785\n",
       "NV_CX_Rechamadas_6m                               47759\n",
       "NV_CX_Direcionamento_Outro_Canal_6m               47748\n",
       "NV_BP4_Informa_o_desconto_6m                      47682\n",
       "CX_Cliente_NaoCompreende_6m                       47682\n",
       "CD_Cartao_6m                                      47652\n",
       "NV_CX_PID_3m                                      47540\n",
       "PL_Sem_Condicoes_6m                               47285\n",
       "Produto_Veiculo_3m                                47277\n",
       "dtype: int64"
      ]
     },
     "execution_count": 291,
     "metadata": {},
     "output_type": "execute_result"
    }
   ],
   "source": [
    "df.isna().sum().sort_values(ascending=False).head(40)"
   ]
  },
  {
   "cell_type": "code",
   "execution_count": null,
   "id": "ea764953-c743-42bf-b935-a74453d45749",
   "metadata": {},
   "outputs": [],
   "source": [
    "# Listas com os nomes das colunas para facilitar consulta"
   ]
  },
  {
   "cell_type": "code",
   "execution_count": null,
   "id": "5a918977-e278-4b8b-a706-30d761dc78b4",
   "metadata": {},
   "outputs": [],
   "source": [
    "colunas = [c for c in df.columns]\n",
    "\n",
    "mailing = ['fl_renovou','Duracao_segundos']\n",
    "\n",
    "cadastrais = ['CdUfNaturalidade','Grupo_Etario','VrRenda','CdOcupacaoCBO']\n",
    "\n",
    "contratuais = ['NmMotivoContratoFinanceiro','Sub_Produto','VrContrato','VrFinanciamento','VrEntrada','QtParcelas','AaFabricacaoVeiculo',\n",
    "'CdMarca','VrMercado','FlZeroKm','QtCilindradaVeiculo','QtQuilometragemVeiculo','QtAnoIdade']\n",
    "\n",
    "scores = ['Capacidade_de_Pagamento_1','Capacidade_de_Pagamento_2','Capacidade_de_Pagamento_3','Capacidade_de_Pagamento_4',\n",
    "'Capacidade_de_Pagamento_5','Capacidade_de_Pagamento_6','Capacidade_de_Pagamento_7']\n",
    "\n",
    "relacionamentoBV = ['tempo_desde_primeiro_contrato','tempo_desde_ultimo_contrato','QTD_SEGURO','QTD_CP_CONSIGNADO','QTD_CDCCG',\n",
    "'QTD_CONTA_DIGITAL','QTD_CARTAO','QTD_CP','QTD_OUTROS','flmat30conta','flmat60conta','flmat90conta','flmau30conta','flmau60conta',\n",
    "'flmau90conta']\n",
    "\n",
    "f1 = [c for c in colunas if 'F1' in c]\n",
    "\n",
    "f2 = [c for c in colunas if 'F2' in c]\n",
    "\n",
    "f3 = [c for c in colunas if 'F3' in c]\n",
    "\n",
    "f4 = [c for c in colunas if 'F4' in c]\n",
    "\n",
    "m3 = [c for c in colunas if '3m' in c]\n",
    "\n",
    "m6 = [c for c in colunas if '6m' in c]\n"
   ]
  },
  {
   "cell_type": "code",
   "execution_count": null,
   "id": "080d68d5-8622-4eaf-8174-de09b3ce412a",
   "metadata": {},
   "outputs": [
    {
     "name": "stdout",
     "output_type": "stream",
     "text": [
      "41\n"
     ]
    }
   ],
   "source": [
    "print(len(mailing)+len(cadastrais)+len(contratuais)+len(scores)+len(relacionamentoBV))"
   ]
  },
  {
   "cell_type": "code",
   "execution_count": null,
   "id": "d97b3870-39f9-4716-8381-b2075033ad17",
   "metadata": {},
   "outputs": [],
   "source": [
    "df[f1] = df[f1].replace(np.nan,0)\n",
    "df[f2] = df[f2].replace(np.nan,0)\n",
    "df[f3] = df[f3].replace(np.nan,0)\n",
    "df[f4] = df[f4].replace(np.nan,0)\n",
    "\n",
    "\n",
    "df['f1'] = df[f1].sum(axis=1)\n",
    "df['f2'] = df[f2].sum(axis=1)\n",
    "df['f3'] = df[f3].sum(axis=1)\n",
    "df['f4'] = df[f4].sum(axis=1)\n"
   ]
  },
  {
   "cell_type": "code",
   "execution_count": null,
   "id": "c19473da-4b80-4d5b-970a-f29285c415bb",
   "metadata": {},
   "outputs": [],
   "source": [
    "df[m3] = df[m3].replace(np.nan,0)\n",
    "df[m6] = df[m6].replace(np.nan,0)\n",
    "\n",
    "df['3m'] = df[m3].sum(axis=1)\n",
    "df['6m'] = df[m6].sum(axis=1)"
   ]
  },
  {
   "cell_type": "code",
   "execution_count": null,
   "id": "693305a3-b265-48b5-833a-d080cf8d9542",
   "metadata": {},
   "outputs": [
    {
     "data": {
      "text/plain": [
       "count    19669.000000\n",
       "mean       186.223956\n",
       "std        309.796218\n",
       "min         13.000000\n",
       "25%         57.000000\n",
       "50%         92.000000\n",
       "75%        161.000000\n",
       "max       5462.000000\n",
       "Name: Duracao_segundos, dtype: float64"
      ]
     },
     "execution_count": 257,
     "metadata": {},
     "output_type": "execute_result"
    }
   ],
   "source": [
    "df['Duracao_segundos'].describe()"
   ]
  },
  {
   "cell_type": "code",
   "execution_count": null,
   "id": "bcedfe23-16fb-40ae-8a2b-c641caf0b626",
   "metadata": {},
   "outputs": [
    {
     "data": {
      "image/png": "[encoded data removed]",
      "text/plain": [
       "<Figure size 432x288 with 1 Axes>"
      ]
     },
     "metadata": {
      "needs_background": "light"
     },
     "output_type": "display_data"
    }
   ],
   "source": [
    "ax = sns.boxplot(data = df,y = 'Duracao_segundos')"
   ]
  },
  {
   "cell_type": "code",
   "execution_count": null,
   "id": "2ffc2514-9e4f-4a4f-a6e0-e2763222a3f6",
   "metadata": {},
   "outputs": [
    {
     "data": {
      "text/plain": [
       "count    19669.000000\n",
       "mean       186.223956\n",
       "std        309.796218\n",
       "min         13.000000\n",
       "25%         57.000000\n",
       "50%         92.000000\n",
       "75%        161.000000\n",
       "max       5462.000000\n",
       "Name: Duracao_segundos, dtype: float64"
      ]
     },
     "execution_count": 259,
     "metadata": {},
     "output_type": "execute_result"
    }
   ],
   "source": [
    "df['Duracao_segundos'].describe()"
   ]
  },
  {
   "cell_type": "code",
   "execution_count": null,
   "id": "54fd7d84-cd9e-44df-a204-f79b88812637",
   "metadata": {},
   "outputs": [
    {
     "data": {
      "text/plain": [
       "48"
      ]
     },
     "execution_count": 266,
     "metadata": {},
     "output_type": "execute_result"
    }
   ],
   "source": [
    "df['CdOcupacaoCBO'].nunique()"
   ]
  },
  {
   "cell_type": "code",
   "execution_count": null,
   "id": "84f474b6-e069-47f2-bf22-c649ea88f507",
   "metadata": {},
   "outputs": [
    {
     "data": {
      "text/plain": [
       "2684             0.21846\n",
       "Indeterminado    0.16150\n",
       "7897             0.15498\n",
       "5411             0.06226\n",
       "Outros           0.05988\n",
       "3995             0.02602\n",
       "6568             0.02104\n",
       "2362             0.02064\n",
       "5078             0.01958\n",
       "1988             0.01930\n",
       "7906             0.01824\n",
       "3968             0.01440\n",
       "8022             0.01418\n",
       "7598             0.01074\n",
       "10101            0.01030\n",
       "1103             0.01014\n",
       "2210             0.00902\n",
       "8620             0.00890\n",
       "8069             0.00886\n",
       "8700             0.00858\n",
       "4140             0.00814\n",
       "297              0.00738\n",
       "1191             0.00734\n",
       "5954             0.00712\n",
       "6508             0.00696\n",
       "7898             0.00594\n",
       "3048             0.00560\n",
       "8099             0.00542\n",
       "188              0.00536\n",
       "1381             0.00508\n",
       "1932             0.00494\n",
       "1491             0.00468\n",
       "8673             0.00430\n",
       "7328             0.00402\n",
       "9502             0.00398\n",
       "7326             0.00326\n",
       "5594             0.00316\n",
       "4857             0.00314\n",
       "7631             0.00308\n",
       "9170             0.00304\n",
       "1933             0.00300\n",
       "3694             0.00300\n",
       "5712             0.00286\n",
       "9876             0.00280\n",
       "7675             0.00270\n",
       "1916             0.00248\n",
       "3442             0.00222\n",
       "13               0.00198\n",
       "Name: CdOcupacaoCBO, dtype: float64"
      ]
     },
     "execution_count": 265,
     "metadata": {},
     "output_type": "execute_result"
    }
   ],
   "source": [
    "df['CdOcupacaoCBO'].value_counts(normalize=True)"
   ]
  },
  {
   "cell_type": "code",
   "execution_count": null,
   "id": "e462a6a9-f9c1-4549-b13c-22984ebeaa45",
   "metadata": {},
   "outputs": [
    {
     "data": {
      "text/html": [
       "<div>\n",
       "<style scoped>\n",
       "    .dataframe tbody tr th:only-of-type {\n",
       "        vertical-align: middle;\n",
       "    }\n",
       "\n",
       "    .dataframe tbody tr th {\n",
       "        vertical-align: top;\n",
       "    }\n",
       "\n",
       "    .dataframe thead th {\n",
       "        text-align: right;\n",
       "    }\n",
       "</style>\n",
       "<table border=\"1\" class=\"dataframe\">\n",
       "  <thead>\n",
       "    <tr style=\"text-align: right;\">\n",
       "      <th></th>\n",
       "      <th>tempo_desde_primeiro_contrato</th>\n",
       "      <th>tempo_desde_ultimo_contrato</th>\n",
       "      <th>QTD_SEGURO</th>\n",
       "      <th>QTD_CP_CONSIGNADO</th>\n",
       "      <th>QTD_CDCCG</th>\n",
       "      <th>QTD_CONTA_DIGITAL</th>\n",
       "      <th>QTD_CARTAO</th>\n",
       "      <th>QTD_CP</th>\n",
       "      <th>QTD_OUTROS</th>\n",
       "      <th>flmat30conta</th>\n",
       "      <th>flmat60conta</th>\n",
       "      <th>flmat90conta</th>\n",
       "      <th>flmau30conta</th>\n",
       "      <th>flmau60conta</th>\n",
       "      <th>flmau90conta</th>\n",
       "    </tr>\n",
       "  </thead>\n",
       "  <tbody>\n",
       "    <tr>\n",
       "      <th>0</th>\n",
       "      <td>1267.0</td>\n",
       "      <td>251.0</td>\n",
       "      <td>5</td>\n",
       "      <td>0</td>\n",
       "      <td>1</td>\n",
       "      <td>0</td>\n",
       "      <td>1</td>\n",
       "      <td>0</td>\n",
       "      <td>0</td>\n",
       "      <td>NaN</td>\n",
       "      <td>NaN</td>\n",
       "      <td>NaN</td>\n",
       "      <td>NaN</td>\n",
       "      <td>NaN</td>\n",
       "      <td>NaN</td>\n",
       "    </tr>\n",
       "    <tr>\n",
       "      <th>1</th>\n",
       "      <td>1797.0</td>\n",
       "      <td>236.0</td>\n",
       "      <td>4</td>\n",
       "      <td>0</td>\n",
       "      <td>1</td>\n",
       "      <td>0</td>\n",
       "      <td>0</td>\n",
       "      <td>0</td>\n",
       "      <td>0</td>\n",
       "      <td>NaN</td>\n",
       "      <td>NaN</td>\n",
       "      <td>NaN</td>\n",
       "      <td>NaN</td>\n",
       "      <td>NaN</td>\n",
       "      <td>NaN</td>\n",
       "    </tr>\n",
       "    <tr>\n",
       "      <th>2</th>\n",
       "      <td>268.0</td>\n",
       "      <td>18.0</td>\n",
       "      <td>3</td>\n",
       "      <td>0</td>\n",
       "      <td>0</td>\n",
       "      <td>0</td>\n",
       "      <td>1</td>\n",
       "      <td>0</td>\n",
       "      <td>0</td>\n",
       "      <td>NaN</td>\n",
       "      <td>NaN</td>\n",
       "      <td>NaN</td>\n",
       "      <td>NaN</td>\n",
       "      <td>NaN</td>\n",
       "      <td>NaN</td>\n",
       "    </tr>\n",
       "    <tr>\n",
       "      <th>3</th>\n",
       "      <td>422.0</td>\n",
       "      <td>323.0</td>\n",
       "      <td>3</td>\n",
       "      <td>0</td>\n",
       "      <td>0</td>\n",
       "      <td>0</td>\n",
       "      <td>0</td>\n",
       "      <td>0</td>\n",
       "      <td>0</td>\n",
       "      <td>NaN</td>\n",
       "      <td>NaN</td>\n",
       "      <td>NaN</td>\n",
       "      <td>NaN</td>\n",
       "      <td>NaN</td>\n",
       "      <td>NaN</td>\n",
       "    </tr>\n",
       "    <tr>\n",
       "      <th>4</th>\n",
       "      <td>5073.0</td>\n",
       "      <td>252.0</td>\n",
       "      <td>3</td>\n",
       "      <td>0</td>\n",
       "      <td>0</td>\n",
       "      <td>0</td>\n",
       "      <td>0</td>\n",
       "      <td>0</td>\n",
       "      <td>0</td>\n",
       "      <td>NaN</td>\n",
       "      <td>NaN</td>\n",
       "      <td>NaN</td>\n",
       "      <td>NaN</td>\n",
       "      <td>NaN</td>\n",
       "      <td>NaN</td>\n",
       "    </tr>\n",
       "    <tr>\n",
       "      <th>...</th>\n",
       "      <td>...</td>\n",
       "      <td>...</td>\n",
       "      <td>...</td>\n",
       "      <td>...</td>\n",
       "      <td>...</td>\n",
       "      <td>...</td>\n",
       "      <td>...</td>\n",
       "      <td>...</td>\n",
       "      <td>...</td>\n",
       "      <td>...</td>\n",
       "      <td>...</td>\n",
       "      <td>...</td>\n",
       "      <td>...</td>\n",
       "      <td>...</td>\n",
       "      <td>...</td>\n",
       "    </tr>\n",
       "    <tr>\n",
       "      <th>49995</th>\n",
       "      <td>1653.0</td>\n",
       "      <td>95.0</td>\n",
       "      <td>1</td>\n",
       "      <td>0</td>\n",
       "      <td>0</td>\n",
       "      <td>1</td>\n",
       "      <td>1</td>\n",
       "      <td>0</td>\n",
       "      <td>0</td>\n",
       "      <td>1.0</td>\n",
       "      <td>1.0</td>\n",
       "      <td>1.0</td>\n",
       "      <td>0.0</td>\n",
       "      <td>0.0</td>\n",
       "      <td>0.0</td>\n",
       "    </tr>\n",
       "    <tr>\n",
       "      <th>49996</th>\n",
       "      <td>6729.0</td>\n",
       "      <td>101.0</td>\n",
       "      <td>3</td>\n",
       "      <td>0</td>\n",
       "      <td>0</td>\n",
       "      <td>1</td>\n",
       "      <td>1</td>\n",
       "      <td>0</td>\n",
       "      <td>0</td>\n",
       "      <td>1.0</td>\n",
       "      <td>1.0</td>\n",
       "      <td>1.0</td>\n",
       "      <td>0.0</td>\n",
       "      <td>0.0</td>\n",
       "      <td>0.0</td>\n",
       "    </tr>\n",
       "    <tr>\n",
       "      <th>49997</th>\n",
       "      <td>239.0</td>\n",
       "      <td>94.0</td>\n",
       "      <td>1</td>\n",
       "      <td>0</td>\n",
       "      <td>0</td>\n",
       "      <td>1</td>\n",
       "      <td>1</td>\n",
       "      <td>0</td>\n",
       "      <td>0</td>\n",
       "      <td>1.0</td>\n",
       "      <td>1.0</td>\n",
       "      <td>1.0</td>\n",
       "      <td>0.0</td>\n",
       "      <td>0.0</td>\n",
       "      <td>0.0</td>\n",
       "    </tr>\n",
       "    <tr>\n",
       "      <th>49998</th>\n",
       "      <td>883.0</td>\n",
       "      <td>179.0</td>\n",
       "      <td>1</td>\n",
       "      <td>0</td>\n",
       "      <td>0</td>\n",
       "      <td>1</td>\n",
       "      <td>1</td>\n",
       "      <td>0</td>\n",
       "      <td>0</td>\n",
       "      <td>1.0</td>\n",
       "      <td>1.0</td>\n",
       "      <td>1.0</td>\n",
       "      <td>0.0</td>\n",
       "      <td>0.0</td>\n",
       "      <td>0.0</td>\n",
       "    </tr>\n",
       "    <tr>\n",
       "      <th>49999</th>\n",
       "      <td>235.0</td>\n",
       "      <td>235.0</td>\n",
       "      <td>4</td>\n",
       "      <td>0</td>\n",
       "      <td>1</td>\n",
       "      <td>1</td>\n",
       "      <td>1</td>\n",
       "      <td>0</td>\n",
       "      <td>0</td>\n",
       "      <td>1.0</td>\n",
       "      <td>1.0</td>\n",
       "      <td>1.0</td>\n",
       "      <td>0.0</td>\n",
       "      <td>0.0</td>\n",
       "      <td>0.0</td>\n",
       "    </tr>\n",
       "  </tbody>\n",
       "</table>\n",
       "<p>50000 rows × 15 columns</p>\n",
       "</div>"
      ],
      "text/plain": [
       "       tempo_desde_primeiro_contrato  tempo_desde_ultimo_contrato QTD_SEGURO  \\\n",
       "0                             1267.0                        251.0          5   \n",
       "1                             1797.0                        236.0          4   \n",
       "2                              268.0                         18.0          3   \n",
       "3                              422.0                        323.0          3   \n",
       "4                             5073.0                        252.0          3   \n",
       "...                              ...                          ...        ...   \n",
       "49995                         1653.0                         95.0          1   \n",
       "49996                         6729.0                        101.0          3   \n",
       "49997                          239.0                         94.0          1   \n",
       "49998                          883.0                        179.0          1   \n",
       "49999                          235.0                        235.0          4   \n",
       "\n",
       "       QTD_CP_CONSIGNADO  QTD_CDCCG  QTD_CONTA_DIGITAL  QTD_CARTAO  QTD_CP  \\\n",
       "0                      0          1                  0           1       0   \n",
       "1                      0          1                  0           0       0   \n",
       "2                      0          0                  0           1       0   \n",
       "3                      0          0                  0           0       0   \n",
       "4                      0          0                  0           0       0   \n",
       "...                  ...        ...                ...         ...     ...   \n",
       "49995                  0          0                  1           1       0   \n",
       "49996                  0          0                  1           1       0   \n",
       "49997                  0          0                  1           1       0   \n",
       "49998                  0          0                  1           1       0   \n",
       "49999                  0          1                  1           1       0   \n",
       "\n",
       "       QTD_OUTROS  flmat30conta  flmat60conta  flmat90conta  flmau30conta  \\\n",
       "0               0           NaN           NaN           NaN           NaN   \n",
       "1               0           NaN           NaN           NaN           NaN   \n",
       "2               0           NaN           NaN           NaN           NaN   \n",
       "3               0           NaN           NaN           NaN           NaN   \n",
       "4               0           NaN           NaN           NaN           NaN   \n",
       "...           ...           ...           ...           ...           ...   \n",
       "49995           0           1.0           1.0           1.0           0.0   \n",
       "49996           0           1.0           1.0           1.0           0.0   \n",
       "49997           0           1.0           1.0           1.0           0.0   \n",
       "49998           0           1.0           1.0           1.0           0.0   \n",
       "49999           0           1.0           1.0           1.0           0.0   \n",
       "\n",
       "       flmau60conta  flmau90conta  \n",
       "0               NaN           NaN  \n",
       "1               NaN           NaN  \n",
       "2               NaN           NaN  \n",
       "3               NaN           NaN  \n",
       "4               NaN           NaN  \n",
       "...             ...           ...  \n",
       "49995           0.0           0.0  \n",
       "49996           0.0           0.0  \n",
       "49997           0.0           0.0  \n",
       "49998           0.0           0.0  \n",
       "49999           0.0           0.0  \n",
       "\n",
       "[50000 rows x 15 columns]"
      ]
     },
     "execution_count": 295,
     "metadata": {},
     "output_type": "execute_result"
    }
   ],
   "source": [
    "df[relacionamentoBV]"
   ]
  },
  {
   "cell_type": "code",
   "execution_count": null,
   "id": "3d5e91fa-4949-4b34-9a2a-106964c001a6",
   "metadata": {},
   "outputs": [
    {
     "data": {
      "text/plain": [
       "0        2\n",
       "1        1\n",
       "2        1\n",
       "3        0\n",
       "4        0\n",
       "        ..\n",
       "49995    2\n",
       "49996    2\n",
       "49997    2\n",
       "49998    2\n",
       "49999    3\n",
       "Name: OUTROS_PROD_FORA_SEGURO, Length: 50000, dtype: int64"
      ]
     },
     "execution_count": 296,
     "metadata": {},
     "output_type": "execute_result"
    }
   ],
   "source": [
    "df['OUTROS_PROD_FORA_SEGURO'] = df[['QTD_CP_CONSIGNADO','QTD_CDCCG',\n",
    "'QTD_CONTA_DIGITAL','QTD_CARTAO','QTD_CP','QTD_OUTROS']].sum(axis=1)\n",
    "df['OUTROS_PROD_FORA_SEGURO'] "
   ]
  },
  {
   "cell_type": "code",
   "execution_count": null,
   "id": "ab7d447b-90b3-47b2-b719-7c088ca66a19",
   "metadata": {},
   "outputs": [
    {
     "data": {
      "text/plain": [
       "2    0.37444\n",
       "1    0.26074\n",
       "0    0.22372\n",
       "3    0.13870\n",
       "4    0.00238\n",
       "5    0.00002\n",
       "Name: OUTROS_PROD_FORA_SEGURO, dtype: float64"
      ]
     },
     "execution_count": 299,
     "metadata": {},
     "output_type": "execute_result"
    }
   ],
   "source": [
    "df['OUTROS_PROD_FORA_SEGURO'].value_counts(normalize=True)"
   ]
  },
  {
   "cell_type": "code",
   "execution_count": null,
   "id": "31be7780-3b3a-4267-9543-b616378f2b37",
   "metadata": {},
   "outputs": [
    {
     "data": {
      "text/plain": [
       "count    49942.000000\n",
       "mean      1515.553666\n",
       "std        612.008970\n",
       "min         58.252237\n",
       "25%       1000.000000\n",
       "50%       1578.760977\n",
       "75%       1800.000000\n",
       "max      12098.268614\n",
       "Name: QtCilindradaVeiculo, dtype: float64"
      ]
     },
     "execution_count": 300,
     "metadata": {},
     "output_type": "execute_result"
    }
   ],
   "source": [
    "df['QtCilindradaVeiculo'].describe()"
   ]
  },
  {
   "cell_type": "code",
   "execution_count": null,
   "id": "d3c662ac-9062-4403-be10-655dc6dcca3a",
   "metadata": {},
   "outputs": [
    {
     "data": {
      "image/png": "[encoded data removed]",
      "text/plain": [
       "<Figure size 432x288 with 1 Axes>"
      ]
     },
     "metadata": {
      "needs_background": "light"
     },
     "output_type": "display_data"
    }
   ],
   "source": [
    "ax = sns.boxplot(data = df,y = 'QtCilindradaVeiculo')"
   ]
  },
  {
   "cell_type": "code",
   "execution_count": null,
   "id": "d4d79221-6348-4e49-b4a1-1918b8b86def",
   "metadata": {},
   "outputs": [
    {
     "data": {
      "image/png": "[encoded data removed]",
      "text/plain": [
       "<Figure size 432x288 with 1 Axes>"
      ]
     },
     "metadata": {
      "needs_background": "light"
     },
     "output_type": "display_data"
    }
   ],
   "source": [
    "ax = sns.boxplot(data = df,y = 'QtQuilometragemVeiculo')"
   ]
  },
  {
   "cell_type": "markdown",
   "id": "1b2ceff8-79d1-457f-ade6-c672d3d04822",
   "metadata": {},
   "source": [
    "## Perfil de quem renova o contrato"
   ]
  },
  {
   "cell_type": "code",
   "execution_count": null,
   "id": "0d664188-7b0a-412a-be70-7da74e158f1f",
   "metadata": {},
   "outputs": [],
   "source": [
    "renovou = (df.fl_renovou == 1)"
   ]
  },
  {
   "cell_type": "code",
   "execution_count": null,
   "id": "85040525-80f3-474e-8825-f669b85adb59",
   "metadata": {},
   "outputs": [
    {
     "data": {
      "text/html": [
       "<div>\n",
       "<style scoped>\n",
       "    .dataframe tbody tr th:only-of-type {\n",
       "        vertical-align: middle;\n",
       "    }\n",
       "\n",
       "    .dataframe tbody tr th {\n",
       "        vertical-align: top;\n",
       "    }\n",
       "\n",
       "    .dataframe thead th {\n",
       "        text-align: right;\n",
       "    }\n",
       "</style>\n",
       "<table border=\"1\" class=\"dataframe\">\n",
       "  <thead>\n",
       "    <tr style=\"text-align: right;\">\n",
       "      <th></th>\n",
       "      <th>ID</th>\n",
       "      <th>Capacidade_de_Pagamento_7</th>\n",
       "      <th>tempo_desde_primeiro_contrato</th>\n",
       "      <th>tempo_desde_ultimo_contrato</th>\n",
       "      <th>QTD_SEGURO</th>\n",
       "      <th>QTD_OUTROS</th>\n",
       "      <th>QTD_CP_CONSIGNADO</th>\n",
       "      <th>QTD_CDCCG</th>\n",
       "      <th>QTD_CONTA_DIGITAL</th>\n",
       "      <th>QTD_CARTAO</th>\n",
       "      <th>...</th>\n",
       "      <th>CD_Boleto_3m</th>\n",
       "      <th>CX_Cliente_NaoCompreende_3m</th>\n",
       "      <th>PL_Sem_Condicoes_3m</th>\n",
       "      <th>NV_DC10_Cliente_alega_pagamento_3m</th>\n",
       "      <th>NV_FC_NEGOCIACAO_COM_SUCESSO_3m</th>\n",
       "      <th>NV_BP4_Informa_o_desconto_3m</th>\n",
       "      <th>Duracao_segundos</th>\n",
       "      <th>fl_renovou</th>\n",
       "      <th>VrFinanciamento</th>\n",
       "      <th>OUTROS_PROD_FORA_SEGURO</th>\n",
       "    </tr>\n",
       "  </thead>\n",
       "  <tbody>\n",
       "    <tr>\n",
       "      <th>73</th>\n",
       "      <td>87</td>\n",
       "      <td>5</td>\n",
       "      <td>285.0</td>\n",
       "      <td>252.0</td>\n",
       "      <td>2</td>\n",
       "      <td>0</td>\n",
       "      <td>0</td>\n",
       "      <td>0</td>\n",
       "      <td>0</td>\n",
       "      <td>0</td>\n",
       "      <td>...</td>\n",
       "      <td>NaN</td>\n",
       "      <td>NaN</td>\n",
       "      <td>NaN</td>\n",
       "      <td>NaN</td>\n",
       "      <td>NaN</td>\n",
       "      <td>NaN</td>\n",
       "      <td>309.0</td>\n",
       "      <td>1</td>\n",
       "      <td>-1.210550</td>\n",
       "      <td>0</td>\n",
       "    </tr>\n",
       "    <tr>\n",
       "      <th>92</th>\n",
       "      <td>110</td>\n",
       "      <td>4</td>\n",
       "      <td>279.0</td>\n",
       "      <td>234.0</td>\n",
       "      <td>2</td>\n",
       "      <td>0</td>\n",
       "      <td>0</td>\n",
       "      <td>0</td>\n",
       "      <td>0</td>\n",
       "      <td>0</td>\n",
       "      <td>...</td>\n",
       "      <td>NaN</td>\n",
       "      <td>NaN</td>\n",
       "      <td>NaN</td>\n",
       "      <td>NaN</td>\n",
       "      <td>NaN</td>\n",
       "      <td>NaN</td>\n",
       "      <td>39.0</td>\n",
       "      <td>1</td>\n",
       "      <td>-0.844372</td>\n",
       "      <td>0</td>\n",
       "    </tr>\n",
       "    <tr>\n",
       "      <th>165</th>\n",
       "      <td>194</td>\n",
       "      <td>8</td>\n",
       "      <td>1705.0</td>\n",
       "      <td>162.0</td>\n",
       "      <td>2</td>\n",
       "      <td>0</td>\n",
       "      <td>0</td>\n",
       "      <td>0</td>\n",
       "      <td>0</td>\n",
       "      <td>0</td>\n",
       "      <td>...</td>\n",
       "      <td>NaN</td>\n",
       "      <td>NaN</td>\n",
       "      <td>NaN</td>\n",
       "      <td>NaN</td>\n",
       "      <td>NaN</td>\n",
       "      <td>NaN</td>\n",
       "      <td>NaN</td>\n",
       "      <td>1</td>\n",
       "      <td>1.781466</td>\n",
       "      <td>0</td>\n",
       "    </tr>\n",
       "    <tr>\n",
       "      <th>174</th>\n",
       "      <td>203</td>\n",
       "      <td>7</td>\n",
       "      <td>597.0</td>\n",
       "      <td>109.0</td>\n",
       "      <td>6</td>\n",
       "      <td>1</td>\n",
       "      <td>0</td>\n",
       "      <td>0</td>\n",
       "      <td>0</td>\n",
       "      <td>1</td>\n",
       "      <td>...</td>\n",
       "      <td>NaN</td>\n",
       "      <td>NaN</td>\n",
       "      <td>NaN</td>\n",
       "      <td>NaN</td>\n",
       "      <td>NaN</td>\n",
       "      <td>NaN</td>\n",
       "      <td>96.0</td>\n",
       "      <td>1</td>\n",
       "      <td>0.244646</td>\n",
       "      <td>2</td>\n",
       "    </tr>\n",
       "    <tr>\n",
       "      <th>292</th>\n",
       "      <td>350</td>\n",
       "      <td>5</td>\n",
       "      <td>221.0</td>\n",
       "      <td>219.0</td>\n",
       "      <td>4</td>\n",
       "      <td>0</td>\n",
       "      <td>0</td>\n",
       "      <td>1</td>\n",
       "      <td>0</td>\n",
       "      <td>0</td>\n",
       "      <td>...</td>\n",
       "      <td>NaN</td>\n",
       "      <td>NaN</td>\n",
       "      <td>NaN</td>\n",
       "      <td>NaN</td>\n",
       "      <td>NaN</td>\n",
       "      <td>NaN</td>\n",
       "      <td>92.0</td>\n",
       "      <td>1</td>\n",
       "      <td>1.977284</td>\n",
       "      <td>1</td>\n",
       "    </tr>\n",
       "    <tr>\n",
       "      <th>...</th>\n",
       "      <td>...</td>\n",
       "      <td>...</td>\n",
       "      <td>...</td>\n",
       "      <td>...</td>\n",
       "      <td>...</td>\n",
       "      <td>...</td>\n",
       "      <td>...</td>\n",
       "      <td>...</td>\n",
       "      <td>...</td>\n",
       "      <td>...</td>\n",
       "      <td>...</td>\n",
       "      <td>...</td>\n",
       "      <td>...</td>\n",
       "      <td>...</td>\n",
       "      <td>...</td>\n",
       "      <td>...</td>\n",
       "      <td>...</td>\n",
       "      <td>...</td>\n",
       "      <td>...</td>\n",
       "      <td>...</td>\n",
       "      <td>...</td>\n",
       "    </tr>\n",
       "    <tr>\n",
       "      <th>49925</th>\n",
       "      <td>44281</td>\n",
       "      <td>9</td>\n",
       "      <td>238.0</td>\n",
       "      <td>228.0</td>\n",
       "      <td>1</td>\n",
       "      <td>0</td>\n",
       "      <td>0</td>\n",
       "      <td>0</td>\n",
       "      <td>1</td>\n",
       "      <td>1</td>\n",
       "      <td>...</td>\n",
       "      <td>NaN</td>\n",
       "      <td>NaN</td>\n",
       "      <td>NaN</td>\n",
       "      <td>NaN</td>\n",
       "      <td>NaN</td>\n",
       "      <td>NaN</td>\n",
       "      <td>47.0</td>\n",
       "      <td>1</td>\n",
       "      <td>1.206254</td>\n",
       "      <td>2</td>\n",
       "    </tr>\n",
       "    <tr>\n",
       "      <th>49961</th>\n",
       "      <td>48369</td>\n",
       "      <td>8</td>\n",
       "      <td>202.0</td>\n",
       "      <td>202.0</td>\n",
       "      <td>1</td>\n",
       "      <td>0</td>\n",
       "      <td>0</td>\n",
       "      <td>0</td>\n",
       "      <td>1</td>\n",
       "      <td>1</td>\n",
       "      <td>...</td>\n",
       "      <td>NaN</td>\n",
       "      <td>NaN</td>\n",
       "      <td>NaN</td>\n",
       "      <td>NaN</td>\n",
       "      <td>NaN</td>\n",
       "      <td>NaN</td>\n",
       "      <td>51.0</td>\n",
       "      <td>1</td>\n",
       "      <td>0.176757</td>\n",
       "      <td>2</td>\n",
       "    </tr>\n",
       "    <tr>\n",
       "      <th>49971</th>\n",
       "      <td>48881</td>\n",
       "      <td>8</td>\n",
       "      <td>4698.0</td>\n",
       "      <td>98.0</td>\n",
       "      <td>3</td>\n",
       "      <td>0</td>\n",
       "      <td>0</td>\n",
       "      <td>0</td>\n",
       "      <td>1</td>\n",
       "      <td>1</td>\n",
       "      <td>...</td>\n",
       "      <td>NaN</td>\n",
       "      <td>NaN</td>\n",
       "      <td>NaN</td>\n",
       "      <td>NaN</td>\n",
       "      <td>NaN</td>\n",
       "      <td>NaN</td>\n",
       "      <td>84.0</td>\n",
       "      <td>1</td>\n",
       "      <td>-0.169885</td>\n",
       "      <td>2</td>\n",
       "    </tr>\n",
       "    <tr>\n",
       "      <th>49981</th>\n",
       "      <td>49198</td>\n",
       "      <td>8</td>\n",
       "      <td>230.0</td>\n",
       "      <td>99.0</td>\n",
       "      <td>3</td>\n",
       "      <td>0</td>\n",
       "      <td>0</td>\n",
       "      <td>1</td>\n",
       "      <td>1</td>\n",
       "      <td>1</td>\n",
       "      <td>...</td>\n",
       "      <td>NaN</td>\n",
       "      <td>NaN</td>\n",
       "      <td>NaN</td>\n",
       "      <td>NaN</td>\n",
       "      <td>NaN</td>\n",
       "      <td>NaN</td>\n",
       "      <td>161.0</td>\n",
       "      <td>1</td>\n",
       "      <td>-1.050382</td>\n",
       "      <td>3</td>\n",
       "    </tr>\n",
       "    <tr>\n",
       "      <th>49986</th>\n",
       "      <td>49329</td>\n",
       "      <td>8</td>\n",
       "      <td>880.0</td>\n",
       "      <td>10.0</td>\n",
       "      <td>3</td>\n",
       "      <td>0</td>\n",
       "      <td>0</td>\n",
       "      <td>0</td>\n",
       "      <td>1</td>\n",
       "      <td>1</td>\n",
       "      <td>...</td>\n",
       "      <td>NaN</td>\n",
       "      <td>NaN</td>\n",
       "      <td>NaN</td>\n",
       "      <td>NaN</td>\n",
       "      <td>NaN</td>\n",
       "      <td>NaN</td>\n",
       "      <td>44.0</td>\n",
       "      <td>1</td>\n",
       "      <td>-1.418321</td>\n",
       "      <td>2</td>\n",
       "    </tr>\n",
       "  </tbody>\n",
       "</table>\n",
       "<p>1590 rows × 307 columns</p>\n",
       "</div>"
      ],
      "text/plain": [
       "          ID  Capacidade_de_Pagamento_7  tempo_desde_primeiro_contrato  \\\n",
       "73        87                          5                          285.0   \n",
       "92       110                          4                          279.0   \n",
       "165      194                          8                         1705.0   \n",
       "174      203                          7                          597.0   \n",
       "292      350                          5                          221.0   \n",
       "...      ...                        ...                            ...   \n",
       "49925  44281                          9                          238.0   \n",
       "49961  48369                          8                          202.0   \n",
       "49971  48881                          8                         4698.0   \n",
       "49981  49198                          8                          230.0   \n",
       "49986  49329                          8                          880.0   \n",
       "\n",
       "       tempo_desde_ultimo_contrato QTD_SEGURO  QTD_OUTROS  QTD_CP_CONSIGNADO  \\\n",
       "73                           252.0          2           0                  0   \n",
       "92                           234.0          2           0                  0   \n",
       "165                          162.0          2           0                  0   \n",
       "174                          109.0          6           1                  0   \n",
       "292                          219.0          4           0                  0   \n",
       "...                            ...        ...         ...                ...   \n",
       "49925                        228.0          1           0                  0   \n",
       "49961                        202.0          1           0                  0   \n",
       "49971                         98.0          3           0                  0   \n",
       "49981                         99.0          3           0                  0   \n",
       "49986                         10.0          3           0                  0   \n",
       "\n",
       "       QTD_CDCCG  QTD_CONTA_DIGITAL  QTD_CARTAO  ...  CD_Boleto_3m  \\\n",
       "73             0                  0           0  ...           NaN   \n",
       "92             0                  0           0  ...           NaN   \n",
       "165            0                  0           0  ...           NaN   \n",
       "174            0                  0           1  ...           NaN   \n",
       "292            1                  0           0  ...           NaN   \n",
       "...          ...                ...         ...  ...           ...   \n",
       "49925          0                  1           1  ...           NaN   \n",
       "49961          0                  1           1  ...           NaN   \n",
       "49971          0                  1           1  ...           NaN   \n",
       "49981          1                  1           1  ...           NaN   \n",
       "49986          0                  1           1  ...           NaN   \n",
       "\n",
       "       CX_Cliente_NaoCompreende_3m  PL_Sem_Condicoes_3m  \\\n",
       "73                             NaN                  NaN   \n",
       "92                             NaN                  NaN   \n",
       "165                            NaN                  NaN   \n",
       "174                            NaN                  NaN   \n",
       "292                            NaN                  NaN   \n",
       "...                            ...                  ...   \n",
       "49925                          NaN                  NaN   \n",
       "49961                          NaN                  NaN   \n",
       "49971                          NaN                  NaN   \n",
       "49981                          NaN                  NaN   \n",
       "49986                          NaN                  NaN   \n",
       "\n",
       "       NV_DC10_Cliente_alega_pagamento_3m  NV_FC_NEGOCIACAO_COM_SUCESSO_3m  \\\n",
       "73                                    NaN                              NaN   \n",
       "92                                    NaN                              NaN   \n",
       "165                                   NaN                              NaN   \n",
       "174                                   NaN                              NaN   \n",
       "292                                   NaN                              NaN   \n",
       "...                                   ...                              ...   \n",
       "49925                                 NaN                              NaN   \n",
       "49961                                 NaN                              NaN   \n",
       "49971                                 NaN                              NaN   \n",
       "49981                                 NaN                              NaN   \n",
       "49986                                 NaN                              NaN   \n",
       "\n",
       "       NV_BP4_Informa_o_desconto_3m  Duracao_segundos  fl_renovou  \\\n",
       "73                              NaN             309.0           1   \n",
       "92                              NaN              39.0           1   \n",
       "165                             NaN               NaN           1   \n",
       "174                             NaN              96.0           1   \n",
       "292                             NaN              92.0           1   \n",
       "...                             ...               ...         ...   \n",
       "49925                           NaN              47.0           1   \n",
       "49961                           NaN              51.0           1   \n",
       "49971                           NaN              84.0           1   \n",
       "49981                           NaN             161.0           1   \n",
       "49986                           NaN              44.0           1   \n",
       "\n",
       "       VrFinanciamento  OUTROS_PROD_FORA_SEGURO  \n",
       "73           -1.210550                        0  \n",
       "92           -0.844372                        0  \n",
       "165           1.781466                        0  \n",
       "174           0.244646                        2  \n",
       "292           1.977284                        1  \n",
       "...                ...                      ...  \n",
       "49925         1.206254                        2  \n",
       "49961         0.176757                        2  \n",
       "49971        -0.169885                        2  \n",
       "49981        -1.050382                        3  \n",
       "49986        -1.418321                        2  \n",
       "\n",
       "[1590 rows x 307 columns]"
      ]
     },
     "execution_count": 307,
     "metadata": {},
     "output_type": "execute_result"
    }
   ],
   "source": [
    "df[renovou]"
   ]
  },
  {
   "cell_type": "code",
   "execution_count": null,
   "id": "43cbb3ac-6d53-4736-a225-346340d1ba4b",
   "metadata": {},
   "outputs": [],
   "source": [
    "scores = ['Capacidade_de_Pagamento_1','Capacidade_de_Pagamento_2','Capacidade_de_Pagamento_3','Capacidade_de_Pagamento_4',\n",
    "'Capacidade_de_Pagamento_5','Capacidade_de_Pagamento_6','Capacidade_de_Pagamento_7']\n",
    "\n",
    "relacionamentoBV = ['tempo_desde_primeiro_contrato','tempo_desde_ultimo_contrato','QTD_SEGURO','QTD_CP_CONSIGNADO','QTD_CDCCG',\n",
    "'QTD_CONTA_DIGITAL','QTD_CARTAO','QTD_CP','QTD_OUTROS','flmat30conta','flmat60conta','flmat90conta','flmau30conta','flmau60conta',\n",
    "'flmau90conta']"
   ]
  },
  {
   "cell_type": "code",
   "execution_count": null,
   "id": "7fbd0241-453f-4c16-a521-c52557198c2c",
   "metadata": {},
   "outputs": [
    {
     "data": {
      "text/plain": [
       "8    31450\n",
       "5     5252\n",
       "4     3371\n",
       "7     3206\n",
       "6     2915\n",
       "9     2337\n",
       "3     1247\n",
       "0      110\n",
       "2       62\n",
       "1       50\n",
       "Name: Capacidade_de_Pagamento_7, dtype: int64"
      ]
     },
     "execution_count": 341,
     "metadata": {},
     "output_type": "execute_result"
    }
   ],
   "source": [
    "df.Capacidade_de_Pagamento_7.value_counts()"
   ]
  },
  {
   "cell_type": "code",
   "execution_count": null,
   "id": "a9502137-fcdb-4751-9b47-319916e109d0",
   "metadata": {},
   "outputs": [
    {
     "data": {
      "text/plain": [
       "8    0.62900\n",
       "5    0.10504\n",
       "4    0.06742\n",
       "7    0.06412\n",
       "6    0.05830\n",
       "9    0.04674\n",
       "3    0.02494\n",
       "0    0.00220\n",
       "2    0.00124\n",
       "1    0.00100\n",
       "Name: Capacidade_de_Pagamento_7, dtype: float64"
      ]
     },
     "execution_count": 342,
     "metadata": {},
     "output_type": "execute_result"
    }
   ],
   "source": [
    "df.Capacidade_de_Pagamento_7.value_counts(normalize=True)"
   ]
  },
  {
   "cell_type": "code",
   "execution_count": null,
   "id": "646e2b3b-7349-42b0-b35b-5c612bcdc5bc",
   "metadata": {},
   "outputs": [
    {
     "data": {
      "text/plain": [
       "0    0.63548\n",
       "1    0.36452\n",
       "Name: QTD_CONTA_DIGITAL, dtype: float64"
      ]
     },
     "execution_count": 344,
     "metadata": {},
     "output_type": "execute_result"
    }
   ],
   "source": [
    "df.QTD_CONTA_DIGITAL.value_counts(normalize=True)"
   ]
  },
  {
   "cell_type": "code",
   "execution_count": null,
   "id": "70835804-fc6e-43de-a4aa-99852e936498",
   "metadata": {},
   "outputs": [
    {
     "data": {
      "text/plain": [
       "1.0    8810\n",
       "0.0    4959\n",
       "NaN    4457\n",
       "Name: flmau30conta, dtype: int64"
      ]
     },
     "execution_count": 348,
     "metadata": {},
     "output_type": "execute_result"
    }
   ],
   "source": [
    "df[df.QTD_CONTA_DIGITAL == 1]['flmau30conta'].value_counts(dropna=False)"
   ]
  },
  {
   "cell_type": "code",
   "execution_count": null,
   "id": "facda52c-4b4e-40ff-bb82-af7a4dc8b8d1",
   "metadata": {},
   "outputs": [
    {
     "data": {
      "text/plain": [
       "1.0    0.483375\n",
       "0.0    0.272084\n",
       "NaN    0.244541\n",
       "Name: flmau30conta, dtype: float64"
      ]
     },
     "execution_count": 350,
     "metadata": {},
     "output_type": "execute_result"
    }
   ],
   "source": [
    "df[df.QTD_CONTA_DIGITAL == 1]['flmau30conta'].value_counts(dropna=False,normalize=True)"
   ]
  },
  {
   "cell_type": "code",
   "execution_count": null,
   "id": "f2449d19-898d-4218-88fb-f00eb720fc82",
   "metadata": {},
   "outputs": [
    {
     "data": {
      "text/plain": [
       "1.0    8359\n",
       "0.0    4986\n",
       "NaN    4881\n",
       "Name: flmau60conta, dtype: int64"
      ]
     },
     "execution_count": 349,
     "metadata": {},
     "output_type": "execute_result"
    }
   ],
   "source": [
    "df[df.QTD_CONTA_DIGITAL == 1]['flmau60conta'].value_counts(dropna=False)"
   ]
  },
  {
   "cell_type": "code",
   "execution_count": null,
   "id": "63973c94-563d-4138-89ff-35b8a36b3c43",
   "metadata": {},
   "outputs": [
    {
     "data": {
      "text/plain": [
       "1.0    0.458631\n",
       "0.0    0.273565\n",
       "NaN    0.267804\n",
       "Name: flmau60conta, dtype: float64"
      ]
     },
     "execution_count": 351,
     "metadata": {},
     "output_type": "execute_result"
    }
   ],
   "source": [
    "df[df.QTD_CONTA_DIGITAL == 1]['flmau60conta'].value_counts(dropna=False,normalize=True)"
   ]
  },
  {
   "cell_type": "code",
   "execution_count": null,
   "id": "255f90d9-b569-4336-bfe6-bebf81d1e375",
   "metadata": {},
   "outputs": [
    {
     "data": {
      "text/plain": [
       "1.0    7767\n",
       "0.0    5260\n",
       "NaN    5199\n",
       "Name: flmau90conta, dtype: int64"
      ]
     },
     "execution_count": 352,
     "metadata": {},
     "output_type": "execute_result"
    }
   ],
   "source": [
    "df[df.QTD_CONTA_DIGITAL == 1]['flmau90conta'].value_counts(dropna=False)"
   ]
  },
  {
   "cell_type": "code",
   "execution_count": null,
   "id": "aa07535b-074b-439d-ba58-19761d69a11a",
   "metadata": {},
   "outputs": [
    {
     "data": {
      "text/plain": [
       "1.0    0.426149\n",
       "0.0    0.288599\n",
       "NaN    0.285252\n",
       "Name: flmau90conta, dtype: float64"
      ]
     },
     "execution_count": 353,
     "metadata": {},
     "output_type": "execute_result"
    }
   ],
   "source": [
    "df[df.QTD_CONTA_DIGITAL == 1]['flmau90conta'].value_counts(dropna=False,normalize=True)"
   ]
  },
  {
   "cell_type": "code",
   "execution_count": null,
   "id": "7c7c7f79-678a-44a9-bbf8-1e7b2ae0e68f",
   "metadata": {},
   "outputs": [
    {
     "data": {
      "text/plain": [
       "0.0    0.468561\n",
       "1.0    0.274772\n",
       "NaN    0.256666\n",
       "Name: flmat30conta, dtype: float64"
      ]
     },
     "execution_count": 354,
     "metadata": {},
     "output_type": "execute_result"
    }
   ],
   "source": [
    "df[df.QTD_CONTA_DIGITAL == 1]['flmat30conta'].value_counts(dropna=False,normalize=True)"
   ]
  },
  {
   "cell_type": "code",
   "execution_count": null,
   "id": "4996d384-dca3-4d86-946a-8688b7f38552",
   "metadata": {},
   "outputs": [
    {
     "data": {
      "text/plain": [
       "0.0    0.472951\n",
       "NaN    0.265500\n",
       "1.0    0.261549\n",
       "Name: flmat60conta, dtype: float64"
      ]
     },
     "execution_count": 355,
     "metadata": {},
     "output_type": "execute_result"
    }
   ],
   "source": [
    "df[df.QTD_CONTA_DIGITAL == 1]['flmat60conta'].value_counts(dropna=False,normalize=True)"
   ]
  },
  {
   "cell_type": "code",
   "execution_count": null,
   "id": "42e82815-ddf6-456c-a9e1-0e79edef3518",
   "metadata": {},
   "outputs": [
    {
     "data": {
      "text/plain": [
       "0.0    0.484967\n",
       "NaN    0.278997\n",
       "1.0    0.236036\n",
       "Name: flmat90conta, dtype: float64"
      ]
     },
     "execution_count": 356,
     "metadata": {},
     "output_type": "execute_result"
    }
   ],
   "source": [
    "df[df.QTD_CONTA_DIGITAL == 1]['flmat90conta'].value_counts(dropna=False,normalize=True)"
   ]
  }
 ],
 "metadata": {
  "kernelspec": {
   "display_name": "Python (Local)",
   "language": "python",
   "name": "local-base"
  },
  "language_info": {
   "codemirror_mode": {
    "name": "ipython",
    "version": 3
   },
   "file_extension": ".py",
   "mimetype": "text/x-python",
   "name": "python",
   "nbconvert_exporter": "python",
   "pygments_lexer": "ipython3",
   "version": "3.7.12"
  }
 },
 "nbformat": 4,
 "nbformat_minor": 5
}
