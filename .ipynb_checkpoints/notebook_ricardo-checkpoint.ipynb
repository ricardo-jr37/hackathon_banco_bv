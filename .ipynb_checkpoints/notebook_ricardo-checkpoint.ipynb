{
 "cells": [
  {
   "cell_type": "markdown",
   "id": "89d1848f-9a49-4066-97f5-1546514241e5",
   "metadata": {},
   "source": [
    "# Como rodar uma query SQL no python e obter a resposta como um DataFrame"
   ]
  },
  {
   "cell_type": "code",
   "execution_count": 1,
   "id": "bdf43461-8d22-4c4c-a6db-954820506de3",
   "metadata": {},
   "outputs": [],
   "source": [
    "# conexao com o client\n",
    "from google.cloud.bigquery import Client, QueryJobConfig\n",
    "client = Client()"
   ]
  },
  {
   "cell_type": "code",
   "execution_count": 2,
   "id": "18b328ef-c04e-4290-bd74-7163981ebfd1",
   "metadata": {},
   "outputs": [],
   "source": [
    "query = \"\"\"SELECT * FROM `hacka-dados.hacka_dados.tabela_dados_hacka` \"\"\"\n",
    "#query = \"\"\"SELECT * FROM `hacka-dados.hacka_dados.INFORMATION_SCHEMA.TABLES` \"\"\"\n",
    "job = client.query(query)\n",
    "df = job.to_dataframe()"
   ]
  },
  {
   "cell_type": "code",
   "execution_count": 3,
   "id": "72267101-9e28-4b86-850c-41800e0ccea8",
   "metadata": {},
   "outputs": [],
   "source": [
    "colunas = [c for c in df.columns]\n",
    "\n",
    "mailing = ['fl_renovou','Duracao_segundos']\n",
    "\n",
    "cadastrais = ['CdUfNaturalidade','Grupo_Etario','VrRenda','CdOcupacaoCBO']\n",
    "\n",
    "contratuais = ['NmMotivoContratoFinanceiro','Sub_Produto','VrContrato','VrFinanciamento','VrEntrada','QtParcelas','AaFabricacaoVeiculo',\n",
    "'CdMarca','VrMercado','FlZeroKm','QtCilindradaVeiculo','QtQuilometragemVeiculo','QtAnoIdade']\n",
    "\n",
    "scores = ['Capacidade_de_Pagamento_1','Capacidade_de_Pagamento_2','Capacidade_de_Pagamento_3','Capacidade_de_Pagamento_4',\n",
    "'Capacidade_de_Pagamento_5','Capacidade_de_Pagamento_6','Capacidade_de_Pagamento_7']\n",
    "\n",
    "relacionamentoBV = ['tempo_desde_primeiro_contrato','tempo_desde_ultimo_contrato','QTD_SEGURO','QTD_CP_CONSIGNADO','QTD_CDCCG',\n",
    "'QTD_CONTA_DIGITAL','QTD_CARTAO','QTD_CP','QTD_OUTROS','flmat30conta','flmat60conta','flmat90conta','flmau30conta','flmau60conta',\n",
    "'flmau90conta']\n",
    "\n",
    "f1 = [c for c in colunas if 'F1' in c]\n",
    "\n",
    "f2 = [c for c in colunas if 'F2' in c]\n",
    "\n",
    "f3 = [c for c in colunas if 'F3' in c]\n",
    "\n",
    "f4 = [c for c in colunas if 'F4' in c]\n",
    "\n",
    "m3 = [c for c in colunas if '3m' in c]\n",
    "\n",
    "m6 = [c for c in colunas if '6m' in c]"
   ]
  },
  {
   "cell_type": "markdown",
   "id": "85fcdbb6-d36a-4215-b9b3-4b95d70255cf",
   "metadata": {},
   "source": [
    "#### Relacionamento digital\n",
    "* Os clientes que tem o score 8 na variável Capacidade_de_Pagamento_7 tem a maior taxa de renovação"
   ]
  },
  {
   "cell_type": "code",
   "execution_count": null,
   "id": "af70dfc0-be9f-4c7b-9926-aefa073e4733",
   "metadata": {},
   "outputs": [],
   "source": [
    "!pip install bokeh\n",
    "!"
   ]
  },
  {
   "cell_type": "code",
   "execution_count": 4,
   "id": "e03f33ed-2283-41af-9954-dd3939a85692",
   "metadata": {},
   "outputs": [
    {
     "ename": "ModuleNotFoundError",
     "evalue": "No module named 'bokeh'",
     "output_type": "error",
     "traceback": [
      "\u001b[0;31m---------------------------------------------------------------------------\u001b[0m",
      "\u001b[0;31mModuleNotFoundError\u001b[0m                       Traceback (most recent call last)",
      "\u001b[0;32m/tmp/ipykernel_1/766516025.py\u001b[0m in \u001b[0;36m<module>\u001b[0;34m\u001b[0m\n\u001b[1;32m      1\u001b[0m \u001b[0;32mimport\u001b[0m \u001b[0mseaborn\u001b[0m \u001b[0;32mas\u001b[0m \u001b[0msns\u001b[0m\u001b[0;34m\u001b[0m\u001b[0;34m\u001b[0m\u001b[0m\n\u001b[1;32m      2\u001b[0m \u001b[0;32mimport\u001b[0m \u001b[0mpandas\u001b[0m \u001b[0;32mas\u001b[0m \u001b[0mpd\u001b[0m\u001b[0;34m\u001b[0m\u001b[0;34m\u001b[0m\u001b[0m\n\u001b[0;32m----> 3\u001b[0;31m \u001b[0;32mfrom\u001b[0m \u001b[0mbokeh\u001b[0m\u001b[0;34m.\u001b[0m\u001b[0mio\u001b[0m \u001b[0;32mimport\u001b[0m \u001b[0mpush_notebook\u001b[0m\u001b[0;34m,\u001b[0m \u001b[0mshow\u001b[0m\u001b[0;34m,\u001b[0m \u001b[0moutput_notebook\u001b[0m\u001b[0;34m\u001b[0m\u001b[0;34m\u001b[0m\u001b[0m\n\u001b[0m\u001b[1;32m      4\u001b[0m \u001b[0;32mimport\u001b[0m \u001b[0mmatplotlib\u001b[0m\u001b[0;34m.\u001b[0m\u001b[0mpyplot\u001b[0m \u001b[0;32mas\u001b[0m \u001b[0mplt\u001b[0m\u001b[0;34m\u001b[0m\u001b[0;34m\u001b[0m\u001b[0m\n\u001b[1;32m      5\u001b[0m \u001b[0mpd\u001b[0m\u001b[0;34m.\u001b[0m\u001b[0mset_option\u001b[0m\u001b[0;34m(\u001b[0m\u001b[0;34m'plotting.backend'\u001b[0m\u001b[0;34m,\u001b[0m \u001b[0;34m'pandas_bokeh'\u001b[0m\u001b[0;34m)\u001b[0m\u001b[0;34m\u001b[0m\u001b[0;34m\u001b[0m\u001b[0m\n",
      "\u001b[0;31mModuleNotFoundError\u001b[0m: No module named 'bokeh'"
     ]
    }
   ],
   "source": [
    "import seaborn as sns\n",
    "import pandas as pd\n",
    "from bokeh.io import push_notebook, show, output_notebook\n",
    "import matplotlib.pyplot as plt\n",
    "pd.set_option('plotting.backend', 'pandas_bokeh')\n",
    "output_notebook()"
   ]
  },
  {
   "cell_type": "code",
   "execution_count": 5,
   "id": "9e3b4b4b-0fb6-4a1e-ad3a-903ed6cd5b2f",
   "metadata": {},
   "outputs": [],
   "source": [
    "df_app = df[['ID', 'flmat30conta','flmat60conta','flmat90conta','flmau30conta','flmau60conta','flmau90conta', 'Capacidade_de_Pagamento_7', 'fl_renovou']]"
   ]
  },
  {
   "cell_type": "code",
   "execution_count": 28,
   "id": "d50bf44b-8e3a-4553-a550-d9f8d6ccb0bd",
   "metadata": {},
   "outputs": [
    {
     "data": {
      "text/html": [
       "\n",
       "  <div class=\"bk-root\" id=\"616319e3-7e80-4d51-a385-9eb2af818be9\" data-root-id=\"2476\"></div>\n"
      ]
     },
     "metadata": {},
     "output_type": "display_data"
    },
    {
     "data": {
      "application/javascript": [
       "(function(root) {\n",
       "  function embed_document(root) {\n",
       "  const docs_json = {\"9f0435eb-b50c-4b84-9575-c5161c161e34\":{\"defs\":[],\"roots\":{\"references\":[{\"attributes\":{\"below\":[{\"id\":\"2487\"}],\"center\":[{\"id\":\"2490\"},{\"id\":\"2494\"},{\"id\":\"2527\"}],\"height\":500,\"left\":[{\"id\":\"2491\"}],\"output_backend\":\"webgl\",\"renderers\":[{\"id\":\"2516\"}],\"sizing_mode\":\"fixed\",\"title\":{\"id\":\"2477\"},\"toolbar\":{\"id\":\"2502\"},\"width\":900,\"x_range\":{\"id\":\"2479\"},\"x_scale\":{\"id\":\"2483\"},\"y_range\":{\"id\":\"2481\"},\"y_scale\":{\"id\":\"2485\"}},\"id\":\"2476\",\"subtype\":\"Figure\",\"type\":\"Plot\"},{\"attributes\":{\"axis_label\":\"Categoria Capacidade_de_Pagamento_7\",\"coordinates\":null,\"formatter\":{\"id\":\"2509\"},\"group\":null,\"major_label_policy\":{\"id\":\"2520\"},\"ticker\":{\"id\":\"2531\"}},\"id\":\"2491\",\"type\":\"LinearAxis\"},{\"attributes\":{},\"id\":\"2524\",\"type\":\"UnionRenderers\"},{\"attributes\":{\"source\":{\"id\":\"2475\"}},\"id\":\"2517\",\"type\":\"CDSView\"},{\"attributes\":{\"label\":{\"value\":\" fl_renovou\"},\"renderers\":[{\"id\":\"2516\"}]},\"id\":\"2528\",\"type\":\"LegendItem\"},{\"attributes\":{\"bottom_units\":\"screen\",\"coordinates\":null,\"fill_alpha\":0.5,\"fill_color\":\"lightgrey\",\"group\":null,\"left_units\":\"screen\",\"level\":\"overlay\",\"line_alpha\":1.0,\"line_color\":\"black\",\"line_dash\":[4,4],\"line_width\":2,\"right_units\":\"screen\",\"syncable\":false,\"top_units\":\"screen\"},\"id\":\"2501\",\"type\":\"BoxAnnotation\"},{\"attributes\":{\"coordinates\":null,\"data_source\":{\"id\":\"2475\"},\"glyph\":{\"id\":\"2513\"},\"group\":null,\"hover_glyph\":null,\"muted_glyph\":{\"id\":\"2515\"},\"nonselection_glyph\":{\"id\":\"2514\"},\"view\":{\"id\":\"2517\"}},\"id\":\"2516\",\"type\":\"GlyphRenderer\"},{\"attributes\":{},\"id\":\"2496\",\"type\":\"WheelZoomTool\"},{\"attributes\":{\"fill_color\":{\"value\":\"#5775D0\"},\"hatch_color\":{\"value\":\"#5775D0\"},\"height\":{\"value\":0.7},\"line_color\":{\"value\":\"#5775D0\"},\"line_width\":{\"value\":2},\"right\":{\"field\":\"fl_renovou\"},\"y\":{\"field\":\"__x__values\",\"transform\":{\"id\":\"2511\"}}},\"id\":\"2513\",\"type\":\"HBar\"},{\"attributes\":{},\"id\":\"2498\",\"type\":\"SaveTool\"},{\"attributes\":{},\"id\":\"2520\",\"type\":\"AllLabels\"},{\"attributes\":{\"code\":\"\\n                                    var labels = {0: '8', 1: '5', 2: '4', 3: '7', 4: '9', 5: '6', 6: '3', 7: '0', 8: '1', 9: '2'};\\n                                    return labels[tick];\\n                                    \"},\"id\":\"2509\",\"type\":\"FuncTickFormatter\"},{\"attributes\":{\"axis\":{\"id\":\"2487\"},\"coordinates\":null,\"group\":null,\"ticker\":null},\"id\":\"2490\",\"type\":\"Grid\"},{\"attributes\":{\"click_policy\":\"hide\",\"coordinates\":null,\"group\":null,\"items\":[{\"id\":\"2528\"}]},\"id\":\"2527\",\"type\":\"Legend\"},{\"attributes\":{},\"id\":\"2500\",\"type\":\"HelpTool\"},{\"attributes\":{\"ticks\":[0,1,2,3,4,5,6,7,8,9]},\"id\":\"2531\",\"type\":\"FixedTicker\"},{\"attributes\":{},\"id\":\"2495\",\"type\":\"PanTool\"},{\"attributes\":{},\"id\":\"2479\",\"type\":\"DataRange1d\"},{\"attributes\":{\"overlay\":{\"id\":\"2501\"}},\"id\":\"2497\",\"type\":\"BoxZoomTool\"},{\"attributes\":{\"active_scroll\":{\"id\":\"2496\"},\"tools\":[{\"id\":\"2495\"},{\"id\":\"2496\"},{\"id\":\"2497\"},{\"id\":\"2498\"},{\"id\":\"2499\"},{\"id\":\"2500\"},{\"id\":\"2529\"}]},\"id\":\"2502\",\"type\":\"Toolbar\"},{\"attributes\":{\"range\":{\"id\":\"2481\"}},\"id\":\"2511\",\"type\":\"Dodge\"},{\"attributes\":{\"axis\":{\"id\":\"2491\"},\"coordinates\":null,\"dimension\":1,\"group\":null,\"ticker\":null},\"id\":\"2494\",\"type\":\"Grid\"},{\"attributes\":{},\"id\":\"2488\",\"type\":\"BasicTicker\"},{\"attributes\":{},\"id\":\"2523\",\"type\":\"AllLabels\"},{\"attributes\":{\"data\":{\"__x__values\":[0,1,2,3,4,5,6,7,8,9],\"__x__values_original\":[8,5,4,7,9,6,3,0,1,2],\"fl_renovou\":[986,216,112,94,77,67,33,3,1,1]},\"selected\":{\"id\":\"2525\"},\"selection_policy\":{\"id\":\"2524\"}},\"id\":\"2475\",\"type\":\"ColumnDataSource\"},{\"attributes\":{},\"id\":\"2483\",\"type\":\"LinearScale\"},{\"attributes\":{\"callback\":null,\"mode\":\"hline\",\"renderers\":[{\"id\":\"2516\"}],\"tooltips\":[[\"Categoria Capacidade_de_Pagamento_7\",\"@__x__values_original\"],[\"fl_renovou\",\"@{fl_renovou}\"]]},\"id\":\"2529\",\"type\":\"HoverTool\"},{\"attributes\":{},\"id\":\"2522\",\"type\":\"BasicTickFormatter\"},{\"attributes\":{},\"id\":\"2481\",\"type\":\"DataRange1d\"},{\"attributes\":{},\"id\":\"2499\",\"type\":\"ResetTool\"},{\"attributes\":{\"fill_alpha\":{\"value\":0.1},\"fill_color\":{\"value\":\"#5775D0\"},\"hatch_alpha\":{\"value\":0.1},\"hatch_color\":{\"value\":\"#5775D0\"},\"height\":{\"value\":0.7},\"line_alpha\":{\"value\":0.1},\"line_color\":{\"value\":\"#5775D0\"},\"line_width\":{\"value\":2},\"right\":{\"field\":\"fl_renovou\"},\"y\":{\"field\":\"__x__values\",\"transform\":{\"id\":\"2511\"}}},\"id\":\"2514\",\"type\":\"HBar\"},{\"attributes\":{\"axis_label\":\"Quantidade de renova\\u00e7\\u00e3o\",\"coordinates\":null,\"formatter\":{\"id\":\"2522\"},\"group\":null,\"major_label_policy\":{\"id\":\"2523\"},\"ticker\":{\"id\":\"2488\"}},\"id\":\"2487\",\"type\":\"LinearAxis\"},{\"attributes\":{},\"id\":\"2525\",\"type\":\"Selection\"},{\"attributes\":{\"fill_alpha\":{\"value\":0.2},\"fill_color\":{\"value\":\"#5775D0\"},\"hatch_alpha\":{\"value\":0.2},\"hatch_color\":{\"value\":\"#5775D0\"},\"height\":{\"value\":0.7},\"line_alpha\":{\"value\":0.2},\"line_color\":{\"value\":\"#5775D0\"},\"line_width\":{\"value\":2},\"right\":{\"field\":\"fl_renovou\"},\"y\":{\"field\":\"__x__values\",\"transform\":{\"id\":\"2511\"}}},\"id\":\"2515\",\"type\":\"HBar\"},{\"attributes\":{\"coordinates\":null,\"group\":null,\"text\":\"Quantidade de Renova\\u00e7\\u00e3o por Capacidade_de_Pagamento_7\"},\"id\":\"2477\",\"type\":\"Title\"},{\"attributes\":{},\"id\":\"2485\",\"type\":\"LinearScale\"}],\"root_ids\":[\"2476\"]},\"title\":\"Bokeh Application\",\"version\":\"2.4.3\"}};\n",
       "  const render_items = [{\"docid\":\"9f0435eb-b50c-4b84-9575-c5161c161e34\",\"root_ids\":[\"2476\"],\"roots\":{\"2476\":\"616319e3-7e80-4d51-a385-9eb2af818be9\"}}];\n",
       "  root.Bokeh.embed.embed_items_notebook(docs_json, render_items);\n",
       "  }\n",
       "  if (root.Bokeh !== undefined) {\n",
       "    embed_document(root);\n",
       "  } else {\n",
       "    let attempts = 0;\n",
       "    const timer = setInterval(function(root) {\n",
       "      if (root.Bokeh !== undefined) {\n",
       "        clearInterval(timer);\n",
       "        embed_document(root);\n",
       "      } else {\n",
       "        attempts++;\n",
       "        if (attempts > 100) {\n",
       "          clearInterval(timer);\n",
       "          console.log(\"Bokeh: ERROR: Unable to run BokehJS code because BokehJS library is missing\");\n",
       "        }\n",
       "      }\n",
       "    }, 10, root)\n",
       "  }\n",
       "})(window);"
      ],
      "application/vnd.bokehjs_exec.v0+json": ""
     },
     "metadata": {
      "application/vnd.bokehjs_exec.v0+json": {
       "id": "2476"
      }
     },
     "output_type": "display_data"
    },
    {
     "data": {
      "text/html": [
       "<div style=\"display: table;\"><div style=\"display: table-row;\"><div style=\"display: table-cell;\"><b title=\"bokeh.plotting.figure.Figure\">Figure</b>(</div><div style=\"display: table-cell;\">id&nbsp;=&nbsp;'2476', <span id=\"2648\" style=\"cursor: pointer;\">&hellip;)</span></div></div><div class=\"2647\" style=\"display: none;\"><div style=\"display: table-cell;\"></div><div style=\"display: table-cell;\">above&nbsp;=&nbsp;[],</div></div><div class=\"2647\" style=\"display: none;\"><div style=\"display: table-cell;\"></div><div style=\"display: table-cell;\">align&nbsp;=&nbsp;'start',</div></div><div class=\"2647\" style=\"display: none;\"><div style=\"display: table-cell;\"></div><div style=\"display: table-cell;\">aspect_ratio&nbsp;=&nbsp;None,</div></div><div class=\"2647\" style=\"display: none;\"><div style=\"display: table-cell;\"></div><div style=\"display: table-cell;\">aspect_scale&nbsp;=&nbsp;1,</div></div><div class=\"2647\" style=\"display: none;\"><div style=\"display: table-cell;\"></div><div style=\"display: table-cell;\">background&nbsp;=&nbsp;None,</div></div><div class=\"2647\" style=\"display: none;\"><div style=\"display: table-cell;\"></div><div style=\"display: table-cell;\">background_fill_alpha&nbsp;=&nbsp;1.0,</div></div><div class=\"2647\" style=\"display: none;\"><div style=\"display: table-cell;\"></div><div style=\"display: table-cell;\">background_fill_color&nbsp;=&nbsp;'#ffffff',</div></div><div class=\"2647\" style=\"display: none;\"><div style=\"display: table-cell;\"></div><div style=\"display: table-cell;\">below&nbsp;=&nbsp;[LinearAxis(id='2487', ...)],</div></div><div class=\"2647\" style=\"display: none;\"><div style=\"display: table-cell;\"></div><div style=\"display: table-cell;\">border_fill_alpha&nbsp;=&nbsp;1.0,</div></div><div class=\"2647\" style=\"display: none;\"><div style=\"display: table-cell;\"></div><div style=\"display: table-cell;\">border_fill_color&nbsp;=&nbsp;'#ffffff',</div></div><div class=\"2647\" style=\"display: none;\"><div style=\"display: table-cell;\"></div><div style=\"display: table-cell;\">center&nbsp;=&nbsp;[Grid(id='2490', ...), Grid(id='2494', ...), Legend(id='2527', ...)],</div></div><div class=\"2647\" style=\"display: none;\"><div style=\"display: table-cell;\"></div><div style=\"display: table-cell;\">css_classes&nbsp;=&nbsp;[],</div></div><div class=\"2647\" style=\"display: none;\"><div style=\"display: table-cell;\"></div><div style=\"display: table-cell;\">disabled&nbsp;=&nbsp;False,</div></div><div class=\"2647\" style=\"display: none;\"><div style=\"display: table-cell;\"></div><div style=\"display: table-cell;\">extra_x_ranges&nbsp;=&nbsp;{},</div></div><div class=\"2647\" style=\"display: none;\"><div style=\"display: table-cell;\"></div><div style=\"display: table-cell;\">extra_x_scales&nbsp;=&nbsp;{},</div></div><div class=\"2647\" style=\"display: none;\"><div style=\"display: table-cell;\"></div><div style=\"display: table-cell;\">extra_y_ranges&nbsp;=&nbsp;{},</div></div><div class=\"2647\" style=\"display: none;\"><div style=\"display: table-cell;\"></div><div style=\"display: table-cell;\">extra_y_scales&nbsp;=&nbsp;{},</div></div><div class=\"2647\" style=\"display: none;\"><div style=\"display: table-cell;\"></div><div style=\"display: table-cell;\">frame_height&nbsp;=&nbsp;None,</div></div><div class=\"2647\" style=\"display: none;\"><div style=\"display: table-cell;\"></div><div style=\"display: table-cell;\">frame_width&nbsp;=&nbsp;None,</div></div><div class=\"2647\" style=\"display: none;\"><div style=\"display: table-cell;\"></div><div style=\"display: table-cell;\">height&nbsp;=&nbsp;500,</div></div><div class=\"2647\" style=\"display: none;\"><div style=\"display: table-cell;\"></div><div style=\"display: table-cell;\">height_policy&nbsp;=&nbsp;'auto',</div></div><div class=\"2647\" style=\"display: none;\"><div style=\"display: table-cell;\"></div><div style=\"display: table-cell;\">hidpi&nbsp;=&nbsp;True,</div></div><div class=\"2647\" style=\"display: none;\"><div style=\"display: table-cell;\"></div><div style=\"display: table-cell;\">inner_height&nbsp;=&nbsp;0,</div></div><div class=\"2647\" style=\"display: none;\"><div style=\"display: table-cell;\"></div><div style=\"display: table-cell;\">inner_width&nbsp;=&nbsp;0,</div></div><div class=\"2647\" style=\"display: none;\"><div style=\"display: table-cell;\"></div><div style=\"display: table-cell;\">js_event_callbacks&nbsp;=&nbsp;{},</div></div><div class=\"2647\" style=\"display: none;\"><div style=\"display: table-cell;\"></div><div style=\"display: table-cell;\">js_property_callbacks&nbsp;=&nbsp;{},</div></div><div class=\"2647\" style=\"display: none;\"><div style=\"display: table-cell;\"></div><div style=\"display: table-cell;\">left&nbsp;=&nbsp;[LinearAxis(id='2491', ...)],</div></div><div class=\"2647\" style=\"display: none;\"><div style=\"display: table-cell;\"></div><div style=\"display: table-cell;\">lod_factor&nbsp;=&nbsp;10,</div></div><div class=\"2647\" style=\"display: none;\"><div style=\"display: table-cell;\"></div><div style=\"display: table-cell;\">lod_interval&nbsp;=&nbsp;300,</div></div><div class=\"2647\" style=\"display: none;\"><div style=\"display: table-cell;\"></div><div style=\"display: table-cell;\">lod_threshold&nbsp;=&nbsp;2000,</div></div><div class=\"2647\" style=\"display: none;\"><div style=\"display: table-cell;\"></div><div style=\"display: table-cell;\">lod_timeout&nbsp;=&nbsp;500,</div></div><div class=\"2647\" style=\"display: none;\"><div style=\"display: table-cell;\"></div><div style=\"display: table-cell;\">margin&nbsp;=&nbsp;(0, 0, 0, 0),</div></div><div class=\"2647\" style=\"display: none;\"><div style=\"display: table-cell;\"></div><div style=\"display: table-cell;\">match_aspect&nbsp;=&nbsp;False,</div></div><div class=\"2647\" style=\"display: none;\"><div style=\"display: table-cell;\"></div><div style=\"display: table-cell;\">max_height&nbsp;=&nbsp;None,</div></div><div class=\"2647\" style=\"display: none;\"><div style=\"display: table-cell;\"></div><div style=\"display: table-cell;\">max_width&nbsp;=&nbsp;None,</div></div><div class=\"2647\" style=\"display: none;\"><div style=\"display: table-cell;\"></div><div style=\"display: table-cell;\">min_border&nbsp;=&nbsp;5,</div></div><div class=\"2647\" style=\"display: none;\"><div style=\"display: table-cell;\"></div><div style=\"display: table-cell;\">min_border_bottom&nbsp;=&nbsp;None,</div></div><div class=\"2647\" style=\"display: none;\"><div style=\"display: table-cell;\"></div><div style=\"display: table-cell;\">min_border_left&nbsp;=&nbsp;None,</div></div><div class=\"2647\" style=\"display: none;\"><div style=\"display: table-cell;\"></div><div style=\"display: table-cell;\">min_border_right&nbsp;=&nbsp;None,</div></div><div class=\"2647\" style=\"display: none;\"><div style=\"display: table-cell;\"></div><div style=\"display: table-cell;\">min_border_top&nbsp;=&nbsp;None,</div></div><div class=\"2647\" style=\"display: none;\"><div style=\"display: table-cell;\"></div><div style=\"display: table-cell;\">min_height&nbsp;=&nbsp;None,</div></div><div class=\"2647\" style=\"display: none;\"><div style=\"display: table-cell;\"></div><div style=\"display: table-cell;\">min_width&nbsp;=&nbsp;None,</div></div><div class=\"2647\" style=\"display: none;\"><div style=\"display: table-cell;\"></div><div style=\"display: table-cell;\">name&nbsp;=&nbsp;None,</div></div><div class=\"2647\" style=\"display: none;\"><div style=\"display: table-cell;\"></div><div style=\"display: table-cell;\">outer_height&nbsp;=&nbsp;0,</div></div><div class=\"2647\" style=\"display: none;\"><div style=\"display: table-cell;\"></div><div style=\"display: table-cell;\">outer_width&nbsp;=&nbsp;0,</div></div><div class=\"2647\" style=\"display: none;\"><div style=\"display: table-cell;\"></div><div style=\"display: table-cell;\">outline_line_alpha&nbsp;=&nbsp;1.0,</div></div><div class=\"2647\" style=\"display: none;\"><div style=\"display: table-cell;\"></div><div style=\"display: table-cell;\">outline_line_cap&nbsp;=&nbsp;'butt',</div></div><div class=\"2647\" style=\"display: none;\"><div style=\"display: table-cell;\"></div><div style=\"display: table-cell;\">outline_line_color&nbsp;=&nbsp;'#e5e5e5',</div></div><div class=\"2647\" style=\"display: none;\"><div style=\"display: table-cell;\"></div><div style=\"display: table-cell;\">outline_line_dash&nbsp;=&nbsp;[],</div></div><div class=\"2647\" style=\"display: none;\"><div style=\"display: table-cell;\"></div><div style=\"display: table-cell;\">outline_line_dash_offset&nbsp;=&nbsp;0,</div></div><div class=\"2647\" style=\"display: none;\"><div style=\"display: table-cell;\"></div><div style=\"display: table-cell;\">outline_line_join&nbsp;=&nbsp;'bevel',</div></div><div class=\"2647\" style=\"display: none;\"><div style=\"display: table-cell;\"></div><div style=\"display: table-cell;\">outline_line_width&nbsp;=&nbsp;1,</div></div><div class=\"2647\" style=\"display: none;\"><div style=\"display: table-cell;\"></div><div style=\"display: table-cell;\">output_backend&nbsp;=&nbsp;'webgl',</div></div><div class=\"2647\" style=\"display: none;\"><div style=\"display: table-cell;\"></div><div style=\"display: table-cell;\">renderers&nbsp;=&nbsp;[GlyphRenderer(id='2516', ...)],</div></div><div class=\"2647\" style=\"display: none;\"><div style=\"display: table-cell;\"></div><div style=\"display: table-cell;\">reset_policy&nbsp;=&nbsp;'standard',</div></div><div class=\"2647\" style=\"display: none;\"><div style=\"display: table-cell;\"></div><div style=\"display: table-cell;\">right&nbsp;=&nbsp;[],</div></div><div class=\"2647\" style=\"display: none;\"><div style=\"display: table-cell;\"></div><div style=\"display: table-cell;\">sizing_mode&nbsp;=&nbsp;'fixed',</div></div><div class=\"2647\" style=\"display: none;\"><div style=\"display: table-cell;\"></div><div style=\"display: table-cell;\">subscribed_events&nbsp;=&nbsp;[],</div></div><div class=\"2647\" style=\"display: none;\"><div style=\"display: table-cell;\"></div><div style=\"display: table-cell;\">syncable&nbsp;=&nbsp;True,</div></div><div class=\"2647\" style=\"display: none;\"><div style=\"display: table-cell;\"></div><div style=\"display: table-cell;\">tags&nbsp;=&nbsp;[],</div></div><div class=\"2647\" style=\"display: none;\"><div style=\"display: table-cell;\"></div><div style=\"display: table-cell;\">title&nbsp;=&nbsp;Title(id='2477', ...),</div></div><div class=\"2647\" style=\"display: none;\"><div style=\"display: table-cell;\"></div><div style=\"display: table-cell;\">title_location&nbsp;=&nbsp;'above',</div></div><div class=\"2647\" style=\"display: none;\"><div style=\"display: table-cell;\"></div><div style=\"display: table-cell;\">toolbar&nbsp;=&nbsp;Toolbar(id='2502', ...),</div></div><div class=\"2647\" style=\"display: none;\"><div style=\"display: table-cell;\"></div><div style=\"display: table-cell;\">toolbar_location&nbsp;=&nbsp;'right',</div></div><div class=\"2647\" style=\"display: none;\"><div style=\"display: table-cell;\"></div><div style=\"display: table-cell;\">toolbar_sticky&nbsp;=&nbsp;True,</div></div><div class=\"2647\" style=\"display: none;\"><div style=\"display: table-cell;\"></div><div style=\"display: table-cell;\">visible&nbsp;=&nbsp;True,</div></div><div class=\"2647\" style=\"display: none;\"><div style=\"display: table-cell;\"></div><div style=\"display: table-cell;\">width&nbsp;=&nbsp;900,</div></div><div class=\"2647\" style=\"display: none;\"><div style=\"display: table-cell;\"></div><div style=\"display: table-cell;\">width_policy&nbsp;=&nbsp;'auto',</div></div><div class=\"2647\" style=\"display: none;\"><div style=\"display: table-cell;\"></div><div style=\"display: table-cell;\">x_range&nbsp;=&nbsp;DataRange1d(id='2479', ...),</div></div><div class=\"2647\" style=\"display: none;\"><div style=\"display: table-cell;\"></div><div style=\"display: table-cell;\">x_scale&nbsp;=&nbsp;LinearScale(id='2483', ...),</div></div><div class=\"2647\" style=\"display: none;\"><div style=\"display: table-cell;\"></div><div style=\"display: table-cell;\">y_range&nbsp;=&nbsp;DataRange1d(id='2481', ...),</div></div><div class=\"2647\" style=\"display: none;\"><div style=\"display: table-cell;\"></div><div style=\"display: table-cell;\">y_scale&nbsp;=&nbsp;LinearScale(id='2485', ...))</div></div></div>\n",
       "<script>\n",
       "(function() {\n",
       "  let expanded = false;\n",
       "  const ellipsis = document.getElementById(\"2648\");\n",
       "  ellipsis.addEventListener(\"click\", function() {\n",
       "    const rows = document.getElementsByClassName(\"2647\");\n",
       "    for (let i = 0; i < rows.length; i++) {\n",
       "      const el = rows[i];\n",
       "      el.style.display = expanded ? \"none\" : \"table-row\";\n",
       "    }\n",
       "    ellipsis.innerHTML = expanded ? \"&hellip;)\" : \"&lsaquo;&lsaquo;&lsaquo;\";\n",
       "    expanded = !expanded;\n",
       "  });\n",
       "})();\n",
       "</script>\n"
      ],
      "text/plain": [
       "Figure(id='2476', ...)"
      ]
     },
     "execution_count": 28,
     "metadata": {},
     "output_type": "execute_result"
    }
   ],
   "source": [
    "df_app.groupby('Capacidade_de_Pagamento_7').sum()['fl_renovou'].sort_values(ascending = False).plot(\n",
    "    kind=\"barh\",\n",
    "    title=\"Quantidade de Renovação por Capacidade_de_Pagamento_7\",\n",
    "    legend = \"top_right\",\n",
    "    ylabel=\"Categoria Capacidade_de_Pagamento_7\",\n",
    "    xlabel=\"Quantidade de renovação\",\n",
    "    color=\"#5775D0\",\n",
    "    figsize=(900, 500)\n",
    ")"
   ]
  },
  {
   "cell_type": "code",
   "execution_count": 30,
   "id": "b25e21f7-a3e5-442f-a14d-5137c414177b",
   "metadata": {},
   "outputs": [
    {
     "data": {
      "text/html": [
       "\n",
       "  <div class=\"bk-root\" id=\"10108ce3-226d-4b4f-9c33-60c4e6d84f35\" data-root-id=\"2904\"></div>\n"
      ]
     },
     "metadata": {},
     "output_type": "display_data"
    },
    {
     "data": {
      "application/javascript": [
       "(function(root) {\n",
       "  function embed_document(root) {\n",
       "  const docs_json = {\"cd82d8f4-e6a6-473f-81e5-f20d601d3e1b\":{\"defs\":[],\"roots\":{\"references\":[{\"attributes\":{\"below\":[{\"id\":\"2915\"}],\"center\":[{\"id\":\"2918\"},{\"id\":\"2922\"},{\"id\":\"2955\"}],\"height\":500,\"left\":[{\"id\":\"2919\"}],\"output_backend\":\"webgl\",\"renderers\":[{\"id\":\"2944\"}],\"sizing_mode\":\"fixed\",\"title\":{\"id\":\"2905\"},\"toolbar\":{\"id\":\"2930\"},\"width\":900,\"x_range\":{\"id\":\"2907\"},\"x_scale\":{\"id\":\"2911\"},\"y_range\":{\"id\":\"2909\"},\"y_scale\":{\"id\":\"2913\"}},\"id\":\"2904\",\"subtype\":\"Figure\",\"type\":\"Plot\"},{\"attributes\":{},\"id\":\"2911\",\"type\":\"LinearScale\"},{\"attributes\":{\"click_policy\":\"hide\",\"coordinates\":null,\"group\":null,\"items\":[{\"id\":\"2956\"}]},\"id\":\"2955\",\"type\":\"Legend\"},{\"attributes\":{},\"id\":\"2927\",\"type\":\"ResetTool\"},{\"attributes\":{\"fill_alpha\":{\"value\":0.2},\"fill_color\":{\"value\":\"#5775D0\"},\"hatch_alpha\":{\"value\":0.2},\"hatch_color\":{\"value\":\"#5775D0\"},\"height\":{\"value\":0.7},\"line_alpha\":{\"value\":0.2},\"line_color\":{\"value\":\"#5775D0\"},\"line_width\":{\"value\":2},\"right\":{\"field\":\"fl_renovou\"},\"y\":{\"field\":\"__x__values\",\"transform\":{\"id\":\"2939\"}}},\"id\":\"2943\",\"type\":\"HBar\"},{\"attributes\":{},\"id\":\"2951\",\"type\":\"AllLabels\"},{\"attributes\":{},\"id\":\"2928\",\"type\":\"HelpTool\"},{\"attributes\":{},\"id\":\"2913\",\"type\":\"LinearScale\"},{\"attributes\":{\"axis_label\":\"% de renova\\u00e7\\u00e3o\",\"coordinates\":null,\"formatter\":{\"id\":\"2950\"},\"group\":null,\"major_label_policy\":{\"id\":\"2951\"},\"ticker\":{\"id\":\"2916\"}},\"id\":\"2915\",\"type\":\"LinearAxis\"},{\"attributes\":{\"range\":{\"id\":\"2909\"}},\"id\":\"2939\",\"type\":\"Dodge\"},{\"attributes\":{\"active_scroll\":{\"id\":\"2924\"},\"tools\":[{\"id\":\"2923\"},{\"id\":\"2924\"},{\"id\":\"2925\"},{\"id\":\"2926\"},{\"id\":\"2927\"},{\"id\":\"2928\"},{\"id\":\"2957\"}]},\"id\":\"2930\",\"type\":\"Toolbar\"},{\"attributes\":{\"axis\":{\"id\":\"2919\"},\"coordinates\":null,\"dimension\":1,\"group\":null,\"ticker\":null},\"id\":\"2922\",\"type\":\"Grid\"},{\"attributes\":{\"data\":{\"__x__values\":[0,1,2,3,4,5,6,7,8,9],\"__x__values_original\":[8,5,4,7,9,6,3,0,1,2],\"fl_renovou\":{\"__ndarray__\":\"01BfCBLY4z/hH6d7gGPBP4E901BfCLI/YnAZI+lErj+SdCIPg8uoP3HgReUok6U/odGverlAlT8CjkX4x+lePwG0g6Xam0Q/AbSDpdqbRD8=\",\"dtype\":\"float64\",\"order\":\"little\",\"shape\":[10]}},\"selected\":{\"id\":\"2953\"},\"selection_policy\":{\"id\":\"2952\"}},\"id\":\"2903\",\"type\":\"ColumnDataSource\"},{\"attributes\":{\"bottom_units\":\"screen\",\"coordinates\":null,\"fill_alpha\":0.5,\"fill_color\":\"lightgrey\",\"group\":null,\"left_units\":\"screen\",\"level\":\"overlay\",\"line_alpha\":1.0,\"line_color\":\"black\",\"line_dash\":[4,4],\"line_width\":2,\"right_units\":\"screen\",\"syncable\":false,\"top_units\":\"screen\"},\"id\":\"2929\",\"type\":\"BoxAnnotation\"},{\"attributes\":{},\"id\":\"2916\",\"type\":\"BasicTicker\"},{\"attributes\":{},\"id\":\"2953\",\"type\":\"Selection\"},{\"attributes\":{\"callback\":null,\"mode\":\"hline\",\"renderers\":[{\"id\":\"2944\"}],\"tooltips\":[[\"Categoria Capacidade_de_Pagamento_7\",\"@__x__values_original\"],[\"fl_renovou\",\"@{fl_renovou}\"]]},\"id\":\"2957\",\"type\":\"HoverTool\"},{\"attributes\":{\"axis\":{\"id\":\"2915\"},\"coordinates\":null,\"group\":null,\"ticker\":null},\"id\":\"2918\",\"type\":\"Grid\"},{\"attributes\":{},\"id\":\"2907\",\"type\":\"DataRange1d\"},{\"attributes\":{\"axis_label\":\"Categoria Capacidade_de_Pagamento_7\",\"coordinates\":null,\"formatter\":{\"id\":\"2937\"},\"group\":null,\"major_label_policy\":{\"id\":\"2948\"},\"ticker\":{\"id\":\"2959\"}},\"id\":\"2919\",\"type\":\"LinearAxis\"},{\"attributes\":{},\"id\":\"2948\",\"type\":\"AllLabels\"},{\"attributes\":{},\"id\":\"2950\",\"type\":\"BasicTickFormatter\"},{\"attributes\":{\"coordinates\":null,\"group\":null,\"text\":\"Quantidade de Renova\\u00e7\\u00e3o por Capacidade_de_Pagamento_7\"},\"id\":\"2905\",\"type\":\"Title\"},{\"attributes\":{\"label\":{\"value\":\" fl_renovou\"},\"renderers\":[{\"id\":\"2944\"}]},\"id\":\"2956\",\"type\":\"LegendItem\"},{\"attributes\":{\"ticks\":[0,1,2,3,4,5,6,7,8,9]},\"id\":\"2959\",\"type\":\"FixedTicker\"},{\"attributes\":{},\"id\":\"2952\",\"type\":\"UnionRenderers\"},{\"attributes\":{\"coordinates\":null,\"data_source\":{\"id\":\"2903\"},\"glyph\":{\"id\":\"2941\"},\"group\":null,\"hover_glyph\":null,\"muted_glyph\":{\"id\":\"2943\"},\"nonselection_glyph\":{\"id\":\"2942\"},\"view\":{\"id\":\"2945\"}},\"id\":\"2944\",\"type\":\"GlyphRenderer\"},{\"attributes\":{},\"id\":\"2923\",\"type\":\"PanTool\"},{\"attributes\":{\"fill_color\":{\"value\":\"#5775D0\"},\"hatch_color\":{\"value\":\"#5775D0\"},\"height\":{\"value\":0.7},\"line_color\":{\"value\":\"#5775D0\"},\"line_width\":{\"value\":2},\"right\":{\"field\":\"fl_renovou\"},\"y\":{\"field\":\"__x__values\",\"transform\":{\"id\":\"2939\"}}},\"id\":\"2941\",\"type\":\"HBar\"},{\"attributes\":{},\"id\":\"2909\",\"type\":\"DataRange1d\"},{\"attributes\":{},\"id\":\"2924\",\"type\":\"WheelZoomTool\"},{\"attributes\":{\"code\":\"\\n                                    var labels = {0: '8', 1: '5', 2: '4', 3: '7', 4: '9', 5: '6', 6: '3', 7: '0', 8: '1', 9: '2'};\\n                                    return labels[tick];\\n                                    \"},\"id\":\"2937\",\"type\":\"FuncTickFormatter\"},{\"attributes\":{\"fill_alpha\":{\"value\":0.1},\"fill_color\":{\"value\":\"#5775D0\"},\"hatch_alpha\":{\"value\":0.1},\"hatch_color\":{\"value\":\"#5775D0\"},\"height\":{\"value\":0.7},\"line_alpha\":{\"value\":0.1},\"line_color\":{\"value\":\"#5775D0\"},\"line_width\":{\"value\":2},\"right\":{\"field\":\"fl_renovou\"},\"y\":{\"field\":\"__x__values\",\"transform\":{\"id\":\"2939\"}}},\"id\":\"2942\",\"type\":\"HBar\"},{\"attributes\":{\"overlay\":{\"id\":\"2929\"}},\"id\":\"2925\",\"type\":\"BoxZoomTool\"},{\"attributes\":{},\"id\":\"2926\",\"type\":\"SaveTool\"},{\"attributes\":{\"source\":{\"id\":\"2903\"}},\"id\":\"2945\",\"type\":\"CDSView\"}],\"root_ids\":[\"2904\"]},\"title\":\"Bokeh Application\",\"version\":\"2.4.3\"}};\n",
       "  const render_items = [{\"docid\":\"cd82d8f4-e6a6-473f-81e5-f20d601d3e1b\",\"root_ids\":[\"2904\"],\"roots\":{\"2904\":\"10108ce3-226d-4b4f-9c33-60c4e6d84f35\"}}];\n",
       "  root.Bokeh.embed.embed_items_notebook(docs_json, render_items);\n",
       "  }\n",
       "  if (root.Bokeh !== undefined) {\n",
       "    embed_document(root);\n",
       "  } else {\n",
       "    let attempts = 0;\n",
       "    const timer = setInterval(function(root) {\n",
       "      if (root.Bokeh !== undefined) {\n",
       "        clearInterval(timer);\n",
       "        embed_document(root);\n",
       "      } else {\n",
       "        attempts++;\n",
       "        if (attempts > 100) {\n",
       "          clearInterval(timer);\n",
       "          console.log(\"Bokeh: ERROR: Unable to run BokehJS code because BokehJS library is missing\");\n",
       "        }\n",
       "      }\n",
       "    }, 10, root)\n",
       "  }\n",
       "})(window);"
      ],
      "application/vnd.bokehjs_exec.v0+json": ""
     },
     "metadata": {
      "application/vnd.bokehjs_exec.v0+json": {
       "id": "2904"
      }
     },
     "output_type": "display_data"
    },
    {
     "data": {
      "text/html": [
       "<div style=\"display: table;\"><div style=\"display: table-row;\"><div style=\"display: table-cell;\"><b title=\"bokeh.plotting.figure.Figure\">Figure</b>(</div><div style=\"display: table-cell;\">id&nbsp;=&nbsp;'2904', <span id=\"3092\" style=\"cursor: pointer;\">&hellip;)</span></div></div><div class=\"3091\" style=\"display: none;\"><div style=\"display: table-cell;\"></div><div style=\"display: table-cell;\">above&nbsp;=&nbsp;[],</div></div><div class=\"3091\" style=\"display: none;\"><div style=\"display: table-cell;\"></div><div style=\"display: table-cell;\">align&nbsp;=&nbsp;'start',</div></div><div class=\"3091\" style=\"display: none;\"><div style=\"display: table-cell;\"></div><div style=\"display: table-cell;\">aspect_ratio&nbsp;=&nbsp;None,</div></div><div class=\"3091\" style=\"display: none;\"><div style=\"display: table-cell;\"></div><div style=\"display: table-cell;\">aspect_scale&nbsp;=&nbsp;1,</div></div><div class=\"3091\" style=\"display: none;\"><div style=\"display: table-cell;\"></div><div style=\"display: table-cell;\">background&nbsp;=&nbsp;None,</div></div><div class=\"3091\" style=\"display: none;\"><div style=\"display: table-cell;\"></div><div style=\"display: table-cell;\">background_fill_alpha&nbsp;=&nbsp;1.0,</div></div><div class=\"3091\" style=\"display: none;\"><div style=\"display: table-cell;\"></div><div style=\"display: table-cell;\">background_fill_color&nbsp;=&nbsp;'#ffffff',</div></div><div class=\"3091\" style=\"display: none;\"><div style=\"display: table-cell;\"></div><div style=\"display: table-cell;\">below&nbsp;=&nbsp;[LinearAxis(id='2915', ...)],</div></div><div class=\"3091\" style=\"display: none;\"><div style=\"display: table-cell;\"></div><div style=\"display: table-cell;\">border_fill_alpha&nbsp;=&nbsp;1.0,</div></div><div class=\"3091\" style=\"display: none;\"><div style=\"display: table-cell;\"></div><div style=\"display: table-cell;\">border_fill_color&nbsp;=&nbsp;'#ffffff',</div></div><div class=\"3091\" style=\"display: none;\"><div style=\"display: table-cell;\"></div><div style=\"display: table-cell;\">center&nbsp;=&nbsp;[Grid(id='2918', ...), Grid(id='2922', ...), Legend(id='2955', ...)],</div></div><div class=\"3091\" style=\"display: none;\"><div style=\"display: table-cell;\"></div><div style=\"display: table-cell;\">css_classes&nbsp;=&nbsp;[],</div></div><div class=\"3091\" style=\"display: none;\"><div style=\"display: table-cell;\"></div><div style=\"display: table-cell;\">disabled&nbsp;=&nbsp;False,</div></div><div class=\"3091\" style=\"display: none;\"><div style=\"display: table-cell;\"></div><div style=\"display: table-cell;\">extra_x_ranges&nbsp;=&nbsp;{},</div></div><div class=\"3091\" style=\"display: none;\"><div style=\"display: table-cell;\"></div><div style=\"display: table-cell;\">extra_x_scales&nbsp;=&nbsp;{},</div></div><div class=\"3091\" style=\"display: none;\"><div style=\"display: table-cell;\"></div><div style=\"display: table-cell;\">extra_y_ranges&nbsp;=&nbsp;{},</div></div><div class=\"3091\" style=\"display: none;\"><div style=\"display: table-cell;\"></div><div style=\"display: table-cell;\">extra_y_scales&nbsp;=&nbsp;{},</div></div><div class=\"3091\" style=\"display: none;\"><div style=\"display: table-cell;\"></div><div style=\"display: table-cell;\">frame_height&nbsp;=&nbsp;None,</div></div><div class=\"3091\" style=\"display: none;\"><div style=\"display: table-cell;\"></div><div style=\"display: table-cell;\">frame_width&nbsp;=&nbsp;None,</div></div><div class=\"3091\" style=\"display: none;\"><div style=\"display: table-cell;\"></div><div style=\"display: table-cell;\">height&nbsp;=&nbsp;500,</div></div><div class=\"3091\" style=\"display: none;\"><div style=\"display: table-cell;\"></div><div style=\"display: table-cell;\">height_policy&nbsp;=&nbsp;'auto',</div></div><div class=\"3091\" style=\"display: none;\"><div style=\"display: table-cell;\"></div><div style=\"display: table-cell;\">hidpi&nbsp;=&nbsp;True,</div></div><div class=\"3091\" style=\"display: none;\"><div style=\"display: table-cell;\"></div><div style=\"display: table-cell;\">inner_height&nbsp;=&nbsp;0,</div></div><div class=\"3091\" style=\"display: none;\"><div style=\"display: table-cell;\"></div><div style=\"display: table-cell;\">inner_width&nbsp;=&nbsp;0,</div></div><div class=\"3091\" style=\"display: none;\"><div style=\"display: table-cell;\"></div><div style=\"display: table-cell;\">js_event_callbacks&nbsp;=&nbsp;{},</div></div><div class=\"3091\" style=\"display: none;\"><div style=\"display: table-cell;\"></div><div style=\"display: table-cell;\">js_property_callbacks&nbsp;=&nbsp;{},</div></div><div class=\"3091\" style=\"display: none;\"><div style=\"display: table-cell;\"></div><div style=\"display: table-cell;\">left&nbsp;=&nbsp;[LinearAxis(id='2919', ...)],</div></div><div class=\"3091\" style=\"display: none;\"><div style=\"display: table-cell;\"></div><div style=\"display: table-cell;\">lod_factor&nbsp;=&nbsp;10,</div></div><div class=\"3091\" style=\"display: none;\"><div style=\"display: table-cell;\"></div><div style=\"display: table-cell;\">lod_interval&nbsp;=&nbsp;300,</div></div><div class=\"3091\" style=\"display: none;\"><div style=\"display: table-cell;\"></div><div style=\"display: table-cell;\">lod_threshold&nbsp;=&nbsp;2000,</div></div><div class=\"3091\" style=\"display: none;\"><div style=\"display: table-cell;\"></div><div style=\"display: table-cell;\">lod_timeout&nbsp;=&nbsp;500,</div></div><div class=\"3091\" style=\"display: none;\"><div style=\"display: table-cell;\"></div><div style=\"display: table-cell;\">margin&nbsp;=&nbsp;(0, 0, 0, 0),</div></div><div class=\"3091\" style=\"display: none;\"><div style=\"display: table-cell;\"></div><div style=\"display: table-cell;\">match_aspect&nbsp;=&nbsp;False,</div></div><div class=\"3091\" style=\"display: none;\"><div style=\"display: table-cell;\"></div><div style=\"display: table-cell;\">max_height&nbsp;=&nbsp;None,</div></div><div class=\"3091\" style=\"display: none;\"><div style=\"display: table-cell;\"></div><div style=\"display: table-cell;\">max_width&nbsp;=&nbsp;None,</div></div><div class=\"3091\" style=\"display: none;\"><div style=\"display: table-cell;\"></div><div style=\"display: table-cell;\">min_border&nbsp;=&nbsp;5,</div></div><div class=\"3091\" style=\"display: none;\"><div style=\"display: table-cell;\"></div><div style=\"display: table-cell;\">min_border_bottom&nbsp;=&nbsp;None,</div></div><div class=\"3091\" style=\"display: none;\"><div style=\"display: table-cell;\"></div><div style=\"display: table-cell;\">min_border_left&nbsp;=&nbsp;None,</div></div><div class=\"3091\" style=\"display: none;\"><div style=\"display: table-cell;\"></div><div style=\"display: table-cell;\">min_border_right&nbsp;=&nbsp;None,</div></div><div class=\"3091\" style=\"display: none;\"><div style=\"display: table-cell;\"></div><div style=\"display: table-cell;\">min_border_top&nbsp;=&nbsp;None,</div></div><div class=\"3091\" style=\"display: none;\"><div style=\"display: table-cell;\"></div><div style=\"display: table-cell;\">min_height&nbsp;=&nbsp;None,</div></div><div class=\"3091\" style=\"display: none;\"><div style=\"display: table-cell;\"></div><div style=\"display: table-cell;\">min_width&nbsp;=&nbsp;None,</div></div><div class=\"3091\" style=\"display: none;\"><div style=\"display: table-cell;\"></div><div style=\"display: table-cell;\">name&nbsp;=&nbsp;None,</div></div><div class=\"3091\" style=\"display: none;\"><div style=\"display: table-cell;\"></div><div style=\"display: table-cell;\">outer_height&nbsp;=&nbsp;0,</div></div><div class=\"3091\" style=\"display: none;\"><div style=\"display: table-cell;\"></div><div style=\"display: table-cell;\">outer_width&nbsp;=&nbsp;0,</div></div><div class=\"3091\" style=\"display: none;\"><div style=\"display: table-cell;\"></div><div style=\"display: table-cell;\">outline_line_alpha&nbsp;=&nbsp;1.0,</div></div><div class=\"3091\" style=\"display: none;\"><div style=\"display: table-cell;\"></div><div style=\"display: table-cell;\">outline_line_cap&nbsp;=&nbsp;'butt',</div></div><div class=\"3091\" style=\"display: none;\"><div style=\"display: table-cell;\"></div><div style=\"display: table-cell;\">outline_line_color&nbsp;=&nbsp;'#e5e5e5',</div></div><div class=\"3091\" style=\"display: none;\"><div style=\"display: table-cell;\"></div><div style=\"display: table-cell;\">outline_line_dash&nbsp;=&nbsp;[],</div></div><div class=\"3091\" style=\"display: none;\"><div style=\"display: table-cell;\"></div><div style=\"display: table-cell;\">outline_line_dash_offset&nbsp;=&nbsp;0,</div></div><div class=\"3091\" style=\"display: none;\"><div style=\"display: table-cell;\"></div><div style=\"display: table-cell;\">outline_line_join&nbsp;=&nbsp;'bevel',</div></div><div class=\"3091\" style=\"display: none;\"><div style=\"display: table-cell;\"></div><div style=\"display: table-cell;\">outline_line_width&nbsp;=&nbsp;1,</div></div><div class=\"3091\" style=\"display: none;\"><div style=\"display: table-cell;\"></div><div style=\"display: table-cell;\">output_backend&nbsp;=&nbsp;'webgl',</div></div><div class=\"3091\" style=\"display: none;\"><div style=\"display: table-cell;\"></div><div style=\"display: table-cell;\">renderers&nbsp;=&nbsp;[GlyphRenderer(id='2944', ...)],</div></div><div class=\"3091\" style=\"display: none;\"><div style=\"display: table-cell;\"></div><div style=\"display: table-cell;\">reset_policy&nbsp;=&nbsp;'standard',</div></div><div class=\"3091\" style=\"display: none;\"><div style=\"display: table-cell;\"></div><div style=\"display: table-cell;\">right&nbsp;=&nbsp;[],</div></div><div class=\"3091\" style=\"display: none;\"><div style=\"display: table-cell;\"></div><div style=\"display: table-cell;\">sizing_mode&nbsp;=&nbsp;'fixed',</div></div><div class=\"3091\" style=\"display: none;\"><div style=\"display: table-cell;\"></div><div style=\"display: table-cell;\">subscribed_events&nbsp;=&nbsp;[],</div></div><div class=\"3091\" style=\"display: none;\"><div style=\"display: table-cell;\"></div><div style=\"display: table-cell;\">syncable&nbsp;=&nbsp;True,</div></div><div class=\"3091\" style=\"display: none;\"><div style=\"display: table-cell;\"></div><div style=\"display: table-cell;\">tags&nbsp;=&nbsp;[],</div></div><div class=\"3091\" style=\"display: none;\"><div style=\"display: table-cell;\"></div><div style=\"display: table-cell;\">title&nbsp;=&nbsp;Title(id='2905', ...),</div></div><div class=\"3091\" style=\"display: none;\"><div style=\"display: table-cell;\"></div><div style=\"display: table-cell;\">title_location&nbsp;=&nbsp;'above',</div></div><div class=\"3091\" style=\"display: none;\"><div style=\"display: table-cell;\"></div><div style=\"display: table-cell;\">toolbar&nbsp;=&nbsp;Toolbar(id='2930', ...),</div></div><div class=\"3091\" style=\"display: none;\"><div style=\"display: table-cell;\"></div><div style=\"display: table-cell;\">toolbar_location&nbsp;=&nbsp;'right',</div></div><div class=\"3091\" style=\"display: none;\"><div style=\"display: table-cell;\"></div><div style=\"display: table-cell;\">toolbar_sticky&nbsp;=&nbsp;True,</div></div><div class=\"3091\" style=\"display: none;\"><div style=\"display: table-cell;\"></div><div style=\"display: table-cell;\">visible&nbsp;=&nbsp;True,</div></div><div class=\"3091\" style=\"display: none;\"><div style=\"display: table-cell;\"></div><div style=\"display: table-cell;\">width&nbsp;=&nbsp;900,</div></div><div class=\"3091\" style=\"display: none;\"><div style=\"display: table-cell;\"></div><div style=\"display: table-cell;\">width_policy&nbsp;=&nbsp;'auto',</div></div><div class=\"3091\" style=\"display: none;\"><div style=\"display: table-cell;\"></div><div style=\"display: table-cell;\">x_range&nbsp;=&nbsp;DataRange1d(id='2907', ...),</div></div><div class=\"3091\" style=\"display: none;\"><div style=\"display: table-cell;\"></div><div style=\"display: table-cell;\">x_scale&nbsp;=&nbsp;LinearScale(id='2911', ...),</div></div><div class=\"3091\" style=\"display: none;\"><div style=\"display: table-cell;\"></div><div style=\"display: table-cell;\">y_range&nbsp;=&nbsp;DataRange1d(id='2909', ...),</div></div><div class=\"3091\" style=\"display: none;\"><div style=\"display: table-cell;\"></div><div style=\"display: table-cell;\">y_scale&nbsp;=&nbsp;LinearScale(id='2913', ...))</div></div></div>\n",
       "<script>\n",
       "(function() {\n",
       "  let expanded = false;\n",
       "  const ellipsis = document.getElementById(\"3092\");\n",
       "  ellipsis.addEventListener(\"click\", function() {\n",
       "    const rows = document.getElementsByClassName(\"3091\");\n",
       "    for (let i = 0; i < rows.length; i++) {\n",
       "      const el = rows[i];\n",
       "      el.style.display = expanded ? \"none\" : \"table-row\";\n",
       "    }\n",
       "    ellipsis.innerHTML = expanded ? \"&hellip;)\" : \"&lsaquo;&lsaquo;&lsaquo;\";\n",
       "    expanded = !expanded;\n",
       "  });\n",
       "})();\n",
       "</script>\n"
      ],
      "text/plain": [
       "Figure(id='2904', ...)"
      ]
     },
     "execution_count": 30,
     "metadata": {},
     "output_type": "execute_result"
    }
   ],
   "source": [
    "(df_app.groupby('Capacidade_de_Pagamento_7').sum()['fl_renovou']/df_app.groupby('Capacidade_de_Pagamento_7').sum()['fl_renovou'].sum()).sort_values(ascending = False).plot(\n",
    "    kind=\"barh\",\n",
    "    title=\"Quantidade de Renovação por Capacidade_de_Pagamento_7\",\n",
    "    legend = \"top_right\",\n",
    "    ylabel=\"Categoria Capacidade_de_Pagamento_7\",\n",
    "    xlabel=\"% de renovação\",\n",
    "    color=\"#5775D0\",\n",
    "    figsize=(900, 500)\n",
    ")"
   ]
  },
  {
   "cell_type": "code",
   "execution_count": 54,
   "id": "e37c2bc8-c8e1-4de8-8bd8-7a6c9645d25b",
   "metadata": {},
   "outputs": [
    {
     "data": {
      "text/plain": [
       "Capacidade_de_Pagamento_7\n",
       "8    19432\n",
       "5     2626\n",
       "4     2194\n",
       "7     1970\n",
       "6     1913\n",
       "9     1331\n",
       "3      740\n",
       "0       63\n",
       "2       36\n",
       "1       26\n",
       "Name: ID, dtype: int64"
      ]
     },
     "execution_count": 54,
     "metadata": {},
     "output_type": "execute_result"
    }
   ],
   "source": [
    "df.loc[df.Duracao_segundos.isnull()].groupby('Capacidade_de_Pagamento_7').count()['ID'].sort_values(ascending = False)"
   ]
  },
  {
   "cell_type": "code",
   "execution_count": 64,
   "id": "ea440e98-ce66-4417-aaf2-4be093f4d090",
   "metadata": {},
   "outputs": [
    {
     "data": {
      "text/plain": [
       "Capacidade_de_Pagamento_7\n",
       "2    113.115385\n",
       "3    169.619329\n",
       "9    172.546720\n",
       "5    173.010282\n",
       "7    178.805825\n",
       "8    188.921118\n",
       "6    194.468064\n",
       "4    207.120646\n",
       "0    221.212766\n",
       "1    229.208333\n",
       "Name: Duracao_segundos, dtype: float64"
      ]
     },
     "execution_count": 64,
     "metadata": {},
     "output_type": "execute_result"
    }
   ],
   "source": [
    "df.groupby('Capacidade_de_Pagamento_7').mean()['Duracao_segundos'].sort_values(ascending = True)"
   ]
  },
  {
   "cell_type": "code",
   "execution_count": 59,
   "id": "4b127e0a-4b55-4ca7-b6d7-7703b898b3df",
   "metadata": {},
   "outputs": [],
   "source": [
    "#df_aux = df.Duracao_segundos.fillna(0)\n",
    "df_aux = df.copy()\n",
    "df_aux.Duracao_segundos = df_aux.Duracao_segundos.fillna(0)"
   ]
  },
  {
   "cell_type": "code",
   "execution_count": 63,
   "id": "31a450c7-ec98-4c87-a1c3-37f558f3e259",
   "metadata": {},
   "outputs": [
    {
     "data": {
      "text/plain": [
       "Capacidade_de_Pagamento_7\n",
       "2     47.435484\n",
       "6     66.846312\n",
       "7     68.934498\n",
       "3     68.963111\n",
       "8     72.192496\n",
       "4     72.317117\n",
       "9     74.275567\n",
       "5     86.505141\n",
       "0     94.518182\n",
       "1    110.020000\n",
       "Name: Duracao_segundos, dtype: float64"
      ]
     },
     "execution_count": 63,
     "metadata": {},
     "output_type": "execute_result"
    }
   ],
   "source": [
    "df_aux.groupby('Capacidade_de_Pagamento_7').mean()['Duracao_segundos'].sort_values(ascending = True)"
   ]
  },
  {
   "cell_type": "code",
   "execution_count": 16,
   "id": "162d42e9-9d0d-41fd-bba0-79fb8221f227",
   "metadata": {},
   "outputs": [
    {
     "data": {
      "text/plain": [
       "ID                            0.000\n",
       "flmat30conta                 57.008\n",
       "flmat60conta                 57.786\n",
       "flmat90conta                 58.820\n",
       "flmau30conta                 56.020\n",
       "flmau60conta                 57.754\n",
       "flmau90conta                 59.286\n",
       "Capacidade_de_Pagamento_7     0.000\n",
       "fl_renovou                    0.000\n",
       "dtype: float64"
      ]
     },
     "execution_count": 16,
     "metadata": {},
     "output_type": "execute_result"
    }
   ],
   "source": [
    "df_app.isnull().sum()/df_app.shape[0]*100"
   ]
  },
  {
   "cell_type": "code",
   "execution_count": 81,
   "id": "f8727056-301f-41e2-84c3-13c6fdbf02c3",
   "metadata": {},
   "outputs": [
    {
     "data": {
      "text/plain": [
       "8    62.900\n",
       "5    10.504\n",
       "4     6.742\n",
       "7     6.412\n",
       "6     5.830\n",
       "9     4.674\n",
       "3     2.494\n",
       "0     0.220\n",
       "2     0.124\n",
       "1     0.100\n",
       "Name: Capacidade_de_Pagamento_7, dtype: float64"
      ]
     },
     "execution_count": 81,
     "metadata": {},
     "output_type": "execute_result"
    }
   ],
   "source": [
    "(df.Capacidade_de_Pagamento_7.value_counts(normalize=True)*100).sort_values(ascending=False)"
   ]
  },
  {
   "cell_type": "code",
   "execution_count": 91,
   "id": "796dfa90-3a13-40ba-89bc-5726d967ad58",
   "metadata": {},
   "outputs": [
    {
     "name": "stdout",
     "output_type": "stream",
     "text": [
      "NV_CX_PID_6m\n",
      "CX_Cortesia_6m\n",
      "NV_CX_Titular_6m\n",
      "CX_Pesquisa_Satisfacao_6m\n",
      "NV_CX_Ligar_de_Volta_6m\n",
      "NV_CX_Rechamadas_6m\n",
      "CX_Usabilidade_6m\n",
      "NV_CX_Direcionamento_Outro_Canal_6m\n",
      "NV_CX_Transferencia_6m\n",
      "CX_Cliente_NaoCompreende_6m\n",
      "CX_Cancelamento_6m\n",
      "CX_Busca_Informacoes_6m\n",
      "NV_CX_Atendimento_Diferenciado_6m\n",
      "CX_Oferta_6m\n",
      "NV_CX_PID_3m\n",
      "CX_Cortesia_3m\n",
      "NV_CX_Titular_3m\n",
      "CX_Pesquisa_Satisfacao_3m\n",
      "NV_CX_Ligar_de_Volta_3m\n",
      "NV_CX_Direcionamento_Outro_Canal_3m\n",
      "CX_Cliente_NaoCompreende_3m\n"
     ]
    }
   ],
   "source": [
    "for i in df.columns:\n",
    "    if 'CX_' in i:\n",
    "        print(i)"
   ]
  },
  {
   "cell_type": "code",
   "execution_count": 82,
   "id": "66191f7e-5573-4cb3-a0c3-fc3d79a0e42f",
   "metadata": {},
   "outputs": [
    {
     "data": {
      "text/html": [
       "<div>\n",
       "<style scoped>\n",
       "    .dataframe tbody tr th:only-of-type {\n",
       "        vertical-align: middle;\n",
       "    }\n",
       "\n",
       "    .dataframe tbody tr th {\n",
       "        vertical-align: top;\n",
       "    }\n",
       "\n",
       "    .dataframe thead th {\n",
       "        text-align: right;\n",
       "    }\n",
       "</style>\n",
       "<table border=\"1\" class=\"dataframe\">\n",
       "  <thead>\n",
       "    <tr style=\"text-align: right;\">\n",
       "      <th></th>\n",
       "      <th>ID</th>\n",
       "      <th>Capacidade_de_Pagamento_7</th>\n",
       "      <th>tempo_desde_primeiro_contrato</th>\n",
       "      <th>tempo_desde_ultimo_contrato</th>\n",
       "      <th>QTD_SEGURO</th>\n",
       "      <th>QTD_OUTROS</th>\n",
       "      <th>QTD_CP_CONSIGNADO</th>\n",
       "      <th>QTD_CDCCG</th>\n",
       "      <th>QTD_CONTA_DIGITAL</th>\n",
       "      <th>QTD_CARTAO</th>\n",
       "      <th>...</th>\n",
       "      <th>GC_OfertaNegociacao_3m</th>\n",
       "      <th>CD_Boleto_3m</th>\n",
       "      <th>CX_Cliente_NaoCompreende_3m</th>\n",
       "      <th>PL_Sem_Condicoes_3m</th>\n",
       "      <th>NV_DC10_Cliente_alega_pagamento_3m</th>\n",
       "      <th>NV_FC_NEGOCIACAO_COM_SUCESSO_3m</th>\n",
       "      <th>NV_BP4_Informa_o_desconto_3m</th>\n",
       "      <th>Duracao_segundos</th>\n",
       "      <th>fl_renovou</th>\n",
       "      <th>VrFinanciamento</th>\n",
       "    </tr>\n",
       "  </thead>\n",
       "  <tbody>\n",
       "    <tr>\n",
       "      <th>0</th>\n",
       "      <td>0</td>\n",
       "      <td>4</td>\n",
       "      <td>1267.0</td>\n",
       "      <td>251.0</td>\n",
       "      <td>5</td>\n",
       "      <td>0</td>\n",
       "      <td>0</td>\n",
       "      <td>1</td>\n",
       "      <td>0</td>\n",
       "      <td>1</td>\n",
       "      <td>...</td>\n",
       "      <td>NaN</td>\n",
       "      <td>NaN</td>\n",
       "      <td>NaN</td>\n",
       "      <td>NaN</td>\n",
       "      <td>NaN</td>\n",
       "      <td>NaN</td>\n",
       "      <td>NaN</td>\n",
       "      <td>NaN</td>\n",
       "      <td>0</td>\n",
       "      <td>-0.323663</td>\n",
       "    </tr>\n",
       "    <tr>\n",
       "      <th>1</th>\n",
       "      <td>1</td>\n",
       "      <td>4</td>\n",
       "      <td>1797.0</td>\n",
       "      <td>236.0</td>\n",
       "      <td>4</td>\n",
       "      <td>0</td>\n",
       "      <td>0</td>\n",
       "      <td>1</td>\n",
       "      <td>0</td>\n",
       "      <td>0</td>\n",
       "      <td>...</td>\n",
       "      <td>NaN</td>\n",
       "      <td>NaN</td>\n",
       "      <td>NaN</td>\n",
       "      <td>NaN</td>\n",
       "      <td>NaN</td>\n",
       "      <td>NaN</td>\n",
       "      <td>NaN</td>\n",
       "      <td>52.0</td>\n",
       "      <td>0</td>\n",
       "      <td>0.882514</td>\n",
       "    </tr>\n",
       "    <tr>\n",
       "      <th>2</th>\n",
       "      <td>2</td>\n",
       "      <td>4</td>\n",
       "      <td>268.0</td>\n",
       "      <td>18.0</td>\n",
       "      <td>3</td>\n",
       "      <td>0</td>\n",
       "      <td>0</td>\n",
       "      <td>0</td>\n",
       "      <td>0</td>\n",
       "      <td>1</td>\n",
       "      <td>...</td>\n",
       "      <td>NaN</td>\n",
       "      <td>NaN</td>\n",
       "      <td>NaN</td>\n",
       "      <td>NaN</td>\n",
       "      <td>NaN</td>\n",
       "      <td>NaN</td>\n",
       "      <td>NaN</td>\n",
       "      <td>81.0</td>\n",
       "      <td>0</td>\n",
       "      <td>-0.385405</td>\n",
       "    </tr>\n",
       "    <tr>\n",
       "      <th>3</th>\n",
       "      <td>3</td>\n",
       "      <td>8</td>\n",
       "      <td>422.0</td>\n",
       "      <td>323.0</td>\n",
       "      <td>3</td>\n",
       "      <td>0</td>\n",
       "      <td>0</td>\n",
       "      <td>0</td>\n",
       "      <td>0</td>\n",
       "      <td>0</td>\n",
       "      <td>...</td>\n",
       "      <td>NaN</td>\n",
       "      <td>NaN</td>\n",
       "      <td>NaN</td>\n",
       "      <td>NaN</td>\n",
       "      <td>NaN</td>\n",
       "      <td>NaN</td>\n",
       "      <td>NaN</td>\n",
       "      <td>97.0</td>\n",
       "      <td>0</td>\n",
       "      <td>-0.707045</td>\n",
       "    </tr>\n",
       "    <tr>\n",
       "      <th>4</th>\n",
       "      <td>4</td>\n",
       "      <td>8</td>\n",
       "      <td>5073.0</td>\n",
       "      <td>252.0</td>\n",
       "      <td>3</td>\n",
       "      <td>0</td>\n",
       "      <td>0</td>\n",
       "      <td>0</td>\n",
       "      <td>0</td>\n",
       "      <td>0</td>\n",
       "      <td>...</td>\n",
       "      <td>NaN</td>\n",
       "      <td>NaN</td>\n",
       "      <td>NaN</td>\n",
       "      <td>NaN</td>\n",
       "      <td>NaN</td>\n",
       "      <td>NaN</td>\n",
       "      <td>NaN</td>\n",
       "      <td>276.0</td>\n",
       "      <td>0</td>\n",
       "      <td>1.035186</td>\n",
       "    </tr>\n",
       "    <tr>\n",
       "      <th>...</th>\n",
       "      <td>...</td>\n",
       "      <td>...</td>\n",
       "      <td>...</td>\n",
       "      <td>...</td>\n",
       "      <td>...</td>\n",
       "      <td>...</td>\n",
       "      <td>...</td>\n",
       "      <td>...</td>\n",
       "      <td>...</td>\n",
       "      <td>...</td>\n",
       "      <td>...</td>\n",
       "      <td>...</td>\n",
       "      <td>...</td>\n",
       "      <td>...</td>\n",
       "      <td>...</td>\n",
       "      <td>...</td>\n",
       "      <td>...</td>\n",
       "      <td>...</td>\n",
       "      <td>...</td>\n",
       "      <td>...</td>\n",
       "      <td>...</td>\n",
       "    </tr>\n",
       "    <tr>\n",
       "      <th>49995</th>\n",
       "      <td>49906</td>\n",
       "      <td>5</td>\n",
       "      <td>1653.0</td>\n",
       "      <td>95.0</td>\n",
       "      <td>1</td>\n",
       "      <td>0</td>\n",
       "      <td>0</td>\n",
       "      <td>0</td>\n",
       "      <td>1</td>\n",
       "      <td>1</td>\n",
       "      <td>...</td>\n",
       "      <td>NaN</td>\n",
       "      <td>NaN</td>\n",
       "      <td>NaN</td>\n",
       "      <td>NaN</td>\n",
       "      <td>NaN</td>\n",
       "      <td>NaN</td>\n",
       "      <td>NaN</td>\n",
       "      <td>NaN</td>\n",
       "      <td>0</td>\n",
       "      <td>0.702917</td>\n",
       "    </tr>\n",
       "    <tr>\n",
       "      <th>49996</th>\n",
       "      <td>49941</td>\n",
       "      <td>8</td>\n",
       "      <td>6729.0</td>\n",
       "      <td>101.0</td>\n",
       "      <td>3</td>\n",
       "      <td>0</td>\n",
       "      <td>0</td>\n",
       "      <td>0</td>\n",
       "      <td>1</td>\n",
       "      <td>1</td>\n",
       "      <td>...</td>\n",
       "      <td>NaN</td>\n",
       "      <td>NaN</td>\n",
       "      <td>NaN</td>\n",
       "      <td>NaN</td>\n",
       "      <td>NaN</td>\n",
       "      <td>NaN</td>\n",
       "      <td>NaN</td>\n",
       "      <td>91.0</td>\n",
       "      <td>0</td>\n",
       "      <td>0.528582</td>\n",
       "    </tr>\n",
       "    <tr>\n",
       "      <th>49997</th>\n",
       "      <td>49957</td>\n",
       "      <td>8</td>\n",
       "      <td>239.0</td>\n",
       "      <td>94.0</td>\n",
       "      <td>1</td>\n",
       "      <td>0</td>\n",
       "      <td>0</td>\n",
       "      <td>0</td>\n",
       "      <td>1</td>\n",
       "      <td>1</td>\n",
       "      <td>...</td>\n",
       "      <td>NaN</td>\n",
       "      <td>NaN</td>\n",
       "      <td>NaN</td>\n",
       "      <td>NaN</td>\n",
       "      <td>NaN</td>\n",
       "      <td>NaN</td>\n",
       "      <td>NaN</td>\n",
       "      <td>82.0</td>\n",
       "      <td>0</td>\n",
       "      <td>-0.133593</td>\n",
       "    </tr>\n",
       "    <tr>\n",
       "      <th>49998</th>\n",
       "      <td>49993</td>\n",
       "      <td>8</td>\n",
       "      <td>883.0</td>\n",
       "      <td>179.0</td>\n",
       "      <td>1</td>\n",
       "      <td>0</td>\n",
       "      <td>0</td>\n",
       "      <td>0</td>\n",
       "      <td>1</td>\n",
       "      <td>1</td>\n",
       "      <td>...</td>\n",
       "      <td>NaN</td>\n",
       "      <td>NaN</td>\n",
       "      <td>NaN</td>\n",
       "      <td>NaN</td>\n",
       "      <td>NaN</td>\n",
       "      <td>NaN</td>\n",
       "      <td>NaN</td>\n",
       "      <td>79.0</td>\n",
       "      <td>0</td>\n",
       "      <td>-1.422952</td>\n",
       "    </tr>\n",
       "    <tr>\n",
       "      <th>49999</th>\n",
       "      <td>49996</td>\n",
       "      <td>5</td>\n",
       "      <td>235.0</td>\n",
       "      <td>235.0</td>\n",
       "      <td>4</td>\n",
       "      <td>0</td>\n",
       "      <td>0</td>\n",
       "      <td>1</td>\n",
       "      <td>1</td>\n",
       "      <td>1</td>\n",
       "      <td>...</td>\n",
       "      <td>NaN</td>\n",
       "      <td>NaN</td>\n",
       "      <td>NaN</td>\n",
       "      <td>NaN</td>\n",
       "      <td>NaN</td>\n",
       "      <td>NaN</td>\n",
       "      <td>NaN</td>\n",
       "      <td>NaN</td>\n",
       "      <td>0</td>\n",
       "      <td>0.182446</td>\n",
       "    </tr>\n",
       "  </tbody>\n",
       "</table>\n",
       "<p>48410 rows × 306 columns</p>\n",
       "</div>"
      ],
      "text/plain": [
       "          ID  Capacidade_de_Pagamento_7  tempo_desde_primeiro_contrato  \\\n",
       "0          0                          4                         1267.0   \n",
       "1          1                          4                         1797.0   \n",
       "2          2                          4                          268.0   \n",
       "3          3                          8                          422.0   \n",
       "4          4                          8                         5073.0   \n",
       "...      ...                        ...                            ...   \n",
       "49995  49906                          5                         1653.0   \n",
       "49996  49941                          8                         6729.0   \n",
       "49997  49957                          8                          239.0   \n",
       "49998  49993                          8                          883.0   \n",
       "49999  49996                          5                          235.0   \n",
       "\n",
       "       tempo_desde_ultimo_contrato QTD_SEGURO  QTD_OUTROS  QTD_CP_CONSIGNADO  \\\n",
       "0                            251.0          5           0                  0   \n",
       "1                            236.0          4           0                  0   \n",
       "2                             18.0          3           0                  0   \n",
       "3                            323.0          3           0                  0   \n",
       "4                            252.0          3           0                  0   \n",
       "...                            ...        ...         ...                ...   \n",
       "49995                         95.0          1           0                  0   \n",
       "49996                        101.0          3           0                  0   \n",
       "49997                         94.0          1           0                  0   \n",
       "49998                        179.0          1           0                  0   \n",
       "49999                        235.0          4           0                  0   \n",
       "\n",
       "       QTD_CDCCG  QTD_CONTA_DIGITAL  QTD_CARTAO  ...  GC_OfertaNegociacao_3m  \\\n",
       "0              1                  0           1  ...                     NaN   \n",
       "1              1                  0           0  ...                     NaN   \n",
       "2              0                  0           1  ...                     NaN   \n",
       "3              0                  0           0  ...                     NaN   \n",
       "4              0                  0           0  ...                     NaN   \n",
       "...          ...                ...         ...  ...                     ...   \n",
       "49995          0                  1           1  ...                     NaN   \n",
       "49996          0                  1           1  ...                     NaN   \n",
       "49997          0                  1           1  ...                     NaN   \n",
       "49998          0                  1           1  ...                     NaN   \n",
       "49999          1                  1           1  ...                     NaN   \n",
       "\n",
       "       CD_Boleto_3m  CX_Cliente_NaoCompreende_3m  PL_Sem_Condicoes_3m  \\\n",
       "0               NaN                          NaN                  NaN   \n",
       "1               NaN                          NaN                  NaN   \n",
       "2               NaN                          NaN                  NaN   \n",
       "3               NaN                          NaN                  NaN   \n",
       "4               NaN                          NaN                  NaN   \n",
       "...             ...                          ...                  ...   \n",
       "49995           NaN                          NaN                  NaN   \n",
       "49996           NaN                          NaN                  NaN   \n",
       "49997           NaN                          NaN                  NaN   \n",
       "49998           NaN                          NaN                  NaN   \n",
       "49999           NaN                          NaN                  NaN   \n",
       "\n",
       "       NV_DC10_Cliente_alega_pagamento_3m  NV_FC_NEGOCIACAO_COM_SUCESSO_3m  \\\n",
       "0                                     NaN                              NaN   \n",
       "1                                     NaN                              NaN   \n",
       "2                                     NaN                              NaN   \n",
       "3                                     NaN                              NaN   \n",
       "4                                     NaN                              NaN   \n",
       "...                                   ...                              ...   \n",
       "49995                                 NaN                              NaN   \n",
       "49996                                 NaN                              NaN   \n",
       "49997                                 NaN                              NaN   \n",
       "49998                                 NaN                              NaN   \n",
       "49999                                 NaN                              NaN   \n",
       "\n",
       "       NV_BP4_Informa_o_desconto_3m  Duracao_segundos  fl_renovou  \\\n",
       "0                               NaN               NaN           0   \n",
       "1                               NaN              52.0           0   \n",
       "2                               NaN              81.0           0   \n",
       "3                               NaN              97.0           0   \n",
       "4                               NaN             276.0           0   \n",
       "...                             ...               ...         ...   \n",
       "49995                           NaN               NaN           0   \n",
       "49996                           NaN              91.0           0   \n",
       "49997                           NaN              82.0           0   \n",
       "49998                           NaN              79.0           0   \n",
       "49999                           NaN               NaN           0   \n",
       "\n",
       "       VrFinanciamento  \n",
       "0            -0.323663  \n",
       "1             0.882514  \n",
       "2            -0.385405  \n",
       "3            -0.707045  \n",
       "4             1.035186  \n",
       "...                ...  \n",
       "49995         0.702917  \n",
       "49996         0.528582  \n",
       "49997        -0.133593  \n",
       "49998        -1.422952  \n",
       "49999         0.182446  \n",
       "\n",
       "[48410 rows x 306 columns]"
      ]
     },
     "execution_count": 82,
     "metadata": {},
     "output_type": "execute_result"
    }
   ],
   "source": [
    "df.loc[df.fl_renovou == 0, :]"
   ]
  },
  {
   "cell_type": "code",
   "execution_count": 74,
   "id": "c015c354-7348-4d9d-9e21-52894b360666",
   "metadata": {},
   "outputs": [],
   "source": [
    "#Verificar se os clientes mais digitais possuem conta na BV\n",
    "df_aux = df.groupby(by=['Capacidade_de_Pagamento_7', 'QTD_CONTA_DIGITAL']).count()[['ID']].reset_index()\n",
    "df_aux.rename(columns={'ID':'QNTD'}, inplace=True)"
   ]
  },
  {
   "cell_type": "code",
   "execution_count": 77,
   "id": "74b6d58d-5885-4dab-b69c-9b280f2621ca",
   "metadata": {},
   "outputs": [
    {
     "data": {
      "text/html": [
       "<div>\n",
       "<style scoped>\n",
       "    .dataframe tbody tr th:only-of-type {\n",
       "        vertical-align: middle;\n",
       "    }\n",
       "\n",
       "    .dataframe tbody tr th {\n",
       "        vertical-align: top;\n",
       "    }\n",
       "\n",
       "    .dataframe thead th {\n",
       "        text-align: right;\n",
       "    }\n",
       "</style>\n",
       "<table border=\"1\" class=\"dataframe\">\n",
       "  <thead>\n",
       "    <tr style=\"text-align: right;\">\n",
       "      <th></th>\n",
       "      <th>Capacidade_de_Pagamento_7</th>\n",
       "      <th>QTD_CONTA_DIGITAL</th>\n",
       "      <th>QNTD</th>\n",
       "    </tr>\n",
       "  </thead>\n",
       "  <tbody>\n",
       "    <tr>\n",
       "      <th>17</th>\n",
       "      <td>8</td>\n",
       "      <td>1</td>\n",
       "      <td>14038</td>\n",
       "    </tr>\n",
       "    <tr>\n",
       "      <th>11</th>\n",
       "      <td>5</td>\n",
       "      <td>1</td>\n",
       "      <td>1235</td>\n",
       "    </tr>\n",
       "    <tr>\n",
       "      <th>19</th>\n",
       "      <td>9</td>\n",
       "      <td>1</td>\n",
       "      <td>895</td>\n",
       "    </tr>\n",
       "    <tr>\n",
       "      <th>15</th>\n",
       "      <td>7</td>\n",
       "      <td>1</td>\n",
       "      <td>787</td>\n",
       "    </tr>\n",
       "    <tr>\n",
       "      <th>9</th>\n",
       "      <td>4</td>\n",
       "      <td>1</td>\n",
       "      <td>610</td>\n",
       "    </tr>\n",
       "    <tr>\n",
       "      <th>13</th>\n",
       "      <td>6</td>\n",
       "      <td>1</td>\n",
       "      <td>523</td>\n",
       "    </tr>\n",
       "    <tr>\n",
       "      <th>7</th>\n",
       "      <td>3</td>\n",
       "      <td>1</td>\n",
       "      <td>67</td>\n",
       "    </tr>\n",
       "    <tr>\n",
       "      <th>1</th>\n",
       "      <td>0</td>\n",
       "      <td>1</td>\n",
       "      <td>29</td>\n",
       "    </tr>\n",
       "    <tr>\n",
       "      <th>5</th>\n",
       "      <td>2</td>\n",
       "      <td>1</td>\n",
       "      <td>22</td>\n",
       "    </tr>\n",
       "    <tr>\n",
       "      <th>3</th>\n",
       "      <td>1</td>\n",
       "      <td>1</td>\n",
       "      <td>20</td>\n",
       "    </tr>\n",
       "  </tbody>\n",
       "</table>\n",
       "</div>"
      ],
      "text/plain": [
       "    Capacidade_de_Pagamento_7  QTD_CONTA_DIGITAL   QNTD\n",
       "17                          8                  1  14038\n",
       "11                          5                  1   1235\n",
       "19                          9                  1    895\n",
       "15                          7                  1    787\n",
       "9                           4                  1    610\n",
       "13                          6                  1    523\n",
       "7                           3                  1     67\n",
       "1                           0                  1     29\n",
       "5                           2                  1     22\n",
       "3                           1                  1     20"
      ]
     },
     "execution_count": 77,
     "metadata": {},
     "output_type": "execute_result"
    }
   ],
   "source": [
    "df_aux.loc[df_aux.QTD_CONTA_DIGITAL==1].sort_values(by='QNTD', ascending=False)"
   ]
  },
  {
   "cell_type": "code",
   "execution_count": null,
   "id": "5870acf3-234d-40bf-9bf0-1bc7932d8922",
   "metadata": {},
   "outputs": [],
   "source": [
    "df['QtParcelas']"
   ]
  },
  {
   "cell_type": "markdown",
   "id": "a2c08391-8ffe-4b46-954f-6f8f533ef5c1",
   "metadata": {},
   "source": [
    "---"
   ]
  }
 ],
 "metadata": {
  "kernelspec": {
   "display_name": "Python (Local)",
   "language": "python",
   "name": "local-base"
  },
  "language_info": {
   "codemirror_mode": {
    "name": "ipython",
    "version": 3
   },
   "file_extension": ".py",
   "mimetype": "text/x-python",
   "name": "python",
   "nbconvert_exporter": "python",
   "pygments_lexer": "ipython3",
   "version": "3.7.12"
  }
 },
 "nbformat": 4,
 "nbformat_minor": 5
}
