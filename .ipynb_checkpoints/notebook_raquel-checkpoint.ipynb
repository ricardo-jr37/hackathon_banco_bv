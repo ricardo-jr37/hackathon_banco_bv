{
 "cells": [
  {
   "cell_type": "markdown",
   "id": "0114ba09-ee94-47db-9218-1a6cd3cf3969",
   "metadata": {},
   "source": [
    "# Setup"
   ]
  },
  {
   "cell_type": "code",
   "execution_count": null,
   "id": "8d257959-7dc4-4138-9780-c6e0291568fa",
   "metadata": {},
   "outputs": [],
   "source": [
    "import pandas as pd"
   ]
  },
  {
   "cell_type": "code",
   "execution_count": null,
   "id": "848fa7f0-fd0e-47d6-b2cf-b594a2be4ca7",
   "metadata": {},
   "outputs": [],
   "source": [
    "# The following two lines are only necessary to run once.\n",
    "# Comment out otherwise for speed-up.\n",
    "from google.cloud.bigquery import Client, QueryJobConfig\n",
    "client = Client()\n",
    "\n",
    "query = \"\"\"SELECT * FROM `hacka-dados.hacka_dados.tabela_dados_hacka`\"\"\"\n",
    "job = client.query(query)\n",
    "df = job.to_dataframe()"
   ]
  },
  {
   "cell_type": "markdown",
   "id": "5ff81534-8898-4716-8eab-8b2cfe639abb",
   "metadata": {},
   "source": [
    "# Carregar dataframe"
   ]
  },
  {
   "cell_type": "code",
   "execution_count": null,
   "id": "ce7f3683-8d92-4e1e-92ae-1bcaf20cad64",
   "metadata": {},
   "outputs": [
    {
     "data": {
      "text/html": [
       "<div>\n",
       "<style scoped>\n",
       "    .dataframe tbody tr th:only-of-type {\n",
       "        vertical-align: middle;\n",
       "    }\n",
       "\n",
       "    .dataframe tbody tr th {\n",
       "        vertical-align: top;\n",
       "    }\n",
       "\n",
       "    .dataframe thead th {\n",
       "        text-align: right;\n",
       "    }\n",
       "</style>\n",
       "<table border=\"1\" class=\"dataframe\">\n",
       "  <thead>\n",
       "    <tr style=\"text-align: right;\">\n",
       "      <th></th>\n",
       "      <th>ID</th>\n",
       "      <th>Capacidade_de_Pagamento_7</th>\n",
       "      <th>tempo_desde_primeiro_contrato</th>\n",
       "      <th>tempo_desde_ultimo_contrato</th>\n",
       "      <th>QTD_SEGURO</th>\n",
       "      <th>QTD_OUTROS</th>\n",
       "      <th>QTD_CP_CONSIGNADO</th>\n",
       "      <th>QTD_CDCCG</th>\n",
       "      <th>QTD_CONTA_DIGITAL</th>\n",
       "      <th>QTD_CARTAO</th>\n",
       "      <th>...</th>\n",
       "      <th>GC_OfertaNegociacao_3m</th>\n",
       "      <th>CD_Boleto_3m</th>\n",
       "      <th>CX_Cliente_NaoCompreende_3m</th>\n",
       "      <th>PL_Sem_Condicoes_3m</th>\n",
       "      <th>NV_DC10_Cliente_alega_pagamento_3m</th>\n",
       "      <th>NV_FC_NEGOCIACAO_COM_SUCESSO_3m</th>\n",
       "      <th>NV_BP4_Informa_o_desconto_3m</th>\n",
       "      <th>Duracao_segundos</th>\n",
       "      <th>fl_renovou</th>\n",
       "      <th>VrFinanciamento</th>\n",
       "    </tr>\n",
       "  </thead>\n",
       "  <tbody>\n",
       "    <tr>\n",
       "      <th>0</th>\n",
       "      <td>0</td>\n",
       "      <td>4</td>\n",
       "      <td>1267.0</td>\n",
       "      <td>251.0</td>\n",
       "      <td>5</td>\n",
       "      <td>0</td>\n",
       "      <td>0</td>\n",
       "      <td>1</td>\n",
       "      <td>0</td>\n",
       "      <td>1</td>\n",
       "      <td>...</td>\n",
       "      <td>NaN</td>\n",
       "      <td>NaN</td>\n",
       "      <td>NaN</td>\n",
       "      <td>NaN</td>\n",
       "      <td>NaN</td>\n",
       "      <td>NaN</td>\n",
       "      <td>NaN</td>\n",
       "      <td>NaN</td>\n",
       "      <td>0</td>\n",
       "      <td>-0.323663</td>\n",
       "    </tr>\n",
       "    <tr>\n",
       "      <th>1</th>\n",
       "      <td>1</td>\n",
       "      <td>4</td>\n",
       "      <td>1797.0</td>\n",
       "      <td>236.0</td>\n",
       "      <td>4</td>\n",
       "      <td>0</td>\n",
       "      <td>0</td>\n",
       "      <td>1</td>\n",
       "      <td>0</td>\n",
       "      <td>0</td>\n",
       "      <td>...</td>\n",
       "      <td>NaN</td>\n",
       "      <td>NaN</td>\n",
       "      <td>NaN</td>\n",
       "      <td>NaN</td>\n",
       "      <td>NaN</td>\n",
       "      <td>NaN</td>\n",
       "      <td>NaN</td>\n",
       "      <td>52.0</td>\n",
       "      <td>0</td>\n",
       "      <td>0.882514</td>\n",
       "    </tr>\n",
       "    <tr>\n",
       "      <th>2</th>\n",
       "      <td>2</td>\n",
       "      <td>4</td>\n",
       "      <td>268.0</td>\n",
       "      <td>18.0</td>\n",
       "      <td>3</td>\n",
       "      <td>0</td>\n",
       "      <td>0</td>\n",
       "      <td>0</td>\n",
       "      <td>0</td>\n",
       "      <td>1</td>\n",
       "      <td>...</td>\n",
       "      <td>NaN</td>\n",
       "      <td>NaN</td>\n",
       "      <td>NaN</td>\n",
       "      <td>NaN</td>\n",
       "      <td>NaN</td>\n",
       "      <td>NaN</td>\n",
       "      <td>NaN</td>\n",
       "      <td>81.0</td>\n",
       "      <td>0</td>\n",
       "      <td>-0.385405</td>\n",
       "    </tr>\n",
       "    <tr>\n",
       "      <th>3</th>\n",
       "      <td>3</td>\n",
       "      <td>8</td>\n",
       "      <td>422.0</td>\n",
       "      <td>323.0</td>\n",
       "      <td>3</td>\n",
       "      <td>0</td>\n",
       "      <td>0</td>\n",
       "      <td>0</td>\n",
       "      <td>0</td>\n",
       "      <td>0</td>\n",
       "      <td>...</td>\n",
       "      <td>NaN</td>\n",
       "      <td>NaN</td>\n",
       "      <td>NaN</td>\n",
       "      <td>NaN</td>\n",
       "      <td>NaN</td>\n",
       "      <td>NaN</td>\n",
       "      <td>NaN</td>\n",
       "      <td>97.0</td>\n",
       "      <td>0</td>\n",
       "      <td>-0.707045</td>\n",
       "    </tr>\n",
       "    <tr>\n",
       "      <th>4</th>\n",
       "      <td>4</td>\n",
       "      <td>8</td>\n",
       "      <td>5073.0</td>\n",
       "      <td>252.0</td>\n",
       "      <td>3</td>\n",
       "      <td>0</td>\n",
       "      <td>0</td>\n",
       "      <td>0</td>\n",
       "      <td>0</td>\n",
       "      <td>0</td>\n",
       "      <td>...</td>\n",
       "      <td>NaN</td>\n",
       "      <td>NaN</td>\n",
       "      <td>NaN</td>\n",
       "      <td>NaN</td>\n",
       "      <td>NaN</td>\n",
       "      <td>NaN</td>\n",
       "      <td>NaN</td>\n",
       "      <td>276.0</td>\n",
       "      <td>0</td>\n",
       "      <td>1.035186</td>\n",
       "    </tr>\n",
       "  </tbody>\n",
       "</table>\n",
       "<p>5 rows × 306 columns</p>\n",
       "</div>"
      ],
      "text/plain": [
       "   ID  Capacidade_de_Pagamento_7  tempo_desde_primeiro_contrato  \\\n",
       "0   0                          4                         1267.0   \n",
       "1   1                          4                         1797.0   \n",
       "2   2                          4                          268.0   \n",
       "3   3                          8                          422.0   \n",
       "4   4                          8                         5073.0   \n",
       "\n",
       "   tempo_desde_ultimo_contrato QTD_SEGURO  QTD_OUTROS  QTD_CP_CONSIGNADO  \\\n",
       "0                        251.0          5           0                  0   \n",
       "1                        236.0          4           0                  0   \n",
       "2                         18.0          3           0                  0   \n",
       "3                        323.0          3           0                  0   \n",
       "4                        252.0          3           0                  0   \n",
       "\n",
       "   QTD_CDCCG  QTD_CONTA_DIGITAL  QTD_CARTAO  ...  GC_OfertaNegociacao_3m  \\\n",
       "0          1                  0           1  ...                     NaN   \n",
       "1          1                  0           0  ...                     NaN   \n",
       "2          0                  0           1  ...                     NaN   \n",
       "3          0                  0           0  ...                     NaN   \n",
       "4          0                  0           0  ...                     NaN   \n",
       "\n",
       "   CD_Boleto_3m  CX_Cliente_NaoCompreende_3m  PL_Sem_Condicoes_3m  \\\n",
       "0           NaN                          NaN                  NaN   \n",
       "1           NaN                          NaN                  NaN   \n",
       "2           NaN                          NaN                  NaN   \n",
       "3           NaN                          NaN                  NaN   \n",
       "4           NaN                          NaN                  NaN   \n",
       "\n",
       "   NV_DC10_Cliente_alega_pagamento_3m  NV_FC_NEGOCIACAO_COM_SUCESSO_3m  \\\n",
       "0                                 NaN                              NaN   \n",
       "1                                 NaN                              NaN   \n",
       "2                                 NaN                              NaN   \n",
       "3                                 NaN                              NaN   \n",
       "4                                 NaN                              NaN   \n",
       "\n",
       "   NV_BP4_Informa_o_desconto_3m  Duracao_segundos  fl_renovou  VrFinanciamento  \n",
       "0                           NaN               NaN           0        -0.323663  \n",
       "1                           NaN              52.0           0         0.882514  \n",
       "2                           NaN              81.0           0        -0.385405  \n",
       "3                           NaN              97.0           0        -0.707045  \n",
       "4                           NaN             276.0           0         1.035186  \n",
       "\n",
       "[5 rows x 306 columns]"
      ]
     },
     "execution_count": 4,
     "metadata": {},
     "output_type": "execute_result"
    }
   ],
   "source": [
    "df.head()"
   ]
  },
  {
   "cell_type": "code",
   "execution_count": null,
   "id": "d6812fe6-78e4-41c1-a049-f7cf0853d182",
   "metadata": {},
   "outputs": [
    {
     "data": {
      "text/plain": [
       "Index(['ID', 'Capacidade_de_Pagamento_7', 'tempo_desde_primeiro_contrato',\n",
       "       'tempo_desde_ultimo_contrato', 'QTD_SEGURO', 'QTD_OUTROS',\n",
       "       'QTD_CP_CONSIGNADO', 'QTD_CDCCG', 'QTD_CONTA_DIGITAL', 'QTD_CARTAO',\n",
       "       ...\n",
       "       'GC_OfertaNegociacao_3m', 'CD_Boleto_3m', 'CX_Cliente_NaoCompreende_3m',\n",
       "       'PL_Sem_Condicoes_3m', 'NV_DC10_Cliente_alega_pagamento_3m',\n",
       "       'NV_FC_NEGOCIACAO_COM_SUCESSO_3m', 'NV_BP4_Informa_o_desconto_3m',\n",
       "       'Duracao_segundos', 'fl_renovou', 'VrFinanciamento'],\n",
       "      dtype='object', length=306)"
      ]
     },
     "execution_count": 6,
     "metadata": {},
     "output_type": "execute_result"
    }
   ],
   "source": [
    "df.columns"
   ]
  },
  {
   "cell_type": "code",
   "execution_count": null,
   "id": "61bde935-1084-4ec2-89ca-a8dd20d47548",
   "metadata": {},
   "outputs": [
    {
     "name": "stdout",
     "output_type": "stream",
     "text": [
      "<class 'pandas.core.frame.DataFrame'>\n",
      "RangeIndex: 50000 entries, 0 to 49999\n",
      "Columns: 306 entries, ID to VrFinanciamento\n",
      "dtypes: float64(286), int64(13), object(7)\n",
      "memory usage: 116.7+ MB\n"
     ]
    }
   ],
   "source": [
    "df.info()"
   ]
  },
  {
   "cell_type": "markdown",
   "id": "3a37cd68-5ed3-442f-92f6-b809e3344fca",
   "metadata": {},
   "source": [
    "# Variavéis Categóricas"
   ]
  },
  {
   "cell_type": "code",
   "execution_count": null,
   "id": "53246b31-1979-4fe9-9f73-23ad1417071d",
   "metadata": {},
   "outputs": [
    {
     "data": {
      "text/plain": [
       "['QTD_SEGURO',\n",
       " 'NmMotivoContratoFinanceiro',\n",
       " 'Sub_Produto',\n",
       " 'CdMarca',\n",
       " 'FlZeroKm',\n",
       " 'CdUfNaturalidade',\n",
       " 'CdOcupacaoCBO']"
      ]
     },
     "execution_count": 29,
     "metadata": {},
     "output_type": "execute_result"
    }
   ],
   "source": [
    "list(df.select_dtypes(['object']).columns)"
   ]
  },
  {
   "cell_type": "code",
   "execution_count": null,
   "id": "c5d0ae7e-eda7-4fcf-87ab-0c3d623c2aeb",
   "metadata": {},
   "outputs": [
    {
     "data": {
      "text/plain": [
       "array(['Centro-oeste', 'Sudeste', 'Sul', 'Norte', 'Nordeste', 'nan'],\n",
       "      dtype=object)"
      ]
     },
     "execution_count": 31,
     "metadata": {},
     "output_type": "execute_result"
    }
   ],
   "source": [
    "df.CdUfNaturalidade.unique()"
   ]
  },
  {
   "cell_type": "code",
   "execution_count": null,
   "id": "ff50dea7-04a9-4f25-8b35-d25b296001f6",
   "metadata": {},
   "outputs": [
    {
     "data": {
      "text/plain": [
       "Sudeste         23228\n",
       "Sul             10456\n",
       "Nordeste         6831\n",
       "Centro-oeste     3976\n",
       "Norte            3046\n",
       "nan              2463\n",
       "Name: CdUfNaturalidade, dtype: int64"
      ]
     },
     "execution_count": 32,
     "metadata": {},
     "output_type": "execute_result"
    }
   ],
   "source": [
    "df.CdUfNaturalidade.value_counts()"
   ]
  },
  {
   "cell_type": "code",
   "execution_count": null,
   "id": "af787022-16cb-4b36-8d9c-66017f11864c",
   "metadata": {},
   "outputs": [
    {
     "data": {
      "text/plain": [
       "13"
      ]
     },
     "execution_count": 34,
     "metadata": {},
     "output_type": "execute_result"
    }
   ],
   "source": [
    "df.QTD_SEGURO.nunique()"
   ]
  },
  {
   "cell_type": "code",
   "execution_count": null,
   "id": "ab5951dd-67d6-4ea4-abe0-641088f50e66",
   "metadata": {},
   "outputs": [
    {
     "data": {
      "text/plain": [
       "array(['5', '4', '3', '2', '1', '9', '6', '7', '12', '11', '12 ou +',\n",
       "       '10', '8'], dtype=object)"
      ]
     },
     "execution_count": 36,
     "metadata": {},
     "output_type": "execute_result"
    }
   ],
   "source": [
    "df.QTD_SEGURO.unique()"
   ]
  },
  {
   "cell_type": "code",
   "execution_count": null,
   "id": "e38ad68e-f236-492e-bf3d-59b7f8e46308",
   "metadata": {},
   "outputs": [
    {
     "data": {
      "text/plain": [
       "array(['N', 'S', ''], dtype=object)"
      ]
     },
     "execution_count": 38,
     "metadata": {},
     "output_type": "execute_result"
    }
   ],
   "source": [
    "df.FlZeroKm.unique()"
   ]
  },
  {
   "cell_type": "code",
   "execution_count": null,
   "id": "208258cc-013e-48f4-bd96-2c050c3a9a9f",
   "metadata": {},
   "outputs": [
    {
     "data": {
      "text/plain": [
       "N    49274\n",
       "S      665\n",
       "        61\n",
       "Name: FlZeroKm, dtype: int64"
      ]
     },
     "execution_count": 41,
     "metadata": {},
     "output_type": "execute_result"
    }
   ],
   "source": [
    "df.FlZeroKm.value_counts()"
   ]
  },
  {
   "cell_type": "code",
   "execution_count": null,
   "id": "672cfdf9-145e-4605-b961-4d2935ff4a7a",
   "metadata": {},
   "outputs": [
    {
     "data": {
      "text/plain": [
       "array(['FIAT', 'VOLKSWAGEN', 'NISSAN', 'Outros', 'RENAULT', 'FORD',\n",
       "       'CHEVROLET', 'PEUGEOT', 'HONDA', 'TOYOTA', 'HYUNDAI', 'KIA',\n",
       "       'MITSUBISHI', 'CITROEN', '', 'MERCEDES-BENZ', 'JEEP'], dtype=object)"
      ]
     },
     "execution_count": 40,
     "metadata": {},
     "output_type": "execute_result"
    }
   ],
   "source": [
    "df.CdMarca.unique()"
   ]
  },
  {
   "cell_type": "code",
   "execution_count": null,
   "id": "33e6b7d5-e7b0-4ab5-85ec-e498a51b900f",
   "metadata": {},
   "outputs": [
    {
     "data": {
      "text/plain": [
       "VOLKSWAGEN       10441\n",
       "FIAT              9801\n",
       "CHEVROLET         8623\n",
       "FORD              4541\n",
       "RENAULT           3380\n",
       "HYUNDAI           3175\n",
       "TOYOTA            2139\n",
       "HONDA             2076\n",
       "CITROEN           1309\n",
       "PEUGEOT           1040\n",
       "Outros             824\n",
       "NISSAN             781\n",
       "MITSUBISHI         648\n",
       "KIA                635\n",
       "JEEP               242\n",
       "MERCEDES-BENZ      226\n",
       "                   119\n",
       "Name: CdMarca, dtype: int64"
      ]
     },
     "execution_count": 42,
     "metadata": {},
     "output_type": "execute_result"
    }
   ],
   "source": [
    "df.CdMarca.value_counts()"
   ]
  },
  {
   "cell_type": "code",
   "execution_count": null,
   "id": "3aba6f22-118b-4587-b991-98451f9a38de",
   "metadata": {},
   "outputs": [
    {
     "data": {
      "text/plain": [
       "array(['FLUXO FINANCEIRO INICIAL', 'CONTRATO CEDIDO (FIDC)',\n",
       "       'RENEGOCIAÇAO', 'SALDO REMANESCENTE',\n",
       "       'CORREÇAO DE FLUXO FINANCEIRO / REIMPLANTE'], dtype=object)"
      ]
     },
     "execution_count": 45,
     "metadata": {},
     "output_type": "execute_result"
    }
   ],
   "source": [
    "df.NmMotivoContratoFinanceiro.unique()"
   ]
  },
  {
   "cell_type": "code",
   "execution_count": null,
   "id": "2079a39b-db37-45fc-82ec-e4d2e2a85435",
   "metadata": {},
   "outputs": [
    {
     "data": {
      "text/plain": [
       "FLUXO FINANCEIRO INICIAL                     1190\n",
       "CONTRATO CEDIDO (FIDC)                        279\n",
       "RENEGOCIAÇAO                                  106\n",
       "SALDO REMANESCENTE                             11\n",
       "CORREÇAO DE FLUXO FINANCEIRO / REIMPLANTE       4\n",
       "Name: NmMotivoContratoFinanceiro, dtype: int64"
      ]
     },
     "execution_count": 47,
     "metadata": {},
     "output_type": "execute_result"
    }
   ],
   "source": [
    "df.NmMotivoContratoFinanceiro[df.fl_renovou == 1].value_counts()"
   ]
  },
  {
   "cell_type": "code",
   "execution_count": null,
   "id": "983707d6-688f-4b8c-af89-c4ba4a0b6865",
   "metadata": {},
   "outputs": [
    {
     "data": {
      "text/plain": [
       "FLUXO FINANCEIRO INICIAL                     36390\n",
       "CONTRATO CEDIDO (FIDC)                        9084\n",
       "RENEGOCIAÇAO                                  4027\n",
       "SALDO REMANESCENTE                             420\n",
       "CORREÇAO DE FLUXO FINANCEIRO / REIMPLANTE       79\n",
       "Name: NmMotivoContratoFinanceiro, dtype: int64"
      ]
     },
     "execution_count": 48,
     "metadata": {},
     "output_type": "execute_result"
    }
   ],
   "source": [
    "df.NmMotivoContratoFinanceiro.value_counts()"
   ]
  },
  {
   "cell_type": "code",
   "execution_count": null,
   "id": "64a50396-a62a-4d34-bc49-1c523cb87908",
   "metadata": {},
   "outputs": [
    {
     "data": {
      "text/plain": [
       "array(['CDC VEICULOS DE PASSEIO', 'REFINANCIAMENTO VEICULOS DE PASSEIO',\n",
       "       'Outros', 'CDC CAMINHOES', 'PRE APROVADO CDC VEICULOS DE PASSEIO',\n",
       "       'CDC VANS e MICRO-ONIBUS', 'MOTO', 'CP COM GARANTIA'], dtype=object)"
      ]
     },
     "execution_count": 51,
     "metadata": {},
     "output_type": "execute_result"
    }
   ],
   "source": [
    "df.Sub_Produto.unique()"
   ]
  },
  {
   "cell_type": "code",
   "execution_count": null,
   "id": "9ed999d5-5232-432d-9243-754e139d1bc2",
   "metadata": {},
   "outputs": [
    {
     "data": {
      "text/plain": [
       "CDC VEICULOS DE PASSEIO                 1533\n",
       "REFINANCIAMENTO VEICULOS DE PASSEIO       27\n",
       "CDC VANS e MICRO-ONIBUS                   12\n",
       "MOTO                                       9\n",
       "CDC CAMINHOES                              4\n",
       "PRE APROVADO CDC VEICULOS DE PASSEIO       3\n",
       "CP COM GARANTIA                            2\n",
       "Name: Sub_Produto, dtype: int64"
      ]
     },
     "execution_count": 52,
     "metadata": {},
     "output_type": "execute_result"
    }
   ],
   "source": [
    "df.Sub_Produto[df.fl_renovou == 1].value_counts()"
   ]
  },
  {
   "cell_type": "code",
   "execution_count": null,
   "id": "4f65147a-3057-49a3-bb35-5264dda670d9",
   "metadata": {},
   "outputs": [
    {
     "data": {
      "text/plain": [
       "CDC VEICULOS DE PASSEIO                 47004\n",
       "REFINANCIAMENTO VEICULOS DE PASSEIO      1560\n",
       "MOTO                                      540\n",
       "CDC VANS e MICRO-ONIBUS                   336\n",
       "PRE APROVADO CDC VEICULOS DE PASSEIO      333\n",
       "CP COM GARANTIA                           113\n",
       "CDC CAMINHOES                              83\n",
       "Outros                                     31\n",
       "Name: Sub_Produto, dtype: int64"
      ]
     },
     "execution_count": 53,
     "metadata": {},
     "output_type": "execute_result"
    }
   ],
   "source": [
    "df.Sub_Produto.value_counts()"
   ]
  },
  {
   "cell_type": "markdown",
   "id": "f3f6c3fb-047c-4522-9c89-918556a6441d",
   "metadata": {},
   "source": [
    "# Taxa de renovação"
   ]
  },
  {
   "cell_type": "markdown",
   "id": "9a690fd4-781d-48a0-8b76-ef34b0cc9c7e",
   "metadata": {},
   "source": [
    "Objetivo: Dobrar taxa de renovação"
   ]
  },
  {
   "cell_type": "code",
   "execution_count": null,
   "id": "4cd567b1-01aa-4d61-8407-4798a5b0aed0",
   "metadata": {},
   "outputs": [
    {
     "name": "stdout",
     "output_type": "stream",
     "text": [
      "TAXA DE RENOVAÇÃO 3.18\n"
     ]
    }
   ],
   "source": [
    "print(\"TAXA DE RENOVAÇÃO\",(df['fl_renovou'].sum()/len(df))*100)"
   ]
  },
  {
   "cell_type": "markdown",
   "id": "c666d529-e5c2-42ad-bcba-546492984938",
   "metadata": {},
   "source": [
    "# Colunas com muitos valores ausentes"
   ]
  },
  {
   "cell_type": "code",
   "execution_count": null,
   "id": "05c764de-b14d-49e8-adfd-0b45e1b7d850",
   "metadata": {},
   "outputs": [
    {
     "data": {
      "text/plain": [
       "CD_Quitacao_6m                                    49151\n",
       "NV_CX_Direcionamento_Outro_Canal_3m               49111\n",
       "CD_Boleto_3m                                      48992\n",
       "CD_Cartao_3m                                      48977\n",
       "NV_FC_NEGOCIACAO_COM_SUCESSO_3m                   48935\n",
       "CX_Oferta_6m                                      48886\n",
       "NV_P3_Quitacao_6m                                 48867\n",
       "CX_Busca_Informacoes_6m                           48841\n",
       "CX_Cliente_NaoCompreende_3m                       48773\n",
       "NV_CX_Ligar_de_Volta_3m                           48735\n",
       "NV_CX_Atendimento_Diferenciado_6m                 48686\n",
       "CD_Seguro_6m                                      48646\n",
       "NV_P9_Pagamento_parcial__flexibilidade__6m        48646\n",
       "NV_DC1_Cliente_nao_esta_com_o_valor_em_maos_6m    48550\n",
       "NV_BP4_Informa_o_desconto_3m                      48509\n",
       "CX_Cancelamento_6m                                48504\n",
       "MOT_Informacao_3m                                 48502\n",
       "CX_Pesquisa_Satisfacao_3m                         48414\n",
       "NV_CX_Titular_3m                                  48398\n",
       "CD_Boleto_6m                                      48394\n",
       "PL_Sem_Condicoes_3m                               48308\n",
       "NV_DC10_Cliente_alega_pagamento_3m                48290\n",
       "CX_Usabilidade_6m                                 48162\n",
       "NV_DC3_Nao_e_o_responsavel_do_financiamento_3m    48064\n",
       "NV_CX_Transferencia_6m                            48062\n",
       "MOT_Servicos_3m                                   48045\n",
       "NV_DC10_Cliente_alega_pagamento_6m                48012\n",
       "NV_CX_Ligar_de_Volta_6m                           47962\n",
       "NV_CD_Boleto_2da_via_6m                           47885\n",
       "GC_OfertaNegociacao_3m                            47806\n",
       "CX_Cortesia_3m                                    47791\n",
       "NV_FC_NEGOCIACAO_COM_SUCESSO_6m                   47785\n",
       "NV_CX_Rechamadas_6m                               47759\n",
       "NV_CX_Direcionamento_Outro_Canal_6m               47748\n",
       "NV_BP4_Informa_o_desconto_6m                      47682\n",
       "CX_Cliente_NaoCompreende_6m                       47682\n",
       "CD_Cartao_6m                                      47652\n",
       "NV_CX_PID_3m                                      47540\n",
       "PL_Sem_Condicoes_6m                               47285\n",
       "Produto_Veiculo_3m                                47277\n",
       "dtype: int64"
      ]
     },
     "execution_count": 19,
     "metadata": {},
     "output_type": "execute_result"
    }
   ],
   "source": [
    "df.isna().sum().sort_values(ascending=False).head(40)"
   ]
  },
  {
   "cell_type": "code",
   "execution_count": null,
   "id": "ea764953-c743-42bf-b935-a74453d45749",
   "metadata": {},
   "outputs": [],
   "source": [
    "# Listas com os nomes das colunas para facilitar consulta"
   ]
  },
  {
   "cell_type": "code",
   "execution_count": null,
   "id": "5a918977-e278-4b8b-a706-30d761dc78b4",
   "metadata": {},
   "outputs": [],
   "source": [
    "mailing = ['fl_renovou','Duracao_segundos']\n",
    "\n",
    "cadastrais = ['CdUfNaturalidade','Grupo_Etario','VrRenda','CdOcupacaoCBO']\n",
    "\n",
    "contratuais = ['NmMotivoContratoFinanceiro','Sub_Produto','VrContrato','VrFinanciamento','VrEntrada','QtParcelas','AaFabricacaoVeiculo',\n",
    "'CdMarca','VrMercado','FlZeroKm','QtCilindradaVeiculo','QtQuilometragemVeiculo','QtAnoIdade']\n",
    "\n",
    "scores = ['Capacidade_de_Pagamento_1','Capacidade_de_Pagamento_2','Capacidade_de_Pagamento_3','Capacidade_de_Pagamento_4',\n",
    "'Capacidade_de_Pagamento_5','Capacidade_de_Pagamento_6','Capacidade_de_Pagamento_7']\n",
    "\n",
    "relacionamentoBV = ['tempo_desde_primeiro_contrato','tempo_desde_ultimo_contrato','QTD_SEGURO','QTD_CP_CONSIGNADO','QTD_CDCCG',\n",
    "'QTD_CONTA_DIGITAL','QTD_CARTAO','QTD_CP','QTD_OUTROS','flmat30conta','flmat60conta','flmat90conta','flmau30conta','flmau60conta',\n",
    "'flmau90conta']\n",
    "\n"
   ]
  },
  {
   "cell_type": "code",
   "execution_count": null,
   "id": "080d68d5-8622-4eaf-8174-de09b3ce412a",
   "metadata": {},
   "outputs": [
    {
     "name": "stdout",
     "output_type": "stream",
     "text": [
      "41\n"
     ]
    }
   ],
   "source": [
    "print(len(mailing)+len(cadastrais)+len(contratuais)+len(scores)+len(relacionamentoBV))"
   ]
  }
 ],
 "metadata": {
  "kernelspec": {
   "display_name": "Python (Local)",
   "language": "python",
   "name": "local-base"
  },
  "language_info": {
   "codemirror_mode": {
    "name": "ipython",
    "version": 3
   },
   "file_extension": ".py",
   "mimetype": "text/x-python",
   "name": "python",
   "nbconvert_exporter": "python",
   "pygments_lexer": "ipython3",
   "version": "3.7.12"
  }
 },
 "nbformat": 4,
 "nbformat_minor": 5
}
