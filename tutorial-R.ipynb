{
 "cells": [
  {
   "cell_type": "markdown",
   "id": "89d1848f-9a49-4066-97f5-1546514241e5",
   "metadata": {
    "tags": []
   },
   "source": [
    "# Como rodar uma query SQL no R e obter a resposta como um DataFrame"
   ]
  },
  {
   "cell_type": "code",
   "execution_count": null,
   "id": "bdf43461-8d22-4c4c-a6db-954820506de3",
   "metadata": {},
   "outputs": [],
   "source": [
    "# chamar a biblioteca\n",
    "library(bigrquery)"
   ]
  },
  {
   "cell_type": "code",
   "execution_count": null,
   "id": "18b328ef-c04e-4290-bd74-7163981ebfd1",
   "metadata": {},
   "outputs": [],
   "source": [
    "#Defina a query\n",
    "query <- \"SELECT * FROM `hacka-dados.hacka_dados.tabela_dados_hacka` \"\n",
    "\n",
    "# Set o project id (verifique o seu com o mentor)\n",
    "projectid <- \"hacka-357618\"\n",
    "\n",
    "# Rode o comando abaixo. Isto deve retornar um objeto bq_table para poder fazer consultas nele\n",
    "tb <- bq_project_query(projectid, query)"
   ]
  },
  {
   "cell_type": "code",
   "execution_count": null,
   "id": "2775b243-1601-4070-845e-ecbcd0833e9f",
   "metadata": {},
   "outputs": [
    {
     "data": {
      "text/html": [
       "<table class=\"dataframe\">\n",
       "<caption>A tibble: 10 × 306</caption>\n",
       "<thead>\n",
       "\t<tr><th scope=col>ID</th><th scope=col>Capacidade_de_Pagamento_7</th><th scope=col>tempo_desde_primeiro_contrato</th><th scope=col>tempo_desde_ultimo_contrato</th><th scope=col>QTD_SEGURO</th><th scope=col>QTD_OUTROS</th><th scope=col>QTD_CP_CONSIGNADO</th><th scope=col>QTD_CDCCG</th><th scope=col>QTD_CONTA_DIGITAL</th><th scope=col>QTD_CARTAO</th><th scope=col>⋯</th><th scope=col>GC_OfertaNegociacao_3m</th><th scope=col>CD_Boleto_3m</th><th scope=col>CX_Cliente_NaoCompreende_3m</th><th scope=col>PL_Sem_Condicoes_3m</th><th scope=col>NV_DC10_Cliente_alega_pagamento_3m</th><th scope=col>NV_FC_NEGOCIACAO_COM_SUCESSO_3m</th><th scope=col>NV_BP4_Informa_o_desconto_3m</th><th scope=col>Duracao_segundos</th><th scope=col>fl_renovou</th><th scope=col>VrFinanciamento</th></tr>\n",
       "\t<tr><th scope=col>&lt;int&gt;</th><th scope=col>&lt;int&gt;</th><th scope=col>&lt;dbl&gt;</th><th scope=col>&lt;dbl&gt;</th><th scope=col>&lt;chr&gt;</th><th scope=col>&lt;int&gt;</th><th scope=col>&lt;int&gt;</th><th scope=col>&lt;int&gt;</th><th scope=col>&lt;int&gt;</th><th scope=col>&lt;int&gt;</th><th scope=col>⋯</th><th scope=col>&lt;dbl&gt;</th><th scope=col>&lt;dbl&gt;</th><th scope=col>&lt;dbl&gt;</th><th scope=col>&lt;dbl&gt;</th><th scope=col>&lt;dbl&gt;</th><th scope=col>&lt;dbl&gt;</th><th scope=col>&lt;dbl&gt;</th><th scope=col>&lt;dbl&gt;</th><th scope=col>&lt;int&gt;</th><th scope=col>&lt;dbl&gt;</th></tr>\n",
       "</thead>\n",
       "<tbody>\n",
       "\t<tr><td> 0</td><td>4</td><td>1267</td><td>251</td><td>5</td><td>0</td><td>0</td><td>1</td><td>0</td><td>1</td><td>⋯</td><td>NA</td><td>NA</td><td>NA</td><td>NA</td><td>NA</td><td>NA</td><td>NA</td><td> NA</td><td>0</td><td>-0.3236627</td></tr>\n",
       "\t<tr><td> 1</td><td>4</td><td>1797</td><td>236</td><td>4</td><td>0</td><td>0</td><td>1</td><td>0</td><td>0</td><td>⋯</td><td>NA</td><td>NA</td><td>NA</td><td>NA</td><td>NA</td><td>NA</td><td>NA</td><td> 52</td><td>0</td><td> 0.8825137</td></tr>\n",
       "\t<tr><td> 2</td><td>4</td><td> 268</td><td> 18</td><td>3</td><td>0</td><td>0</td><td>0</td><td>0</td><td>1</td><td>⋯</td><td>NA</td><td>NA</td><td>NA</td><td>NA</td><td>NA</td><td>NA</td><td>NA</td><td> 81</td><td>0</td><td>-0.3854051</td></tr>\n",
       "\t<tr><td> 3</td><td>8</td><td> 422</td><td>323</td><td>3</td><td>0</td><td>0</td><td>0</td><td>0</td><td>0</td><td>⋯</td><td>NA</td><td>NA</td><td>NA</td><td>NA</td><td>NA</td><td>NA</td><td>NA</td><td> 97</td><td>0</td><td>-0.7070450</td></tr>\n",
       "\t<tr><td> 4</td><td>8</td><td>5073</td><td>252</td><td>3</td><td>0</td><td>0</td><td>0</td><td>0</td><td>0</td><td>⋯</td><td>NA</td><td>NA</td><td>NA</td><td>NA</td><td>NA</td><td>NA</td><td>NA</td><td>276</td><td>0</td><td> 1.0351860</td></tr>\n",
       "\t<tr><td> 5</td><td>8</td><td> 301</td><td>164</td><td>2</td><td>0</td><td>0</td><td>0</td><td>0</td><td>0</td><td>⋯</td><td>NA</td><td>NA</td><td>NA</td><td>NA</td><td>NA</td><td>NA</td><td>NA</td><td>193</td><td>0</td><td> 0.9617166</td></tr>\n",
       "\t<tr><td> 6</td><td>8</td><td> 242</td><td>238</td><td>1</td><td>0</td><td>0</td><td>0</td><td>0</td><td>0</td><td>⋯</td><td>NA</td><td>NA</td><td>NA</td><td>NA</td><td>NA</td><td>NA</td><td>NA</td><td> NA</td><td>0</td><td>-0.1145052</td></tr>\n",
       "\t<tr><td> 7</td><td>7</td><td> 226</td><td>168</td><td>9</td><td>0</td><td>0</td><td>0</td><td>0</td><td>1</td><td>⋯</td><td>NA</td><td>NA</td><td>NA</td><td>NA</td><td>NA</td><td>NA</td><td>NA</td><td> NA</td><td>0</td><td> 1.7684989</td></tr>\n",
       "\t<tr><td>10</td><td>8</td><td> 286</td><td>286</td><td>3</td><td>0</td><td>0</td><td>0</td><td>0</td><td>0</td><td>⋯</td><td>NA</td><td>NA</td><td>NA</td><td>NA</td><td>NA</td><td>NA</td><td>NA</td><td> NA</td><td>0</td><td>-1.1700000</td></tr>\n",
       "\t<tr><td>11</td><td>4</td><td> 272</td><td>223</td><td>3</td><td>0</td><td>0</td><td>0</td><td>1</td><td>0</td><td>⋯</td><td>NA</td><td>NA</td><td>NA</td><td>NA</td><td>NA</td><td>NA</td><td>NA</td><td> NA</td><td>0</td><td>-1.8968052</td></tr>\n",
       "</tbody>\n",
       "</table>\n"
      ],
      "text/latex": [
       "A tibble: 10 × 306\n",
       "\\begin{tabular}{lllllllllllllllllllll}\n",
       " ID & Capacidade\\_de\\_Pagamento\\_7 & tempo\\_desde\\_primeiro\\_contrato & tempo\\_desde\\_ultimo\\_contrato & QTD\\_SEGURO & QTD\\_OUTROS & QTD\\_CP\\_CONSIGNADO & QTD\\_CDCCG & QTD\\_CONTA\\_DIGITAL & QTD\\_CARTAO & ⋯ & GC\\_OfertaNegociacao\\_3m & CD\\_Boleto\\_3m & CX\\_Cliente\\_NaoCompreende\\_3m & PL\\_Sem\\_Condicoes\\_3m & NV\\_DC10\\_Cliente\\_alega\\_pagamento\\_3m & NV\\_FC\\_NEGOCIACAO\\_COM\\_SUCESSO\\_3m & NV\\_BP4\\_Informa\\_o\\_desconto\\_3m & Duracao\\_segundos & fl\\_renovou & VrFinanciamento\\\\\n",
       " <int> & <int> & <dbl> & <dbl> & <chr> & <int> & <int> & <int> & <int> & <int> & ⋯ & <dbl> & <dbl> & <dbl> & <dbl> & <dbl> & <dbl> & <dbl> & <dbl> & <int> & <dbl>\\\\\n",
       "\\hline\n",
       "\t  0 & 4 & 1267 & 251 & 5 & 0 & 0 & 1 & 0 & 1 & ⋯ & NA & NA & NA & NA & NA & NA & NA &  NA & 0 & -0.3236627\\\\\n",
       "\t  1 & 4 & 1797 & 236 & 4 & 0 & 0 & 1 & 0 & 0 & ⋯ & NA & NA & NA & NA & NA & NA & NA &  52 & 0 &  0.8825137\\\\\n",
       "\t  2 & 4 &  268 &  18 & 3 & 0 & 0 & 0 & 0 & 1 & ⋯ & NA & NA & NA & NA & NA & NA & NA &  81 & 0 & -0.3854051\\\\\n",
       "\t  3 & 8 &  422 & 323 & 3 & 0 & 0 & 0 & 0 & 0 & ⋯ & NA & NA & NA & NA & NA & NA & NA &  97 & 0 & -0.7070450\\\\\n",
       "\t  4 & 8 & 5073 & 252 & 3 & 0 & 0 & 0 & 0 & 0 & ⋯ & NA & NA & NA & NA & NA & NA & NA & 276 & 0 &  1.0351860\\\\\n",
       "\t  5 & 8 &  301 & 164 & 2 & 0 & 0 & 0 & 0 & 0 & ⋯ & NA & NA & NA & NA & NA & NA & NA & 193 & 0 &  0.9617166\\\\\n",
       "\t  6 & 8 &  242 & 238 & 1 & 0 & 0 & 0 & 0 & 0 & ⋯ & NA & NA & NA & NA & NA & NA & NA &  NA & 0 & -0.1145052\\\\\n",
       "\t  7 & 7 &  226 & 168 & 9 & 0 & 0 & 0 & 0 & 1 & ⋯ & NA & NA & NA & NA & NA & NA & NA &  NA & 0 &  1.7684989\\\\\n",
       "\t 10 & 8 &  286 & 286 & 3 & 0 & 0 & 0 & 0 & 0 & ⋯ & NA & NA & NA & NA & NA & NA & NA &  NA & 0 & -1.1700000\\\\\n",
       "\t 11 & 4 &  272 & 223 & 3 & 0 & 0 & 0 & 1 & 0 & ⋯ & NA & NA & NA & NA & NA & NA & NA &  NA & 0 & -1.8968052\\\\\n",
       "\\end{tabular}\n"
      ],
      "text/markdown": [
       "\n",
       "A tibble: 10 × 306\n",
       "\n",
       "| ID &lt;int&gt; | Capacidade_de_Pagamento_7 &lt;int&gt; | tempo_desde_primeiro_contrato &lt;dbl&gt; | tempo_desde_ultimo_contrato &lt;dbl&gt; | QTD_SEGURO &lt;chr&gt; | QTD_OUTROS &lt;int&gt; | QTD_CP_CONSIGNADO &lt;int&gt; | QTD_CDCCG &lt;int&gt; | QTD_CONTA_DIGITAL &lt;int&gt; | QTD_CARTAO &lt;int&gt; | ⋯ ⋯ | GC_OfertaNegociacao_3m &lt;dbl&gt; | CD_Boleto_3m &lt;dbl&gt; | CX_Cliente_NaoCompreende_3m &lt;dbl&gt; | PL_Sem_Condicoes_3m &lt;dbl&gt; | NV_DC10_Cliente_alega_pagamento_3m &lt;dbl&gt; | NV_FC_NEGOCIACAO_COM_SUCESSO_3m &lt;dbl&gt; | NV_BP4_Informa_o_desconto_3m &lt;dbl&gt; | Duracao_segundos &lt;dbl&gt; | fl_renovou &lt;int&gt; | VrFinanciamento &lt;dbl&gt; |\n",
       "|---|---|---|---|---|---|---|---|---|---|---|---|---|---|---|---|---|---|---|---|---|\n",
       "|  0 | 4 | 1267 | 251 | 5 | 0 | 0 | 1 | 0 | 1 | ⋯ | NA | NA | NA | NA | NA | NA | NA |  NA | 0 | -0.3236627 |\n",
       "|  1 | 4 | 1797 | 236 | 4 | 0 | 0 | 1 | 0 | 0 | ⋯ | NA | NA | NA | NA | NA | NA | NA |  52 | 0 |  0.8825137 |\n",
       "|  2 | 4 |  268 |  18 | 3 | 0 | 0 | 0 | 0 | 1 | ⋯ | NA | NA | NA | NA | NA | NA | NA |  81 | 0 | -0.3854051 |\n",
       "|  3 | 8 |  422 | 323 | 3 | 0 | 0 | 0 | 0 | 0 | ⋯ | NA | NA | NA | NA | NA | NA | NA |  97 | 0 | -0.7070450 |\n",
       "|  4 | 8 | 5073 | 252 | 3 | 0 | 0 | 0 | 0 | 0 | ⋯ | NA | NA | NA | NA | NA | NA | NA | 276 | 0 |  1.0351860 |\n",
       "|  5 | 8 |  301 | 164 | 2 | 0 | 0 | 0 | 0 | 0 | ⋯ | NA | NA | NA | NA | NA | NA | NA | 193 | 0 |  0.9617166 |\n",
       "|  6 | 8 |  242 | 238 | 1 | 0 | 0 | 0 | 0 | 0 | ⋯ | NA | NA | NA | NA | NA | NA | NA |  NA | 0 | -0.1145052 |\n",
       "|  7 | 7 |  226 | 168 | 9 | 0 | 0 | 0 | 0 | 1 | ⋯ | NA | NA | NA | NA | NA | NA | NA |  NA | 0 |  1.7684989 |\n",
       "| 10 | 8 |  286 | 286 | 3 | 0 | 0 | 0 | 0 | 0 | ⋯ | NA | NA | NA | NA | NA | NA | NA |  NA | 0 | -1.1700000 |\n",
       "| 11 | 4 |  272 | 223 | 3 | 0 | 0 | 0 | 1 | 0 | ⋯ | NA | NA | NA | NA | NA | NA | NA |  NA | 0 | -1.8968052 |\n",
       "\n"
      ],
      "text/plain": [
       "   ID Capacidade_de_Pagamento_7 tempo_desde_primeiro_contrato\n",
       "1   0 4                         1267                         \n",
       "2   1 4                         1797                         \n",
       "3   2 4                          268                         \n",
       "4   3 8                          422                         \n",
       "5   4 8                         5073                         \n",
       "6   5 8                          301                         \n",
       "7   6 8                          242                         \n",
       "8   7 7                          226                         \n",
       "9  10 8                          286                         \n",
       "10 11 4                          272                         \n",
       "   tempo_desde_ultimo_contrato QTD_SEGURO QTD_OUTROS QTD_CP_CONSIGNADO\n",
       "1  251                         5          0          0                \n",
       "2  236                         4          0          0                \n",
       "3   18                         3          0          0                \n",
       "4  323                         3          0          0                \n",
       "5  252                         3          0          0                \n",
       "6  164                         2          0          0                \n",
       "7  238                         1          0          0                \n",
       "8  168                         9          0          0                \n",
       "9  286                         3          0          0                \n",
       "10 223                         3          0          0                \n",
       "   QTD_CDCCG QTD_CONTA_DIGITAL QTD_CARTAO ⋯ GC_OfertaNegociacao_3m CD_Boleto_3m\n",
       "1  1         0                 1          ⋯ NA                     NA          \n",
       "2  1         0                 0          ⋯ NA                     NA          \n",
       "3  0         0                 1          ⋯ NA                     NA          \n",
       "4  0         0                 0          ⋯ NA                     NA          \n",
       "5  0         0                 0          ⋯ NA                     NA          \n",
       "6  0         0                 0          ⋯ NA                     NA          \n",
       "7  0         0                 0          ⋯ NA                     NA          \n",
       "8  0         0                 1          ⋯ NA                     NA          \n",
       "9  0         0                 0          ⋯ NA                     NA          \n",
       "10 0         1                 0          ⋯ NA                     NA          \n",
       "   CX_Cliente_NaoCompreende_3m PL_Sem_Condicoes_3m\n",
       "1  NA                          NA                 \n",
       "2  NA                          NA                 \n",
       "3  NA                          NA                 \n",
       "4  NA                          NA                 \n",
       "5  NA                          NA                 \n",
       "6  NA                          NA                 \n",
       "7  NA                          NA                 \n",
       "8  NA                          NA                 \n",
       "9  NA                          NA                 \n",
       "10 NA                          NA                 \n",
       "   NV_DC10_Cliente_alega_pagamento_3m NV_FC_NEGOCIACAO_COM_SUCESSO_3m\n",
       "1  NA                                 NA                             \n",
       "2  NA                                 NA                             \n",
       "3  NA                                 NA                             \n",
       "4  NA                                 NA                             \n",
       "5  NA                                 NA                             \n",
       "6  NA                                 NA                             \n",
       "7  NA                                 NA                             \n",
       "8  NA                                 NA                             \n",
       "9  NA                                 NA                             \n",
       "10 NA                                 NA                             \n",
       "   NV_BP4_Informa_o_desconto_3m Duracao_segundos fl_renovou VrFinanciamento\n",
       "1  NA                            NA              0          -0.3236627     \n",
       "2  NA                            52              0           0.8825137     \n",
       "3  NA                            81              0          -0.3854051     \n",
       "4  NA                            97              0          -0.7070450     \n",
       "5  NA                           276              0           1.0351860     \n",
       "6  NA                           193              0           0.9617166     \n",
       "7  NA                            NA              0          -0.1145052     \n",
       "8  NA                            NA              0           1.7684989     \n",
       "9  NA                            NA              0          -1.1700000     \n",
       "10 NA                            NA              0          -1.8968052     "
      ]
     },
     "metadata": {},
     "output_type": "display_data"
    }
   ],
   "source": [
    "# o comando abaixo retorna as 10 primeiras linhas\n",
    "sample <-bq_table_download(tb, n_max = 10)\n",
    "\n",
    "\n",
    "sample"
   ]
  },
  {
   "cell_type": "markdown",
   "id": "fa5fc993-68af-47d3-93c8-00ebce3c58eb",
   "metadata": {},
   "source": [
    "### Trazendo a base completa\n",
    "Para trazer a base completa precisamos quebrar em 2 partes"
   ]
  },
  {
   "cell_type": "code",
   "execution_count": null,
   "id": "5b3b02c2-e153-4d15-aa03-002ad910b401",
   "metadata": {},
   "outputs": [
    {
     "name": "stderr",
     "output_type": "stream",
     "text": [
      "\n",
      "Attaching package: ‘dplyr’\n",
      "\n",
      "\n",
      "The following objects are masked from ‘package:data.table’:\n",
      "\n",
      "    between, first, last\n",
      "\n",
      "\n",
      "The following objects are masked from ‘package:stats’:\n",
      "\n",
      "    filter, lag\n",
      "\n",
      "\n",
      "The following objects are masked from ‘package:base’:\n",
      "\n",
      "    intersect, setdiff, setequal, union\n",
      "\n",
      "\n"
     ]
    }
   ],
   "source": [
    "library(dplyr)"
   ]
  },
  {
   "cell_type": "code",
   "execution_count": null,
   "id": "97942bee-b915-475a-a07f-0240a3da0846",
   "metadata": {},
   "outputs": [],
   "source": [
    "#parte 1\n",
    "\n",
    "\n",
    "query <- \"SELECT * FROM `hacka-dados.hacka_dados.tabela_dados_hacka` where id <= 32000\"\n",
    "projectid <- \"hacka-357618\"\n",
    "tb <- bq_project_query(projectid, query)\n",
    "sample1 <-bq_table_download(tb, n_max = Inf)\n",
    "\n",
    "#parte 2\n",
    "\n",
    "\n",
    "query <- \"SELECT * FROM `hacka-dados.hacka_dados.tabela_dados_hacka` where id > 32000\"\n",
    "projectid <- \"hacka-357618\"\n",
    "tb <- bq_project_query(projectid, query)\n",
    "sample2 <-bq_table_download(tb, n_max = Inf)\n",
    "\n",
    "sample3 <- union_all(sample1, sample2)"
   ]
  },
  {
   "cell_type": "code",
   "execution_count": null,
   "id": "b8899c74-5523-42f1-9730-15ce07da1517",
   "metadata": {},
   "outputs": [],
   "source": [
    "count(sample3)"
   ]
  },
  {
   "cell_type": "markdown",
   "id": "45d765bd-1193-47eb-b1de-3dc07e07914b",
   "metadata": {},
   "source": [
    "________________________________"
   ]
  },
  {
   "cell_type": "markdown",
   "id": "2be53166-34e4-4d55-8e52-4dae7efda0a0",
   "metadata": {
    "tags": []
   },
   "source": [
    "# Escrevendo um df no banco de dados"
   ]
  },
  {
   "cell_type": "markdown",
   "id": "d7663395-41b6-4abb-8838-aebed1b8c942",
   "metadata": {},
   "source": [
    "1) eh necessario um criar um schema ou utilizar um ja criado -- CREATE SCHEMA NOME;\n",
    "\n",
    "2) Atualize a query abaixo, considerando nome_schema o nome do database que voce queira cria2) r"
   ]
  },
  {
   "cell_type": "markdown",
   "id": "c9153a9d-bf16-4f60-92c5-dda36554f794",
   "metadata": {},
   "source": [
    "#@bigquery\n",
    "create schema seu_schema options(location=\"us-central-1\"); --sem []\n",
    "\n",
    "\n",
    "create table `seu_schema.sua_base1` as\n",
    "select * from `hacka-357618.dataset.view_dados_hacka`  --dataset original"
   ]
  },
  {
   "cell_type": "markdown",
   "id": "38651cca-2b46-4e14-a619-acd5b63542ac",
   "metadata": {},
   "source": [
    "______________________"
   ]
  },
  {
   "cell_type": "markdown",
   "id": "b90a6812-1487-42f0-b8f9-e56cce85769d",
   "metadata": {},
   "source": [
    "# Como instalar uma lib \n",
    "No R, sao necessarios 2 passos: 1- instalar os pacotes e 2 - chama-los"
   ]
  },
  {
   "cell_type": "code",
   "execution_count": null,
   "id": "45fe0c4b-d7f7-4d2b-b9fc-0dd66a322615",
   "metadata": {},
   "outputs": [
    {
     "name": "stderr",
     "output_type": "stream",
     "text": [
      "Installing package into ‘/home/jupyter/.R/library’\n",
      "(as ‘lib’ is unspecified)\n",
      "\n",
      "also installing the dependencies ‘libcoin’, ‘mvtnorm’, ‘Formula’, ‘inum’\n",
      "\n",
      "\n"
     ]
    }
   ],
   "source": [
    "#instalando pacote partykit\n",
    "install.packages('partykit')"
   ]
  },
  {
   "cell_type": "code",
   "execution_count": null,
   "id": "e88f7662-d38c-48a1-a7ed-bf540b77a340",
   "metadata": {},
   "outputs": [
    {
     "name": "stderr",
     "output_type": "stream",
     "text": [
      "Loading required package: grid\n",
      "\n",
      "Loading required package: libcoin\n",
      "\n",
      "Loading required package: mvtnorm\n",
      "\n"
     ]
    }
   ],
   "source": [
    "#chamando pacote partykit\n",
    "library('partykit')"
   ]
  },
  {
   "cell_type": "markdown",
   "id": "13c1d577-3032-46b4-a0a6-261a57400853",
   "metadata": {},
   "source": [
    "# Como importar dados .csv externos\n",
    "Suponha que o arquivo seja `50_Startups.csv`"
   ]
  },
  {
   "cell_type": "code",
   "execution_count": null,
   "id": "6179f556-d9a7-41bc-ab8a-3559add1e361",
   "metadata": {},
   "outputs": [],
   "source": [
    "library(readr)\n"
   ]
  },
  {
   "cell_type": "markdown",
   "id": "76b7282e-5792-4a73-8f6a-befb4cfaebd9",
   "metadata": {},
   "source": [
    "1) Selecione a aba File Browser\n",
    "2) Suba o arquivo clicando na set para cima (Upload Files) ao lado do botao azul \n",
    "3) Selecione o arquivo \n"
   ]
  },
  {
   "cell_type": "code",
   "execution_count": null,
   "id": "70919b12-7467-448e-a94b-fb04bac1142f",
   "metadata": {},
   "outputs": [],
   "source": []
  },
  {
   "cell_type": "code",
   "execution_count": null,
   "id": "96d1b216-47de-42cf-9a64-359f027e925f",
   "metadata": {},
   "outputs": [],
   "source": [
    "MyData <- as.data.frame(fread(file=\"50_Startups.csv\",header=TRUE, sep = ','))"
   ]
  },
  {
   "cell_type": "code",
   "execution_count": null,
   "id": "6d7a33e4-9346-49ba-a667-5a6f779e8710",
   "metadata": {},
   "outputs": [
    {
     "data": {
      "text/html": [
       "<table class=\"dataframe\">\n",
       "<caption>A data.frame: 6 × 5</caption>\n",
       "<thead>\n",
       "\t<tr><th></th><th scope=col>R&amp;D Spend</th><th scope=col>Administration</th><th scope=col>Marketing Spend</th><th scope=col>State</th><th scope=col>Profit</th></tr>\n",
       "\t<tr><th></th><th scope=col>&lt;dbl&gt;</th><th scope=col>&lt;dbl&gt;</th><th scope=col>&lt;dbl&gt;</th><th scope=col>&lt;chr&gt;</th><th scope=col>&lt;dbl&gt;</th></tr>\n",
       "</thead>\n",
       "<tbody>\n",
       "\t<tr><th scope=row>1</th><td>165349.2</td><td>136897.80</td><td>471784.1</td><td>New York  </td><td>192261.8</td></tr>\n",
       "\t<tr><th scope=row>2</th><td>162597.7</td><td>151377.59</td><td>443898.5</td><td>California</td><td>191792.1</td></tr>\n",
       "\t<tr><th scope=row>3</th><td>153441.5</td><td>101145.55</td><td>407934.5</td><td>Florida   </td><td>191050.4</td></tr>\n",
       "\t<tr><th scope=row>4</th><td>144372.4</td><td>118671.85</td><td>383199.6</td><td>New York  </td><td>182902.0</td></tr>\n",
       "\t<tr><th scope=row>5</th><td>142107.3</td><td> 91391.77</td><td>366168.4</td><td>Florida   </td><td>166187.9</td></tr>\n",
       "\t<tr><th scope=row>6</th><td>131876.9</td><td> 99814.71</td><td>362861.4</td><td>New York  </td><td>156991.1</td></tr>\n",
       "</tbody>\n",
       "</table>\n"
      ],
      "text/latex": [
       "A data.frame: 6 × 5\n",
       "\\begin{tabular}{r|lllll}\n",
       "  & R\\&D Spend & Administration & Marketing Spend & State & Profit\\\\\n",
       "  & <dbl> & <dbl> & <dbl> & <chr> & <dbl>\\\\\n",
       "\\hline\n",
       "\t1 & 165349.2 & 136897.80 & 471784.1 & New York   & 192261.8\\\\\n",
       "\t2 & 162597.7 & 151377.59 & 443898.5 & California & 191792.1\\\\\n",
       "\t3 & 153441.5 & 101145.55 & 407934.5 & Florida    & 191050.4\\\\\n",
       "\t4 & 144372.4 & 118671.85 & 383199.6 & New York   & 182902.0\\\\\n",
       "\t5 & 142107.3 &  91391.77 & 366168.4 & Florida    & 166187.9\\\\\n",
       "\t6 & 131876.9 &  99814.71 & 362861.4 & New York   & 156991.1\\\\\n",
       "\\end{tabular}\n"
      ],
      "text/markdown": [
       "\n",
       "A data.frame: 6 × 5\n",
       "\n",
       "| <!--/--> | R&amp;D Spend &lt;dbl&gt; | Administration &lt;dbl&gt; | Marketing Spend &lt;dbl&gt; | State &lt;chr&gt; | Profit &lt;dbl&gt; |\n",
       "|---|---|---|---|---|---|\n",
       "| 1 | 165349.2 | 136897.80 | 471784.1 | New York   | 192261.8 |\n",
       "| 2 | 162597.7 | 151377.59 | 443898.5 | California | 191792.1 |\n",
       "| 3 | 153441.5 | 101145.55 | 407934.5 | Florida    | 191050.4 |\n",
       "| 4 | 144372.4 | 118671.85 | 383199.6 | New York   | 182902.0 |\n",
       "| 5 | 142107.3 |  91391.77 | 366168.4 | Florida    | 166187.9 |\n",
       "| 6 | 131876.9 |  99814.71 | 362861.4 | New York   | 156991.1 |\n",
       "\n"
      ],
      "text/plain": [
       "  R&D Spend Administration Marketing Spend State      Profit  \n",
       "1 165349.2  136897.80      471784.1        New York   192261.8\n",
       "2 162597.7  151377.59      443898.5        California 191792.1\n",
       "3 153441.5  101145.55      407934.5        Florida    191050.4\n",
       "4 144372.4  118671.85      383199.6        New York   182902.0\n",
       "5 142107.3   91391.77      366168.4        Florida    166187.9\n",
       "6 131876.9   99814.71      362861.4        New York   156991.1"
      ]
     },
     "metadata": {},
     "output_type": "display_data"
    }
   ],
   "source": [
    "head(MyData)"
   ]
  },
  {
   "cell_type": "code",
   "execution_count": null,
   "id": "8d67b630-7fcd-4e48-9436-b83dd22be32d",
   "metadata": {},
   "outputs": [],
   "source": []
  },
  {
   "cell_type": "markdown",
   "id": "08309861-83b5-4e76-b7c6-42a5caab4ac7",
   "metadata": {},
   "source": [
    "# Salvando figuras no computador Local"
   ]
  },
  {
   "cell_type": "code",
   "execution_count": null,
   "id": "2eaa8732-e91f-4f5d-9644-2d5ef9194b53",
   "metadata": {},
   "outputs": [],
   "source": [
    "library(ggplot2)"
   ]
  },
  {
   "cell_type": "code",
   "execution_count": null,
   "id": "5221d5a4-eadb-4dee-86a8-da01dab6613a",
   "metadata": {},
   "outputs": [
    {
     "data": {
      "image/png": "[encoded data removed]",
      "text/plain": [
       "plot without title"
      ]
     },
     "metadata": {
      "image/png": {
       "height": 420,
       "width": 420
      }
     },
     "output_type": "display_data"
    }
   ],
   "source": [
    "p<-ggplot(MyData, aes(x=State, y=Profit)) +\n",
    "  geom_bar(stat=\"identity\")+theme_minimal()\n",
    "p"
   ]
  },
  {
   "cell_type": "code",
   "execution_count": null,
   "id": "a934015b-4e76-46c8-bbfa-d910b34e38ee",
   "metadata": {},
   "outputs": [
    {
     "data": {
      "text/html": [
       "<strong>png:</strong> 2"
      ],
      "text/latex": [
       "\\textbf{png:} 2"
      ],
      "text/markdown": [
       "**png:** 2"
      ],
      "text/plain": [
       "png \n",
       "  2 "
      ]
     },
     "metadata": {},
     "output_type": "display_data"
    }
   ],
   "source": [
    "#Salvando\n",
    "\n",
    "png(\"myplot_R.png\")\n",
    "print(p)\n",
    "dev.off()"
   ]
  },
  {
   "cell_type": "markdown",
   "id": "f2ab8d4c-672a-4619-a385-2f6f3296f8d3",
   "metadata": {},
   "source": [
    "# Treinando um modelo simples"
   ]
  },
  {
   "cell_type": "code",
   "execution_count": null,
   "id": "ac480c0a-9fb6-44b1-a1bc-bde63f32d8b4",
   "metadata": {},
   "outputs": [
    {
     "data": {
      "text/html": [
       "<table class=\"dataframe\">\n",
       "<caption>A tibble: 6 × 5</caption>\n",
       "<thead>\n",
       "\t<tr><th scope=col>Capacidade_de_Pagamento_7</th><th scope=col>tempo_desde_primeiro_contrato</th><th scope=col>tempo_desde_ultimo_contrato</th><th scope=col>QTD_OUTROS</th><th scope=col>VrFinanciamento</th></tr>\n",
       "\t<tr><th scope=col>&lt;int&gt;</th><th scope=col>&lt;dbl&gt;</th><th scope=col>&lt;dbl&gt;</th><th scope=col>&lt;int&gt;</th><th scope=col>&lt;dbl&gt;</th></tr>\n",
       "</thead>\n",
       "<tbody>\n",
       "\t<tr><td>4</td><td>1267</td><td>251</td><td>0</td><td>-0.3236627</td></tr>\n",
       "\t<tr><td>4</td><td>1797</td><td>236</td><td>0</td><td> 0.8825137</td></tr>\n",
       "\t<tr><td>4</td><td> 268</td><td> 18</td><td>0</td><td>-0.3854051</td></tr>\n",
       "\t<tr><td>8</td><td> 422</td><td>323</td><td>0</td><td>-0.7070450</td></tr>\n",
       "\t<tr><td>8</td><td>5073</td><td>252</td><td>0</td><td> 1.0351860</td></tr>\n",
       "\t<tr><td>8</td><td> 301</td><td>164</td><td>0</td><td> 0.9617166</td></tr>\n",
       "</tbody>\n",
       "</table>\n"
      ],
      "text/latex": [
       "A tibble: 6 × 5\n",
       "\\begin{tabular}{lllll}\n",
       " Capacidade\\_de\\_Pagamento\\_7 & tempo\\_desde\\_primeiro\\_contrato & tempo\\_desde\\_ultimo\\_contrato & QTD\\_OUTROS & VrFinanciamento\\\\\n",
       " <int> & <dbl> & <dbl> & <int> & <dbl>\\\\\n",
       "\\hline\n",
       "\t 4 & 1267 & 251 & 0 & -0.3236627\\\\\n",
       "\t 4 & 1797 & 236 & 0 &  0.8825137\\\\\n",
       "\t 4 &  268 &  18 & 0 & -0.3854051\\\\\n",
       "\t 8 &  422 & 323 & 0 & -0.7070450\\\\\n",
       "\t 8 & 5073 & 252 & 0 &  1.0351860\\\\\n",
       "\t 8 &  301 & 164 & 0 &  0.9617166\\\\\n",
       "\\end{tabular}\n"
      ],
      "text/markdown": [
       "\n",
       "A tibble: 6 × 5\n",
       "\n",
       "| Capacidade_de_Pagamento_7 &lt;int&gt; | tempo_desde_primeiro_contrato &lt;dbl&gt; | tempo_desde_ultimo_contrato &lt;dbl&gt; | QTD_OUTROS &lt;int&gt; | VrFinanciamento &lt;dbl&gt; |\n",
       "|---|---|---|---|---|\n",
       "| 4 | 1267 | 251 | 0 | -0.3236627 |\n",
       "| 4 | 1797 | 236 | 0 |  0.8825137 |\n",
       "| 4 |  268 |  18 | 0 | -0.3854051 |\n",
       "| 8 |  422 | 323 | 0 | -0.7070450 |\n",
       "| 8 | 5073 | 252 | 0 |  1.0351860 |\n",
       "| 8 |  301 | 164 | 0 |  0.9617166 |\n",
       "\n"
      ],
      "text/plain": [
       "  Capacidade_de_Pagamento_7 tempo_desde_primeiro_contrato\n",
       "1 4                         1267                         \n",
       "2 4                         1797                         \n",
       "3 4                          268                         \n",
       "4 8                          422                         \n",
       "5 8                         5073                         \n",
       "6 8                          301                         \n",
       "  tempo_desde_ultimo_contrato QTD_OUTROS VrFinanciamento\n",
       "1 251                         0          -0.3236627     \n",
       "2 236                         0           0.8825137     \n",
       "3  18                         0          -0.3854051     \n",
       "4 323                         0          -0.7070450     \n",
       "5 252                         0           1.0351860     \n",
       "6 164                         0           0.9617166     "
      ]
     },
     "metadata": {},
     "output_type": "display_data"
    }
   ],
   "source": [
    "head(sample3[,colunas])"
   ]
  },
  {
   "cell_type": "code",
   "execution_count": null,
   "id": "74409053-e48f-4918-b813-0988c5d64715",
   "metadata": {},
   "outputs": [],
   "source": [
    "library(dplyr)"
   ]
  },
  {
   "cell_type": "code",
   "execution_count": null,
   "id": "d33bf3f9-3d4e-4fa6-a22d-dca225184e2c",
   "metadata": {},
   "outputs": [],
   "source": [
    "#regressao logistica\n",
    "\n",
    "colunas = c('Capacidade_de_Pagamento_7','tempo_desde_primeiro_contrato','tempo_desde_ultimo_contrato','QTD_OUTROS','VrFinanciamento', 'fl_renovou')\n",
    "\n",
    "modelo1 <- glm(fl_renovou ~ ., data = sample3[,colunas],family = binomial(link = \"logit\"))"
   ]
  },
  {
   "cell_type": "code",
   "execution_count": null,
   "id": "1710625e-8e84-4a2b-bab4-0c0780a04952",
   "metadata": {},
   "outputs": [
    {
     "data": {
      "text/plain": [
       "\n",
       "Call:  glm(formula = fl_renovou ~ ., family = binomial(link = \"logit\"), \n",
       "    data = sample3[, colunas])\n",
       "\n",
       "Coefficients:\n",
       "                  (Intercept)      Capacidade_de_Pagamento_7  \n",
       "                   -2.893e+00                     -3.502e-02  \n",
       "tempo_desde_primeiro_contrato    tempo_desde_ultimo_contrato  \n",
       "                    3.278e-05                     -1.723e-03  \n",
       "                   QTD_OUTROS                VrFinanciamento  \n",
       "                   -2.456e-01                      1.546e-01  \n",
       "\n",
       "Degrees of Freedom: 49998 Total (i.e. Null);  49993 Residual\n",
       "  (1 observation deleted due to missingness)\n",
       "Null Deviance:\t    14090 \n",
       "Residual Deviance: 14020 \tAIC: 14040"
      ]
     },
     "metadata": {},
     "output_type": "display_data"
    }
   ],
   "source": [
    "modelo1"
   ]
  },
  {
   "cell_type": "code",
   "execution_count": null,
   "id": "6994c989-653e-4600-bf0e-003cd8372c5c",
   "metadata": {},
   "outputs": [
    {
     "data": {
      "text/plain": [
       "\n",
       "Call:\n",
       "glm(formula = fl_renovou ~ ., family = binomial(link = \"logit\"), \n",
       "    data = sample3[, colunas])\n",
       "\n",
       "Deviance Residuals: \n",
       "    Min       1Q   Median       3Q      Max  \n",
       "-0.3956  -0.2686  -0.2493  -0.2321   2.8435  \n",
       "\n",
       "Coefficients:\n",
       "                                Estimate Std. Error z value Pr(>|z|)    \n",
       "(Intercept)                   -2.893e+00  1.428e-01 -20.252  < 2e-16 ***\n",
       "Capacidade_de_Pagamento_7     -3.502e-02  1.622e-02  -2.159   0.0309 *  \n",
       "tempo_desde_primeiro_contrato  3.278e-05  1.412e-05   2.322   0.0202 *  \n",
       "tempo_desde_ultimo_contrato   -1.723e-03  3.534e-04  -4.876 1.08e-06 ***\n",
       "QTD_OUTROS                    -2.456e-01  2.546e-01  -0.965   0.3347    \n",
       "VrFinanciamento                1.546e-01  2.591e-02   5.967 2.41e-09 ***\n",
       "---\n",
       "Signif. codes:  0 ‘***’ 0.001 ‘**’ 0.01 ‘*’ 0.05 ‘.’ 0.1 ‘ ’ 1\n",
       "\n",
       "(Dispersion parameter for binomial family taken to be 1)\n",
       "\n",
       "    Null deviance: 14094  on 49998  degrees of freedom\n",
       "Residual deviance: 14025  on 49993  degrees of freedom\n",
       "  (1 observation deleted due to missingness)\n",
       "AIC: 14037\n",
       "\n",
       "Number of Fisher Scoring iterations: 6\n"
      ]
     },
     "metadata": {},
     "output_type": "display_data"
    }
   ],
   "source": [
    "summary(modelo1)"
   ]
  },
  {
   "cell_type": "markdown",
   "id": "dcc280bb-8519-46e2-93b6-31ed038aeb92",
   "metadata": {},
   "source": [
    "# Visualizando os resultados dados\n",
    "Nesse exemplo, fazendo a matriz de correlacao"
   ]
  },
  {
   "cell_type": "code",
   "execution_count": null,
   "id": "562e9fef-c633-421c-8770-56f2ff1e65be",
   "metadata": {},
   "outputs": [
    {
     "data": {
      "text/plain": [
       "   predito2\n",
       "        0     1\n",
       "  0 21513 26896\n",
       "  1   592   998"
      ]
     },
     "metadata": {},
     "output_type": "display_data"
    }
   ],
   "source": [
    "\n",
    "predito <- predict(modelo1, sample3, type=\"response\")\n",
    "\n",
    "#considerando o corte em .03\n",
    "predito2 <- ifelse(predito>.03,1,0)\n",
    "\n",
    "#create confusion matrix\n",
    "table(sample3$fl_renovou, predito2)\n",
    "\n"
   ]
  },
  {
   "cell_type": "code",
   "execution_count": null,
   "id": "b5e3e3dd-589b-4ca3-94b8-12ee607c784f",
   "metadata": {},
   "outputs": [],
   "source": []
  }
 ],
 "metadata": {
  "kernelspec": {
   "display_name": "R (Local)",
   "language": "R",
   "name": "local-r"
  },
  "language_info": {
   "codemirror_mode": "r",
   "file_extension": ".r",
   "mimetype": "text/x-r-source",
   "name": "R",
   "pygments_lexer": "r",
   "version": "4.2.0"
  }
 },
 "nbformat": 4,
 "nbformat_minor": 5
}
